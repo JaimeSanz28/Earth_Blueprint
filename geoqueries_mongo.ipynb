{
 "cells": [
  {
   "cell_type": "markdown",
   "metadata": {},
   "source": [
    "  # OPTIMAL LOCATION FOR GAMEBUSTER"
   ]
  },
  {
   "cell_type": "code",
   "execution_count": 1,
   "metadata": {},
   "outputs": [],
   "source": [
    "import pandas as pd\n",
    "import numpy as np\n",
    "import json, requests\n",
    "import os\n",
    "from dotenv import load_dotenv\n",
    "load_dotenv()\n",
    "import requests\n",
    "from pandas.io.json import json_normalize"
   ]
  },
  {
   "cell_type": "markdown",
   "metadata": {},
   "source": [
    "## Import *companies* from Mongodb"
   ]
  },
  {
   "cell_type": "code",
   "execution_count": 2,
   "metadata": {},
   "outputs": [],
   "source": [
    "from pymongo import MongoClient\n",
    "dbName = \"companies\"\n",
    "mongodbURL = f\"mongodb://localhost/{dbName}\"\n",
    "client = MongoClient(mongodbURL, connectTimeoutMS=2000, serverSelectionTimeoutMS=2000)\n",
    "db = client.get_database()\n",
    "cursor = db.list_collections()\n",
    "from pymongo import ASCENDING, DESCENDING"
   ]
  },
  {
   "cell_type": "markdown",
   "metadata": {},
   "source": [
    "--------"
   ]
  },
  {
   "cell_type": "markdown",
   "metadata": {},
   "source": [
    "## Query tech startups with $1M+, younger than 15yrs old"
   ]
  },
  {
   "cell_type": "code",
   "execution_count": 3,
   "metadata": {},
   "outputs": [],
   "source": [
    "cur = ({\"$and\":[{\"total_money_raised\":{\"$regex\":\"(\\$\\d+\\M)\"}}, \n",
    "               {\"founded_year\":{\"$gte\":2005}},\n",
    "               {\"category_code\":{\"$in\":[\"games_video\",\"software\",\"mobile\",\"social\",\"network_hosting\",\"ecommerce\", \"web\"]}}]})\n",
    "\n",
    "startups = list(db[\"companies\"].find(cur,{\"_id\":0,\"name\":1, \"category_code\":1, \"total_money_raised\":1, \"offices\":1}))"
   ]
  },
  {
   "cell_type": "markdown",
   "metadata": {},
   "source": [
    "----------"
   ]
  },
  {
   "cell_type": "markdown",
   "metadata": {},
   "source": [
    "## Moving those companies to a data frame"
   ]
  },
  {
   "cell_type": "code",
   "execution_count": 4,
   "metadata": {},
   "outputs": [],
   "source": [
    "sus = pd.DataFrame(startups)"
   ]
  },
  {
   "cell_type": "code",
   "execution_count": 5,
   "metadata": {},
   "outputs": [
    {
     "data": {
      "text/html": [
       "<div>\n",
       "<style scoped>\n",
       "    .dataframe tbody tr th:only-of-type {\n",
       "        vertical-align: middle;\n",
       "    }\n",
       "\n",
       "    .dataframe tbody tr th {\n",
       "        vertical-align: top;\n",
       "    }\n",
       "\n",
       "    .dataframe thead th {\n",
       "        text-align: right;\n",
       "    }\n",
       "</style>\n",
       "<table border=\"1\" class=\"dataframe\">\n",
       "  <thead>\n",
       "    <tr style=\"text-align: right;\">\n",
       "      <th></th>\n",
       "      <th>name</th>\n",
       "      <th>category_code</th>\n",
       "      <th>total_money_raised</th>\n",
       "      <th>offices</th>\n",
       "    </tr>\n",
       "  </thead>\n",
       "  <tbody>\n",
       "    <tr>\n",
       "      <th>0</th>\n",
       "      <td>Joost</td>\n",
       "      <td>games_video</td>\n",
       "      <td>$45M</td>\n",
       "      <td>[{'description': '', 'address1': '100 5th Ave ...</td>\n",
       "    </tr>\n",
       "    <tr>\n",
       "      <th>1</th>\n",
       "      <td>Mahalo</td>\n",
       "      <td>web</td>\n",
       "      <td>$21M</td>\n",
       "      <td>[{'description': '', 'address1': '3525 Eastham...</td>\n",
       "    </tr>\n",
       "    <tr>\n",
       "      <th>2</th>\n",
       "      <td>Thoof</td>\n",
       "      <td>web</td>\n",
       "      <td>$1M</td>\n",
       "      <td>[{'description': None, 'address1': None, 'addr...</td>\n",
       "    </tr>\n",
       "    <tr>\n",
       "      <th>3</th>\n",
       "      <td>Jangl SMS</td>\n",
       "      <td>web</td>\n",
       "      <td>$9M</td>\n",
       "      <td>[{'description': '', 'address1': '6601 Owens D...</td>\n",
       "    </tr>\n",
       "    <tr>\n",
       "      <th>4</th>\n",
       "      <td>Jajah</td>\n",
       "      <td>mobile</td>\n",
       "      <td>$33M</td>\n",
       "      <td>[{'description': 'Jajah HQ', 'address1': '2513...</td>\n",
       "    </tr>\n",
       "  </tbody>\n",
       "</table>\n",
       "</div>"
      ],
      "text/plain": [
       "        name category_code total_money_raised  \\\n",
       "0      Joost   games_video               $45M   \n",
       "1     Mahalo           web               $21M   \n",
       "2      Thoof           web                $1M   \n",
       "3  Jangl SMS           web                $9M   \n",
       "4      Jajah        mobile               $33M   \n",
       "\n",
       "                                             offices  \n",
       "0  [{'description': '', 'address1': '100 5th Ave ...  \n",
       "1  [{'description': '', 'address1': '3525 Eastham...  \n",
       "2  [{'description': None, 'address1': None, 'addr...  \n",
       "3  [{'description': '', 'address1': '6601 Owens D...  \n",
       "4  [{'description': 'Jajah HQ', 'address1': '2513...  "
      ]
     },
     "execution_count": 5,
     "metadata": {},
     "output_type": "execute_result"
    }
   ],
   "source": [
    "sus.head(5)"
   ]
  },
  {
   "cell_type": "markdown",
   "metadata": {},
   "source": [
    "-----------"
   ]
  },
  {
   "cell_type": "markdown",
   "metadata": {},
   "source": [
    "## Explode the df to transform each element of a list-like to a row, replicating index values          \n",
    "**('Offices' column is full of dicts inside lists)**"
   ]
  },
  {
   "cell_type": "code",
   "execution_count": 6,
   "metadata": {},
   "outputs": [],
   "source": [
    "sus = sus.explode(\"offices\")"
   ]
  },
  {
   "cell_type": "markdown",
   "metadata": {},
   "source": [
    "---------"
   ]
  },
  {
   "cell_type": "markdown",
   "metadata": {},
   "source": [
    "## Expand the offices column in order to separate each element within a row"
   ]
  },
  {
   "cell_type": "code",
   "execution_count": 10,
   "metadata": {},
   "outputs": [
    {
     "data": {
      "text/html": [
       "<div>\n",
       "<style scoped>\n",
       "    .dataframe tbody tr th:only-of-type {\n",
       "        vertical-align: middle;\n",
       "    }\n",
       "\n",
       "    .dataframe tbody tr th {\n",
       "        vertical-align: top;\n",
       "    }\n",
       "\n",
       "    .dataframe thead th {\n",
       "        text-align: right;\n",
       "    }\n",
       "</style>\n",
       "<table border=\"1\" class=\"dataframe\">\n",
       "  <thead>\n",
       "    <tr style=\"text-align: right;\">\n",
       "      <th></th>\n",
       "      <th>description</th>\n",
       "      <th>address1</th>\n",
       "      <th>address2</th>\n",
       "      <th>zip_code</th>\n",
       "      <th>city</th>\n",
       "      <th>state_code</th>\n",
       "      <th>country_code</th>\n",
       "      <th>latitude</th>\n",
       "      <th>longitude</th>\n",
       "    </tr>\n",
       "  </thead>\n",
       "  <tbody>\n",
       "    <tr>\n",
       "      <th>0</th>\n",
       "      <td></td>\n",
       "      <td>100 5th Ave Fl 6</td>\n",
       "      <td></td>\n",
       "      <td>10011-6903</td>\n",
       "      <td>New York</td>\n",
       "      <td>NY</td>\n",
       "      <td>USA</td>\n",
       "      <td>40.746497</td>\n",
       "      <td>-74.009447</td>\n",
       "    </tr>\n",
       "    <tr>\n",
       "      <th>1</th>\n",
       "      <td></td>\n",
       "      <td>3525 Eastham Dr.</td>\n",
       "      <td></td>\n",
       "      <td>90232</td>\n",
       "      <td>Culver City</td>\n",
       "      <td>CA</td>\n",
       "      <td>USA</td>\n",
       "      <td>34.017606</td>\n",
       "      <td>-118.487267</td>\n",
       "    </tr>\n",
       "    <tr>\n",
       "      <th>2</th>\n",
       "      <td>None</td>\n",
       "      <td>None</td>\n",
       "      <td>None</td>\n",
       "      <td>None</td>\n",
       "      <td>Austin</td>\n",
       "      <td>TX</td>\n",
       "      <td>USA</td>\n",
       "      <td>30.268735</td>\n",
       "      <td>-97.745209</td>\n",
       "    </tr>\n",
       "    <tr>\n",
       "      <th>3</th>\n",
       "      <td></td>\n",
       "      <td>6601 Owens Dr # 240</td>\n",
       "      <td></td>\n",
       "      <td>94588</td>\n",
       "      <td>Pleasanton</td>\n",
       "      <td>CA</td>\n",
       "      <td>USA</td>\n",
       "      <td>37.697805</td>\n",
       "      <td>-121.907768</td>\n",
       "    </tr>\n",
       "    <tr>\n",
       "      <th>4</th>\n",
       "      <td>Jajah HQ</td>\n",
       "      <td>2513 Charleston Road</td>\n",
       "      <td>Suite 102</td>\n",
       "      <td>94043</td>\n",
       "      <td>Mountain View</td>\n",
       "      <td>CA</td>\n",
       "      <td>USA</td>\n",
       "      <td>37.423390</td>\n",
       "      <td>-122.089951</td>\n",
       "    </tr>\n",
       "  </tbody>\n",
       "</table>\n",
       "</div>"
      ],
      "text/plain": [
       "  description              address1   address2    zip_code           city  \\\n",
       "0                  100 5th Ave Fl 6             10011-6903       New York   \n",
       "1                  3525 Eastham Dr.                  90232    Culver City   \n",
       "2        None                  None       None        None         Austin   \n",
       "3               6601 Owens Dr # 240                  94588     Pleasanton   \n",
       "4    Jajah HQ  2513 Charleston Road  Suite 102       94043  Mountain View   \n",
       "\n",
       "  state_code country_code   latitude   longitude  \n",
       "0         NY          USA  40.746497  -74.009447  \n",
       "1         CA          USA  34.017606 -118.487267  \n",
       "2         TX          USA  30.268735  -97.745209  \n",
       "3         CA          USA  37.697805 -121.907768  \n",
       "4         CA          USA  37.423390 -122.089951  "
      ]
     },
     "execution_count": 10,
     "metadata": {},
     "output_type": "execute_result"
    }
   ],
   "source": [
    "coor_offi = sus.apply(lambda e: e.offices,axis=1,result_type=\"expand\")\n",
    "coor_offi.head(5)"
   ]
  },
  {
   "cell_type": "markdown",
   "metadata": {},
   "source": [
    "------------"
   ]
  },
  {
   "cell_type": "markdown",
   "metadata": {},
   "source": [
    "## Concat both data frames"
   ]
  },
  {
   "cell_type": "code",
   "execution_count": 20,
   "metadata": {},
   "outputs": [
    {
     "data": {
      "text/html": [
       "<div>\n",
       "<style scoped>\n",
       "    .dataframe tbody tr th:only-of-type {\n",
       "        vertical-align: middle;\n",
       "    }\n",
       "\n",
       "    .dataframe tbody tr th {\n",
       "        vertical-align: top;\n",
       "    }\n",
       "\n",
       "    .dataframe thead th {\n",
       "        text-align: right;\n",
       "    }\n",
       "</style>\n",
       "<table border=\"1\" class=\"dataframe\">\n",
       "  <thead>\n",
       "    <tr style=\"text-align: right;\">\n",
       "      <th></th>\n",
       "      <th>name</th>\n",
       "      <th>category_code</th>\n",
       "      <th>total_money_raised</th>\n",
       "      <th>description</th>\n",
       "      <th>address1</th>\n",
       "      <th>address2</th>\n",
       "      <th>zip_code</th>\n",
       "      <th>city</th>\n",
       "      <th>state_code</th>\n",
       "      <th>country_code</th>\n",
       "      <th>latitude</th>\n",
       "      <th>longitude</th>\n",
       "    </tr>\n",
       "  </thead>\n",
       "  <tbody>\n",
       "    <tr>\n",
       "      <th>0</th>\n",
       "      <td>Joost</td>\n",
       "      <td>games_video</td>\n",
       "      <td>$45M</td>\n",
       "      <td></td>\n",
       "      <td>100 5th Ave Fl 6</td>\n",
       "      <td></td>\n",
       "      <td>10011-6903</td>\n",
       "      <td>New York</td>\n",
       "      <td>NY</td>\n",
       "      <td>USA</td>\n",
       "      <td>40.746497</td>\n",
       "      <td>-74.009447</td>\n",
       "    </tr>\n",
       "    <tr>\n",
       "      <th>1</th>\n",
       "      <td>Mahalo</td>\n",
       "      <td>web</td>\n",
       "      <td>$21M</td>\n",
       "      <td></td>\n",
       "      <td>3525 Eastham Dr.</td>\n",
       "      <td></td>\n",
       "      <td>90232</td>\n",
       "      <td>Culver City</td>\n",
       "      <td>CA</td>\n",
       "      <td>USA</td>\n",
       "      <td>34.017606</td>\n",
       "      <td>-118.487267</td>\n",
       "    </tr>\n",
       "    <tr>\n",
       "      <th>2</th>\n",
       "      <td>Thoof</td>\n",
       "      <td>web</td>\n",
       "      <td>$1M</td>\n",
       "      <td>None</td>\n",
       "      <td>None</td>\n",
       "      <td>None</td>\n",
       "      <td>None</td>\n",
       "      <td>Austin</td>\n",
       "      <td>TX</td>\n",
       "      <td>USA</td>\n",
       "      <td>30.268735</td>\n",
       "      <td>-97.745209</td>\n",
       "    </tr>\n",
       "  </tbody>\n",
       "</table>\n",
       "</div>"
      ],
      "text/plain": [
       "     name category_code total_money_raised description          address1  \\\n",
       "0   Joost   games_video               $45M              100 5th Ave Fl 6   \n",
       "1  Mahalo           web               $21M              3525 Eastham Dr.   \n",
       "2   Thoof           web                $1M        None              None   \n",
       "\n",
       "  address2    zip_code         city state_code country_code   latitude  \\\n",
       "0           10011-6903     New York         NY          USA  40.746497   \n",
       "1                90232  Culver City         CA          USA  34.017606   \n",
       "2     None        None       Austin         TX          USA  30.268735   \n",
       "\n",
       "    longitude  \n",
       "0  -74.009447  \n",
       "1 -118.487267  \n",
       "2  -97.745209  "
      ]
     },
     "execution_count": 20,
     "metadata": {},
     "output_type": "execute_result"
    }
   ],
   "source": [
    "sus_coor = pd.concat([sus[[\"name\", \"category_code\", \"total_money_raised\"]], coor_offi], axis=1)\n",
    "sus_coor.head(3)"
   ]
  },
  {
   "cell_type": "markdown",
   "metadata": {},
   "source": [
    "------------"
   ]
  },
  {
   "cell_type": "markdown",
   "metadata": {},
   "source": [
    "## Transforming the latitude and longitude to standard GeoJSON Point\n",
    "\n",
    "**=> {type:\"Point\", coordinates: [lat, long]}**"
   ]
  },
  {
   "cell_type": "code",
   "execution_count": 24,
   "metadata": {},
   "outputs": [
    {
     "data": {
      "text/html": [
       "<div>\n",
       "<style scoped>\n",
       "    .dataframe tbody tr th:only-of-type {\n",
       "        vertical-align: middle;\n",
       "    }\n",
       "\n",
       "    .dataframe tbody tr th {\n",
       "        vertical-align: top;\n",
       "    }\n",
       "\n",
       "    .dataframe thead th {\n",
       "        text-align: right;\n",
       "    }\n",
       "</style>\n",
       "<table border=\"1\" class=\"dataframe\">\n",
       "  <thead>\n",
       "    <tr style=\"text-align: right;\">\n",
       "      <th></th>\n",
       "      <th>name</th>\n",
       "      <th>category_code</th>\n",
       "      <th>total_money_raised</th>\n",
       "      <th>description</th>\n",
       "      <th>address1</th>\n",
       "      <th>address2</th>\n",
       "      <th>zip_code</th>\n",
       "      <th>city</th>\n",
       "      <th>state_code</th>\n",
       "      <th>country_code</th>\n",
       "      <th>latitude</th>\n",
       "      <th>longitude</th>\n",
       "      <th>geopoint</th>\n",
       "    </tr>\n",
       "  </thead>\n",
       "  <tbody>\n",
       "    <tr>\n",
       "      <th>0</th>\n",
       "      <td>Joost</td>\n",
       "      <td>games_video</td>\n",
       "      <td>$45M</td>\n",
       "      <td></td>\n",
       "      <td>100 5th Ave Fl 6</td>\n",
       "      <td></td>\n",
       "      <td>10011-6903</td>\n",
       "      <td>New York</td>\n",
       "      <td>NY</td>\n",
       "      <td>USA</td>\n",
       "      <td>40.746497</td>\n",
       "      <td>-74.009447</td>\n",
       "      <td>{'type': 'Point', 'coordinates': [-74.0094471,...</td>\n",
       "    </tr>\n",
       "    <tr>\n",
       "      <th>1</th>\n",
       "      <td>Mahalo</td>\n",
       "      <td>web</td>\n",
       "      <td>$21M</td>\n",
       "      <td></td>\n",
       "      <td>3525 Eastham Dr.</td>\n",
       "      <td></td>\n",
       "      <td>90232</td>\n",
       "      <td>Culver City</td>\n",
       "      <td>CA</td>\n",
       "      <td>USA</td>\n",
       "      <td>34.017606</td>\n",
       "      <td>-118.487267</td>\n",
       "      <td>{'type': 'Point', 'coordinates': [-118.487267,...</td>\n",
       "    </tr>\n",
       "    <tr>\n",
       "      <th>2</th>\n",
       "      <td>Thoof</td>\n",
       "      <td>web</td>\n",
       "      <td>$1M</td>\n",
       "      <td>None</td>\n",
       "      <td>None</td>\n",
       "      <td>None</td>\n",
       "      <td>None</td>\n",
       "      <td>Austin</td>\n",
       "      <td>TX</td>\n",
       "      <td>USA</td>\n",
       "      <td>30.268735</td>\n",
       "      <td>-97.745209</td>\n",
       "      <td>{'type': 'Point', 'coordinates': [-97.745209, ...</td>\n",
       "    </tr>\n",
       "  </tbody>\n",
       "</table>\n",
       "</div>"
      ],
      "text/plain": [
       "     name category_code total_money_raised description          address1  \\\n",
       "0   Joost   games_video               $45M              100 5th Ave Fl 6   \n",
       "1  Mahalo           web               $21M              3525 Eastham Dr.   \n",
       "2   Thoof           web                $1M        None              None   \n",
       "\n",
       "  address2    zip_code         city state_code country_code   latitude  \\\n",
       "0           10011-6903     New York         NY          USA  40.746497   \n",
       "1                90232  Culver City         CA          USA  34.017606   \n",
       "2     None        None       Austin         TX          USA  30.268735   \n",
       "\n",
       "    longitude                                           geopoint  \n",
       "0  -74.009447  {'type': 'Point', 'coordinates': [-74.0094471,...  \n",
       "1 -118.487267  {'type': 'Point', 'coordinates': [-118.487267,...  \n",
       "2  -97.745209  {'type': 'Point', 'coordinates': [-97.745209, ...  "
      ]
     },
     "execution_count": 24,
     "metadata": {},
     "output_type": "execute_result"
    }
   ],
   "source": [
    "def transformToGeoPoint(s):\n",
    "    \n",
    "    if np.isnan(s.latitude) or np.isnan(s.longitude):\n",
    "        \n",
    "        return None\n",
    "    \n",
    "    return {\n",
    "        \"type\":\"Point\",\n",
    "        \"coordinates\":[s.longitude, s.latitude]\n",
    "    }\n",
    "    \n",
    "\n",
    "sus_coor[\"geopoint\"] = sus_coor.apply(transformToGeoPoint, axis=1)\n",
    "sus_coor.head(3)"
   ]
  },
  {
   "cell_type": "markdown",
   "metadata": {},
   "source": [
    "# Foursquare's Places API"
   ]
  },
  {
   "cell_type": "code",
   "execution_count": 22,
   "metadata": {},
   "outputs": [],
   "source": [
    "def foursquareAPI(search):\n",
    "    url = 'https://api.foursquare.com/v2/venues/explore'\n",
    "\n",
    "    params = dict(\n",
    "    client_id=os.getenv('CLIENT_ID'),\n",
    "    client_secret=os.getenv('CLIENT_SECRET'),\n",
    "    v='20180323',\n",
    "    ll='40.7243,-74.0018',\n",
    "    query=search,\n",
    "    limit=1\n",
    "    )\n",
    "    \n",
    "    resp = requests.get(url=url, params=params)\n",
    "    data = json.loads(resp.text)\n",
    "    \n",
    "    return data"
   ]
  },
  {
   "cell_type": "code",
   "execution_count": 23,
   "metadata": {},
   "outputs": [
    {
     "data": {
      "text/plain": [
       "{'meta': {'code': 200, 'requestId': '5ef91137e771111ff8d0d279'},\n",
       " 'response': {'suggestedFilters': {'header': 'Tap to show:',\n",
       "   'filters': [{'name': '$-$$$$', 'key': 'price'},\n",
       "    {'name': 'Open now', 'key': 'openNow'}]},\n",
       "  'warning': {'text': 'There aren\\'t a lot of results for \"Starbucks.\" Try something more general, reset your filters, or expand the search area.'},\n",
       "  'suggestedRadius': 600,\n",
       "  'headerLocation': 'SoHo',\n",
       "  'headerFullLocation': 'SoHo, New York',\n",
       "  'headerLocationGranularity': 'neighborhood',\n",
       "  'query': 'starbucks',\n",
       "  'totalResults': 51,\n",
       "  'suggestedBounds': {'ne': {'lat': 40.72212924883804,\n",
       "    'lng': -74.00571597932256},\n",
       "   'sw': {'lat': 40.71942958905259, 'lng': -74.00299678923213}},\n",
       "  'groups': [{'type': 'Recommended Places',\n",
       "    'name': 'recommended',\n",
       "    'items': [{'reasons': {'count': 0,\n",
       "       'items': [{'summary': 'This spot is popular',\n",
       "         'type': 'general',\n",
       "         'reasonName': 'globalInteractionReason'}]},\n",
       "      'venue': {'id': '516409d5e4b0ec7be4b67ab4',\n",
       "       'name': 'Starbucks',\n",
       "       'contact': {},\n",
       "       'location': {'address': '370 Canal St',\n",
       "        'crossStreet': 'at Sheraton Tribeca',\n",
       "        'lat': 40.72077941894531,\n",
       "        'lng': -74.00435638427734,\n",
       "        'labeledLatLngs': [{'label': 'display',\n",
       "          'lat': 40.72077941894531,\n",
       "          'lng': -74.00435638427734}],\n",
       "        'distance': 447,\n",
       "        'postalCode': '10013',\n",
       "        'cc': 'US',\n",
       "        'city': 'New York',\n",
       "        'state': 'NY',\n",
       "        'country': 'United States',\n",
       "        'formattedAddress': ['370 Canal St (at Sheraton Tribeca)',\n",
       "         'New York, NY 10013',\n",
       "         'United States']},\n",
       "       'categories': [{'id': '4bf58dd8d48988d1e0931735',\n",
       "         'name': 'Coffee Shop',\n",
       "         'pluralName': 'Coffee Shops',\n",
       "         'shortName': 'Coffee Shop',\n",
       "         'icon': {'prefix': 'https://ss3.4sqi.net/img/categories_v2/food/coffeeshop_',\n",
       "          'suffix': '.png'},\n",
       "         'primary': True}],\n",
       "       'verified': False,\n",
       "       'stats': {'tipCount': 0,\n",
       "        'usersCount': 0,\n",
       "        'checkinsCount': 0,\n",
       "        'visitsCount': 0},\n",
       "       'beenHere': {'count': 0,\n",
       "        'lastCheckinExpiredAt': 0,\n",
       "        'marked': False,\n",
       "        'unconfirmedCount': 0},\n",
       "       'photos': {'count': 0, 'groups': []},\n",
       "       'hereNow': {'count': 0, 'summary': 'Nobody here', 'groups': []}},\n",
       "      'referralId': 'e-0-516409d5e4b0ec7be4b67ab4-0'}]}]}}"
      ]
     },
     "execution_count": 23,
     "metadata": {},
     "output_type": "execute_result"
    }
   ],
   "source": [
    "df_starbucks = foursquareAPI('Starbucks')\n",
    "df_starbucks"
   ]
  }
 ],
 "metadata": {
  "kernelspec": {
   "display_name": "Python 3",
   "language": "python",
   "name": "python3"
  },
  "language_info": {
   "codemirror_mode": {
    "name": "ipython",
    "version": 3
   },
   "file_extension": ".py",
   "mimetype": "text/x-python",
   "name": "python",
   "nbconvert_exporter": "python",
   "pygments_lexer": "ipython3",
   "version": "3.7.7"
  }
 },
 "nbformat": 4,
 "nbformat_minor": 4
}
