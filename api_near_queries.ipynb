{
 "cells": [
  {
   "cell_type": "code",
   "execution_count": 1,
   "metadata": {},
   "outputs": [],
   "source": [
    "import pandas as pd\n",
    "import numpy as np\n",
    "import json, requests\n",
    "import os\n",
    "from dotenv import load_dotenv\n",
    "load_dotenv()\n",
    "import requests\n",
    "from pandas.io.json import json_normalize\n",
    "from SRC.geo_func import *\n",
    "from folium import Map, Marker, Icon, FeatureGroup, LayerControl, Choropleth\n",
    "from folium.plugins import HeatMap"
   ]
  },
  {
   "cell_type": "markdown",
   "metadata": {},
   "source": [
    "# Foursquare's Places API"
   ]
  },
  {
   "cell_type": "code",
   "execution_count": 2,
   "metadata": {},
   "outputs": [],
   "source": [
    "def foursquareAPI(search):\n",
    "    url = 'https://api.foursquare.com/v2/venues/explore'\n",
    "\n",
    "    params = dict(\n",
    "    client_id=os.getenv('CLIENT_ID'),\n",
    "    client_secret=os.getenv('CLIENT_SECRET'),\n",
    "    v='20180323', \n",
    "    ll=\"37.78986, -122.45712\", \n",
    "    query=search,\n",
    "    limit=100\n",
    "    )\n",
    "    \n",
    "    resp = requests.get(url=url, params=params)\n",
    "    data = json.loads(resp.text)\n",
    "\n",
    "    return data"
   ]
  },
  {
   "cell_type": "markdown",
   "metadata": {},
   "source": [
    "------"
   ]
  },
  {
   "cell_type": "code",
   "execution_count": 44,
   "metadata": {},
   "outputs": [],
   "source": [
    "# Lo siguiente que es x4 la misma cosa se podria meter en una funcion (pendiente)"
   ]
  },
  {
   "cell_type": "markdown",
   "metadata": {},
   "source": [
    "## Creating Starbucks Dataframe"
   ]
  },
  {
   "cell_type": "code",
   "execution_count": 3,
   "metadata": {},
   "outputs": [],
   "source": [
    "starbucks = foursquareAPI(\"Starbucks\")"
   ]
  },
  {
   "cell_type": "code",
   "execution_count": 4,
   "metadata": {},
   "outputs": [],
   "source": [
    "starbucks_niners=[]\n",
    "for i in list(range(len(starbucks[\"response\"][\"groups\"][0][\"items\"]))):\n",
    "        \n",
    "            starbucks_niners.append({\n",
    "        \"name\": starbucks[\"response\"][\"groups\"][0][\"items\"][i][\"venue\"][\"name\"],\n",
    "        \"distance\": starbucks[\"response\"][\"groups\"][0][\"items\"][i][\"venue\"][\"location\"][\"distance\"],\n",
    "        \"latitude\": starbucks[\"response\"][\"groups\"][0][\"items\"][i][\"venue\"][\"location\"][\"lat\"],\n",
    "        \"longitude\": starbucks[\"response\"][\"groups\"][0][\"items\"][i][\"venue\"][\"location\"][\"lng\"]\n",
    "    })"
   ]
  },
  {
   "cell_type": "code",
   "execution_count": 5,
   "metadata": {},
   "outputs": [
    {
     "data": {
      "text/html": [
       "<div>\n",
       "<style scoped>\n",
       "    .dataframe tbody tr th:only-of-type {\n",
       "        vertical-align: middle;\n",
       "    }\n",
       "\n",
       "    .dataframe tbody tr th {\n",
       "        vertical-align: top;\n",
       "    }\n",
       "\n",
       "    .dataframe thead th {\n",
       "        text-align: right;\n",
       "    }\n",
       "</style>\n",
       "<table border=\"1\" class=\"dataframe\">\n",
       "  <thead>\n",
       "    <tr style=\"text-align: right;\">\n",
       "      <th></th>\n",
       "      <th>name</th>\n",
       "      <th>distance</th>\n",
       "      <th>latitude</th>\n",
       "      <th>longitude</th>\n",
       "      <th>geopoint</th>\n",
       "    </tr>\n",
       "  </thead>\n",
       "  <tbody>\n",
       "    <tr>\n",
       "      <th>0</th>\n",
       "      <td>Starbucks</td>\n",
       "      <td>1239</td>\n",
       "      <td>37.799182</td>\n",
       "      <td>-122.449409</td>\n",
       "      <td>{'type': 'Point', 'coordinates': [-122.4494085...</td>\n",
       "    </tr>\n",
       "    <tr>\n",
       "      <th>1</th>\n",
       "      <td>Starbucks</td>\n",
       "      <td>531</td>\n",
       "      <td>37.786220</td>\n",
       "      <td>-122.453203</td>\n",
       "      <td>{'type': 'Point', 'coordinates': [-122.453203,...</td>\n",
       "    </tr>\n",
       "    <tr>\n",
       "      <th>2</th>\n",
       "      <td>Starbucks</td>\n",
       "      <td>1971</td>\n",
       "      <td>37.788652</td>\n",
       "      <td>-122.434757</td>\n",
       "      <td>{'type': 'Point', 'coordinates': [-122.4347566...</td>\n",
       "    </tr>\n",
       "  </tbody>\n",
       "</table>\n",
       "</div>"
      ],
      "text/plain": [
       "        name  distance   latitude   longitude  \\\n",
       "0  Starbucks      1239  37.799182 -122.449409   \n",
       "1  Starbucks       531  37.786220 -122.453203   \n",
       "2  Starbucks      1971  37.788652 -122.434757   \n",
       "\n",
       "                                            geopoint  \n",
       "0  {'type': 'Point', 'coordinates': [-122.4494085...  \n",
       "1  {'type': 'Point', 'coordinates': [-122.453203,...  \n",
       "2  {'type': 'Point', 'coordinates': [-122.4347566...  "
      ]
     },
     "execution_count": 5,
     "metadata": {},
     "output_type": "execute_result"
    }
   ],
   "source": [
    "df_starbucks = pd.DataFrame(list(starbucks_niners))\n",
    "\n",
    "df_starbucks[\"geopoint\"] = df_starbucks.apply(transformToGeoPoint, axis=1)\n",
    "df_starbucks.head(3)"
   ]
  },
  {
   "cell_type": "markdown",
   "metadata": {},
   "source": [
    "## Saving it as json in Mongo to use later"
   ]
  },
  {
   "cell_type": "code",
   "execution_count": 47,
   "metadata": {},
   "outputs": [],
   "source": [
    "df_starbucks.to_json(\"output/df_starbucks.json\",orient=\"records\")\n",
    "\n",
    "# Terminal=>  mongoimport -d tech_startups -c starbucks --jsonArray df_starbucks.json\n"
   ]
  },
  {
   "cell_type": "markdown",
   "metadata": {},
   "source": [
    "------------"
   ]
  },
  {
   "cell_type": "markdown",
   "metadata": {},
   "source": [
    "## Creating Airport Dataframe"
   ]
  },
  {
   "cell_type": "code",
   "execution_count": 6,
   "metadata": {},
   "outputs": [],
   "source": [
    "airports = foursquareAPI(\"Airport\")"
   ]
  },
  {
   "cell_type": "code",
   "execution_count": 7,
   "metadata": {},
   "outputs": [],
   "source": [
    "airports_niners=[]\n",
    "for i in list(range(len(airports[\"response\"][\"groups\"][0][\"items\"]))):\n",
    "        \n",
    "            airports_niners.append({\n",
    "        \"name\": airports[\"response\"][\"groups\"][0][\"items\"][i][\"venue\"][\"name\"],\n",
    "        \"distance\": airports[\"response\"][\"groups\"][0][\"items\"][i][\"venue\"][\"location\"][\"distance\"],\n",
    "        \"latitude\": airports[\"response\"][\"groups\"][0][\"items\"][i][\"venue\"][\"location\"][\"lat\"],\n",
    "        \"longitude\": airports[\"response\"][\"groups\"][0][\"items\"][i][\"venue\"][\"location\"][\"lng\"]\n",
    "    })"
   ]
  },
  {
   "cell_type": "code",
   "execution_count": 8,
   "metadata": {},
   "outputs": [
    {
     "data": {
      "text/html": [
       "<div>\n",
       "<style scoped>\n",
       "    .dataframe tbody tr th:only-of-type {\n",
       "        vertical-align: middle;\n",
       "    }\n",
       "\n",
       "    .dataframe tbody tr th {\n",
       "        vertical-align: top;\n",
       "    }\n",
       "\n",
       "    .dataframe thead th {\n",
       "        text-align: right;\n",
       "    }\n",
       "</style>\n",
       "<table border=\"1\" class=\"dataframe\">\n",
       "  <thead>\n",
       "    <tr style=\"text-align: right;\">\n",
       "      <th></th>\n",
       "      <th>name</th>\n",
       "      <th>distance</th>\n",
       "      <th>latitude</th>\n",
       "      <th>longitude</th>\n",
       "      <th>geopoint</th>\n",
       "    </tr>\n",
       "  </thead>\n",
       "  <tbody>\n",
       "    <tr>\n",
       "      <th>0</th>\n",
       "      <td>San Francisco International Airport (SFO) (San...</td>\n",
       "      <td>20237</td>\n",
       "      <td>37.616713</td>\n",
       "      <td>-122.387094</td>\n",
       "      <td>{'type': 'Point', 'coordinates': [-122.3870944...</td>\n",
       "    </tr>\n",
       "    <tr>\n",
       "      <th>1</th>\n",
       "      <td>United Webs Deals</td>\n",
       "      <td>1322</td>\n",
       "      <td>37.778856</td>\n",
       "      <td>-122.451446</td>\n",
       "      <td>{'type': 'Point', 'coordinates': [-122.4514460...</td>\n",
       "    </tr>\n",
       "    <tr>\n",
       "      <th>2</th>\n",
       "      <td>Gate 10</td>\n",
       "      <td>4045</td>\n",
       "      <td>37.764690</td>\n",
       "      <td>-122.423949</td>\n",
       "      <td>{'type': 'Point', 'coordinates': [-122.423949,...</td>\n",
       "    </tr>\n",
       "  </tbody>\n",
       "</table>\n",
       "</div>"
      ],
      "text/plain": [
       "                                                name  distance   latitude  \\\n",
       "0  San Francisco International Airport (SFO) (San...     20237  37.616713   \n",
       "1                                  United Webs Deals      1322  37.778856   \n",
       "2                                            Gate 10      4045  37.764690   \n",
       "\n",
       "    longitude                                           geopoint  \n",
       "0 -122.387094  {'type': 'Point', 'coordinates': [-122.3870944...  \n",
       "1 -122.451446  {'type': 'Point', 'coordinates': [-122.4514460...  \n",
       "2 -122.423949  {'type': 'Point', 'coordinates': [-122.423949,...  "
      ]
     },
     "execution_count": 8,
     "metadata": {},
     "output_type": "execute_result"
    }
   ],
   "source": [
    "df_airports = pd.DataFrame(list(airports_niners))\n",
    "\n",
    "df_airports[\"geopoint\"] = df_airports.apply(transformToGeoPoint, axis=1)\n",
    "df_airports.head(3)"
   ]
  },
  {
   "cell_type": "markdown",
   "metadata": {},
   "source": [
    "## Saving it as json in Mongo to use later"
   ]
  },
  {
   "cell_type": "code",
   "execution_count": 48,
   "metadata": {},
   "outputs": [],
   "source": [
    "df_airports.to_json(\"output/df_airports.json\",orient=\"records\")\n",
    "\n",
    "# Terminal=>  mongoimport -d tech_startups -c airports --jsonArray df_airports.json\n"
   ]
  },
  {
   "cell_type": "markdown",
   "metadata": {},
   "source": [
    "-----------"
   ]
  },
  {
   "cell_type": "markdown",
   "metadata": {},
   "source": [
    "## Creating Schools Dataframe"
   ]
  },
  {
   "cell_type": "code",
   "execution_count": 9,
   "metadata": {},
   "outputs": [],
   "source": [
    "children = foursquareAPI(\"School\")"
   ]
  },
  {
   "cell_type": "code",
   "execution_count": 10,
   "metadata": {},
   "outputs": [],
   "source": [
    "children_niners=[]\n",
    "for i in list(range(len(children[\"response\"][\"groups\"][0][\"items\"]))):\n",
    "        \n",
    "            children_niners.append({\n",
    "        \"name\": children[\"response\"][\"groups\"][0][\"items\"][i][\"venue\"][\"name\"],\n",
    "        \"distance\": children[\"response\"][\"groups\"][0][\"items\"][i][\"venue\"][\"location\"][\"distance\"],\n",
    "        \"latitude\": children[\"response\"][\"groups\"][0][\"items\"][i][\"venue\"][\"location\"][\"lat\"],\n",
    "        \"longitude\": children[\"response\"][\"groups\"][0][\"items\"][i][\"venue\"][\"location\"][\"lng\"]\n",
    "    })"
   ]
  },
  {
   "cell_type": "code",
   "execution_count": 11,
   "metadata": {},
   "outputs": [
    {
     "data": {
      "text/html": [
       "<div>\n",
       "<style scoped>\n",
       "    .dataframe tbody tr th:only-of-type {\n",
       "        vertical-align: middle;\n",
       "    }\n",
       "\n",
       "    .dataframe tbody tr th {\n",
       "        vertical-align: top;\n",
       "    }\n",
       "\n",
       "    .dataframe thead th {\n",
       "        text-align: right;\n",
       "    }\n",
       "</style>\n",
       "<table border=\"1\" class=\"dataframe\">\n",
       "  <thead>\n",
       "    <tr style=\"text-align: right;\">\n",
       "      <th></th>\n",
       "      <th>name</th>\n",
       "      <th>distance</th>\n",
       "      <th>latitude</th>\n",
       "      <th>longitude</th>\n",
       "      <th>geopoint</th>\n",
       "    </tr>\n",
       "  </thead>\n",
       "  <tbody>\n",
       "    <tr>\n",
       "      <th>0</th>\n",
       "      <td>Soko Gakuen Japanese Language School</td>\n",
       "      <td>2692</td>\n",
       "      <td>37.788453</td>\n",
       "      <td>-122.426564</td>\n",
       "      <td>{'type': 'Point', 'coordinates': [-122.4265644...</td>\n",
       "    </tr>\n",
       "    <tr>\n",
       "      <th>1</th>\n",
       "      <td>TIKVAH - School of Music &amp; Dance - Jewish Comm...</td>\n",
       "      <td>922</td>\n",
       "      <td>37.787300</td>\n",
       "      <td>-122.447151</td>\n",
       "      <td>{'type': 'Point', 'coordinates': [-122.4471511...</td>\n",
       "    </tr>\n",
       "    <tr>\n",
       "      <th>2</th>\n",
       "      <td>Kumon Math and Reading Center of San Francisco...</td>\n",
       "      <td>963</td>\n",
       "      <td>37.781439</td>\n",
       "      <td>-122.459662</td>\n",
       "      <td>{'type': 'Point', 'coordinates': [-122.4596617...</td>\n",
       "    </tr>\n",
       "  </tbody>\n",
       "</table>\n",
       "</div>"
      ],
      "text/plain": [
       "                                                name  distance   latitude  \\\n",
       "0               Soko Gakuen Japanese Language School      2692  37.788453   \n",
       "1  TIKVAH - School of Music & Dance - Jewish Comm...       922  37.787300   \n",
       "2  Kumon Math and Reading Center of San Francisco...       963  37.781439   \n",
       "\n",
       "    longitude                                           geopoint  \n",
       "0 -122.426564  {'type': 'Point', 'coordinates': [-122.4265644...  \n",
       "1 -122.447151  {'type': 'Point', 'coordinates': [-122.4471511...  \n",
       "2 -122.459662  {'type': 'Point', 'coordinates': [-122.4596617...  "
      ]
     },
     "execution_count": 11,
     "metadata": {},
     "output_type": "execute_result"
    }
   ],
   "source": [
    "df_children = pd.DataFrame(list(children_niners))\n",
    "\n",
    "df_children[\"geopoint\"] = df_children.apply(transformToGeoPoint, axis=1)\n",
    "df_children.head(3)"
   ]
  },
  {
   "cell_type": "markdown",
   "metadata": {},
   "source": [
    "## Saving it as json in Mongo to use later"
   ]
  },
  {
   "cell_type": "code",
   "execution_count": 49,
   "metadata": {},
   "outputs": [],
   "source": [
    "df_children.to_json(\"output/df_children.json\",orient=\"records\")\n",
    "\n",
    "# Terminal=>  mongoimport -d tech_startups -c schools --jsonArray df_children.json\n"
   ]
  },
  {
   "cell_type": "markdown",
   "metadata": {},
   "source": [
    "-------------"
   ]
  },
  {
   "cell_type": "markdown",
   "metadata": {},
   "source": [
    "## Creating Vegan Dataframe"
   ]
  },
  {
   "cell_type": "code",
   "execution_count": 12,
   "metadata": {},
   "outputs": [],
   "source": [
    "vegan = foursquareAPI(\"Vegan\")"
   ]
  },
  {
   "cell_type": "code",
   "execution_count": 13,
   "metadata": {},
   "outputs": [],
   "source": [
    "vegan_niners=[]\n",
    "for i in list(range(len(vegan[\"response\"][\"groups\"][0][\"items\"]))):\n",
    "        \n",
    "            vegan_niners.append({\n",
    "        \"name\": vegan[\"response\"][\"groups\"][0][\"items\"][i][\"venue\"][\"name\"],\n",
    "        \"distance\": vegan[\"response\"][\"groups\"][0][\"items\"][i][\"venue\"][\"location\"][\"distance\"],\n",
    "        \"latitude\": vegan[\"response\"][\"groups\"][0][\"items\"][i][\"venue\"][\"location\"][\"lat\"],\n",
    "        \"longitude\": vegan[\"response\"][\"groups\"][0][\"items\"][i][\"venue\"][\"location\"][\"lng\"]\n",
    "    })"
   ]
  },
  {
   "cell_type": "code",
   "execution_count": 14,
   "metadata": {},
   "outputs": [
    {
     "data": {
      "text/html": [
       "<div>\n",
       "<style scoped>\n",
       "    .dataframe tbody tr th:only-of-type {\n",
       "        vertical-align: middle;\n",
       "    }\n",
       "\n",
       "    .dataframe tbody tr th {\n",
       "        vertical-align: top;\n",
       "    }\n",
       "\n",
       "    .dataframe thead th {\n",
       "        text-align: right;\n",
       "    }\n",
       "</style>\n",
       "<table border=\"1\" class=\"dataframe\">\n",
       "  <thead>\n",
       "    <tr style=\"text-align: right;\">\n",
       "      <th></th>\n",
       "      <th>name</th>\n",
       "      <th>distance</th>\n",
       "      <th>latitude</th>\n",
       "      <th>longitude</th>\n",
       "      <th>geopoint</th>\n",
       "    </tr>\n",
       "  </thead>\n",
       "  <tbody>\n",
       "    <tr>\n",
       "      <th>0</th>\n",
       "      <td>Nourish Cafe SF</td>\n",
       "      <td>834</td>\n",
       "      <td>37.785232</td>\n",
       "      <td>-122.464583</td>\n",
       "      <td>{'type': 'Point', 'coordinates': [-122.4645833...</td>\n",
       "    </tr>\n",
       "    <tr>\n",
       "      <th>1</th>\n",
       "      <td>Vegan Picnic</td>\n",
       "      <td>2388</td>\n",
       "      <td>37.797490</td>\n",
       "      <td>-122.431748</td>\n",
       "      <td>{'type': 'Point', 'coordinates': [-122.4317484...</td>\n",
       "    </tr>\n",
       "    <tr>\n",
       "      <th>2</th>\n",
       "      <td>The Plant</td>\n",
       "      <td>2074</td>\n",
       "      <td>37.800477</td>\n",
       "      <td>-122.437745</td>\n",
       "      <td>{'type': 'Point', 'coordinates': [-122.4377445...</td>\n",
       "    </tr>\n",
       "  </tbody>\n",
       "</table>\n",
       "</div>"
      ],
      "text/plain": [
       "              name  distance   latitude   longitude  \\\n",
       "0  Nourish Cafe SF       834  37.785232 -122.464583   \n",
       "1     Vegan Picnic      2388  37.797490 -122.431748   \n",
       "2        The Plant      2074  37.800477 -122.437745   \n",
       "\n",
       "                                            geopoint  \n",
       "0  {'type': 'Point', 'coordinates': [-122.4645833...  \n",
       "1  {'type': 'Point', 'coordinates': [-122.4317484...  \n",
       "2  {'type': 'Point', 'coordinates': [-122.4377445...  "
      ]
     },
     "execution_count": 14,
     "metadata": {},
     "output_type": "execute_result"
    }
   ],
   "source": [
    "df_vegan = pd.DataFrame(list(vegan_niners))\n",
    "\n",
    "df_vegan[\"geopoint\"] = df_vegan.apply(transformToGeoPoint, axis=1)\n",
    "df_vegan.head(3)"
   ]
  },
  {
   "cell_type": "markdown",
   "metadata": {},
   "source": [
    "## Saving it as json in Mongo to use later"
   ]
  },
  {
   "cell_type": "code",
   "execution_count": 50,
   "metadata": {},
   "outputs": [],
   "source": [
    "df_vegan.to_json(\"output/df_vegan.json\",orient=\"records\")\n",
    "\n",
    "# Terminal=>  mongoimport -d tech_startups -c vegan --jsonArray df_vegan.json\n"
   ]
  },
  {
   "cell_type": "markdown",
   "metadata": {},
   "source": [
    "----------"
   ]
  },
  {
   "cell_type": "markdown",
   "metadata": {},
   "source": [
    "----------"
   ]
  },
  {
   "cell_type": "markdown",
   "metadata": {},
   "source": [
    "--------"
   ]
  },
  {
   "cell_type": "markdown",
   "metadata": {},
   "source": [
    "# MongoDB Compass $near Queries"
   ]
  },
  {
   "cell_type": "code",
   "execution_count": 15,
   "metadata": {},
   "outputs": [],
   "source": [
    "from pymongo import MongoClient\n",
    "dbName = \"tech_startups\"\n",
    "mongodbURL = f\"mongodb://localhost/{dbName}\"\n",
    "client = MongoClient(mongodbURL, connectTimeoutMS=2000, serverSelectionTimeoutMS=2000)\n",
    "db = client.get_database()\n",
    "cursor = db.list_collections()\n",
    "from pymongo import ASCENDING, DESCENDING"
   ]
  },
  {
   "cell_type": "markdown",
   "metadata": {},
   "source": [
    "--------------"
   ]
  },
  {
   "cell_type": "markdown",
   "metadata": {},
   "source": [
    "# Starbucks nearby"
   ]
  },
  {
   "cell_type": "code",
   "execution_count": 20,
   "metadata": {},
   "outputs": [],
   "source": [
    "offiSF_starbucks=[]\n",
    "\n",
    "for i in range(len(df_starbucks)):\n",
    "    uno = list(db.offices.find(geoQueryNear(df_starbucks.iloc[i].geopoint, radius=200),{\"_id\":0}))\n",
    "    offiSF_starbucks.append(uno)"
   ]
  },
  {
   "cell_type": "markdown",
   "metadata": {},
   "source": [
    "## Flattening it so it can be put into a df"
   ]
  },
  {
   "cell_type": "code",
   "execution_count": 21,
   "metadata": {},
   "outputs": [],
   "source": [
    "offiSF_starbucks2 = [x for e in offiSF_starbucks for x in e]"
   ]
  },
  {
   "cell_type": "code",
   "execution_count": 22,
   "metadata": {},
   "outputs": [
    {
     "data": {
      "text/html": [
       "<div>\n",
       "<style scoped>\n",
       "    .dataframe tbody tr th:only-of-type {\n",
       "        vertical-align: middle;\n",
       "    }\n",
       "\n",
       "    .dataframe tbody tr th {\n",
       "        vertical-align: top;\n",
       "    }\n",
       "\n",
       "    .dataframe thead th {\n",
       "        text-align: right;\n",
       "    }\n",
       "</style>\n",
       "<table border=\"1\" class=\"dataframe\">\n",
       "  <thead>\n",
       "    <tr style=\"text-align: right;\">\n",
       "      <th></th>\n",
       "      <th>name</th>\n",
       "      <th>category_code</th>\n",
       "      <th>total_money_raised</th>\n",
       "      <th>description</th>\n",
       "      <th>address1</th>\n",
       "      <th>address2</th>\n",
       "      <th>zip_code</th>\n",
       "      <th>city</th>\n",
       "      <th>state_code</th>\n",
       "      <th>country_code</th>\n",
       "      <th>latitude</th>\n",
       "      <th>longitude</th>\n",
       "      <th>geopoint</th>\n",
       "    </tr>\n",
       "  </thead>\n",
       "  <tbody>\n",
       "    <tr>\n",
       "      <th>0</th>\n",
       "      <td>StartForce</td>\n",
       "      <td>web</td>\n",
       "      <td>$6M</td>\n",
       "      <td>None</td>\n",
       "      <td></td>\n",
       "      <td></td>\n",
       "      <td>94109</td>\n",
       "      <td>San Francisco</td>\n",
       "      <td>CA</td>\n",
       "      <td>USA</td>\n",
       "      <td>37.796164</td>\n",
       "      <td>-122.420903</td>\n",
       "      <td>{'type': 'Point', 'coordinates': [-122.420903,...</td>\n",
       "    </tr>\n",
       "    <tr>\n",
       "      <th>1</th>\n",
       "      <td>Dropbox</td>\n",
       "      <td>software</td>\n",
       "      <td>$257M</td>\n",
       "      <td>Headquarters</td>\n",
       "      <td></td>\n",
       "      <td>185 Berry St 4th Floor</td>\n",
       "      <td>94107</td>\n",
       "      <td>San Francisco</td>\n",
       "      <td>CA</td>\n",
       "      <td>USA</td>\n",
       "      <td>37.790943</td>\n",
       "      <td>-122.408499</td>\n",
       "      <td>{'type': 'Point', 'coordinates': [-122.4084994...</td>\n",
       "    </tr>\n",
       "    <tr>\n",
       "      <th>2</th>\n",
       "      <td>Zivity</td>\n",
       "      <td>network_hosting</td>\n",
       "      <td>$8M</td>\n",
       "      <td></td>\n",
       "      <td>329 Bryant Street</td>\n",
       "      <td>Suite 2D</td>\n",
       "      <td>94107</td>\n",
       "      <td>San Francisco</td>\n",
       "      <td>CA</td>\n",
       "      <td>USA</td>\n",
       "      <td>37.789488</td>\n",
       "      <td>-122.397593</td>\n",
       "      <td>{'type': 'Point', 'coordinates': [-122.397593,...</td>\n",
       "    </tr>\n",
       "  </tbody>\n",
       "</table>\n",
       "</div>"
      ],
      "text/plain": [
       "         name    category_code total_money_raised   description  \\\n",
       "0  StartForce              web                $6M          None   \n",
       "1     Dropbox         software              $257M  Headquarters   \n",
       "2      Zivity  network_hosting                $8M                 \n",
       "\n",
       "            address1                address2 zip_code           city  \\\n",
       "0                                               94109  San Francisco   \n",
       "1                     185 Berry St 4th Floor    94107  San Francisco   \n",
       "2  329 Bryant Street                Suite 2D    94107  San Francisco   \n",
       "\n",
       "  state_code country_code   latitude   longitude  \\\n",
       "0         CA          USA  37.796164 -122.420903   \n",
       "1         CA          USA  37.790943 -122.408499   \n",
       "2         CA          USA  37.789488 -122.397593   \n",
       "\n",
       "                                            geopoint  \n",
       "0  {'type': 'Point', 'coordinates': [-122.420903,...  \n",
       "1  {'type': 'Point', 'coordinates': [-122.4084994...  \n",
       "2  {'type': 'Point', 'coordinates': [-122.397593,...  "
      ]
     },
     "execution_count": 22,
     "metadata": {},
     "output_type": "execute_result"
    }
   ],
   "source": [
    "df_offi_starbucksSF = pd.DataFrame(offiSF_starbucks2)\n",
    "df_offi_starbucksSF.head(3)"
   ]
  },
  {
   "cell_type": "markdown",
   "metadata": {},
   "source": [
    "## Saving it as json to use it in Mongo for the next geoquery"
   ]
  },
  {
   "cell_type": "code",
   "execution_count": 19,
   "metadata": {},
   "outputs": [],
   "source": [
    "df_offi_starbucksSF.to_json(\"output/df_offi_starbucksSF.json\",orient=\"records\")\n",
    "\n",
    "# Terminal=>  mongoimport -d tech_startups -c nearby_starbucksSF --jsonArray df_offi_starbucksSF.json"
   ]
  },
  {
   "cell_type": "markdown",
   "metadata": {},
   "source": [
    "---------"
   ]
  },
  {
   "cell_type": "markdown",
   "metadata": {},
   "source": [
    "# Starbucks and Airports nearby"
   ]
  },
  {
   "cell_type": "code",
   "execution_count": 25,
   "metadata": {},
   "outputs": [],
   "source": [
    "offiSF_airports=[]\n",
    "\n",
    "for i in range(len(df_airports)):\n",
    "    dos = db.nearby_starbucksSF.find(geoQueryNear(df_airports.iloc[i].geopoint, radius=20000),{\"_id\":0})\n",
    "    offiSF_airports.append(list(dos))   "
   ]
  },
  {
   "cell_type": "markdown",
   "metadata": {},
   "source": [
    "## Flattening it so it can be put into a df"
   ]
  },
  {
   "cell_type": "code",
   "execution_count": 26,
   "metadata": {},
   "outputs": [],
   "source": [
    "offiSF_airports2 = [x for e in offiSF_airports for x in e]"
   ]
  },
  {
   "cell_type": "code",
   "execution_count": 30,
   "metadata": {},
   "outputs": [
    {
     "data": {
      "text/html": [
       "<div>\n",
       "<style scoped>\n",
       "    .dataframe tbody tr th:only-of-type {\n",
       "        vertical-align: middle;\n",
       "    }\n",
       "\n",
       "    .dataframe tbody tr th {\n",
       "        vertical-align: top;\n",
       "    }\n",
       "\n",
       "    .dataframe thead th {\n",
       "        text-align: right;\n",
       "    }\n",
       "</style>\n",
       "<table border=\"1\" class=\"dataframe\">\n",
       "  <thead>\n",
       "    <tr style=\"text-align: right;\">\n",
       "      <th></th>\n",
       "      <th>name</th>\n",
       "      <th>category_code</th>\n",
       "      <th>total_money_raised</th>\n",
       "      <th>description</th>\n",
       "      <th>address1</th>\n",
       "      <th>address2</th>\n",
       "      <th>zip_code</th>\n",
       "      <th>city</th>\n",
       "      <th>state_code</th>\n",
       "      <th>country_code</th>\n",
       "      <th>latitude</th>\n",
       "      <th>longitude</th>\n",
       "      <th>geopoint</th>\n",
       "    </tr>\n",
       "  </thead>\n",
       "  <tbody>\n",
       "    <tr>\n",
       "      <th>0</th>\n",
       "      <td>3Jam</td>\n",
       "      <td>mobile</td>\n",
       "      <td>$4M</td>\n",
       "      <td></td>\n",
       "      <td>365 Vermont St</td>\n",
       "      <td>Unit B</td>\n",
       "      <td>94103-5060</td>\n",
       "      <td>San Francisco</td>\n",
       "      <td>CA</td>\n",
       "      <td>USA</td>\n",
       "      <td>37.765125</td>\n",
       "      <td>-122.404403</td>\n",
       "      <td>{'type': 'Point', 'coordinates': [-122.4044034...</td>\n",
       "    </tr>\n",
       "    <tr>\n",
       "      <th>1</th>\n",
       "      <td>Zynga</td>\n",
       "      <td>games_video</td>\n",
       "      <td>$860M</td>\n",
       "      <td>SF HQ</td>\n",
       "      <td>365 Vermont St.</td>\n",
       "      <td></td>\n",
       "      <td>94103</td>\n",
       "      <td>San Francisco</td>\n",
       "      <td>CA</td>\n",
       "      <td>USA</td>\n",
       "      <td>37.765158</td>\n",
       "      <td>-122.404234</td>\n",
       "      <td>{'type': 'Point', 'coordinates': [-122.404234,...</td>\n",
       "    </tr>\n",
       "    <tr>\n",
       "      <th>2</th>\n",
       "      <td>GotGame</td>\n",
       "      <td>games_video</td>\n",
       "      <td>$1M</td>\n",
       "      <td>GotGame HQ</td>\n",
       "      <td>1 Bluxome Place</td>\n",
       "      <td>Suite 204</td>\n",
       "      <td>94107</td>\n",
       "      <td>San Francisco</td>\n",
       "      <td>CA</td>\n",
       "      <td>USA</td>\n",
       "      <td>37.777720</td>\n",
       "      <td>-122.395785</td>\n",
       "      <td>{'type': 'Point', 'coordinates': [-122.395785,...</td>\n",
       "    </tr>\n",
       "  </tbody>\n",
       "</table>\n",
       "</div>"
      ],
      "text/plain": [
       "      name category_code total_money_raised description         address1  \\\n",
       "0     3Jam        mobile                $4M               365 Vermont St   \n",
       "1    Zynga   games_video              $860M       SF HQ  365 Vermont St.   \n",
       "2  GotGame   games_video                $1M  GotGame HQ  1 Bluxome Place   \n",
       "\n",
       "    address2    zip_code           city state_code country_code   latitude  \\\n",
       "0     Unit B  94103-5060  San Francisco         CA          USA  37.765125   \n",
       "1                  94103  San Francisco         CA          USA  37.765158   \n",
       "2  Suite 204       94107  San Francisco         CA          USA  37.777720   \n",
       "\n",
       "    longitude                                           geopoint  \n",
       "0 -122.404403  {'type': 'Point', 'coordinates': [-122.4044034...  \n",
       "1 -122.404234  {'type': 'Point', 'coordinates': [-122.404234,...  \n",
       "2 -122.395785  {'type': 'Point', 'coordinates': [-122.395785,...  "
      ]
     },
     "execution_count": 30,
     "metadata": {},
     "output_type": "execute_result"
    }
   ],
   "source": [
    "df_offi_airportsSF= pd.DataFrame(offiSF_airports2)\n",
    "df_offi_airportsSF = df_offi_airportsSF.drop_duplicates(subset=[\"latitude\",\"longitude\"], keep=\"first\")\n",
    "df_offi_airportsSF.head(3)\n"
   ]
  },
  {
   "cell_type": "markdown",
   "metadata": {},
   "source": [
    "## Saving it as json to use it in Mongo for the next geoquery"
   ]
  },
  {
   "cell_type": "code",
   "execution_count": 31,
   "metadata": {},
   "outputs": [],
   "source": [
    "df_offi_airportsSF.to_json(\"output/df_offi_airportsSF.json\",orient=\"records\")\n",
    "\n",
    "# Terminal=>  mongoimport -d tech_startups -c nearby_airportsSF --jsonArray df_offi_airportsSF.json\n",
    "\n"
   ]
  },
  {
   "cell_type": "markdown",
   "metadata": {},
   "source": [
    "-------------"
   ]
  },
  {
   "cell_type": "markdown",
   "metadata": {},
   "source": [
    "# Starbucks, Airports and Schools Nearby"
   ]
  },
  {
   "cell_type": "code",
   "execution_count": 32,
   "metadata": {},
   "outputs": [],
   "source": [
    "offiSF_schools=[]\n",
    "\n",
    "for i in range(len(df_children)):\n",
    "    tres = list(db.nearby_airportsSF.find(geoQueryNear(df_children.iloc[i].geopoint, radius=5000),{\"_id\":0}))\n",
    "    offiSF_schools.append(tres)            "
   ]
  },
  {
   "cell_type": "markdown",
   "metadata": {},
   "source": [
    "## Flattening it so it can be put into a df"
   ]
  },
  {
   "cell_type": "code",
   "execution_count": 33,
   "metadata": {},
   "outputs": [],
   "source": [
    "offiSF_schools2 = [x for e in offiSF_schools for x in e]"
   ]
  },
  {
   "cell_type": "code",
   "execution_count": 34,
   "metadata": {
    "scrolled": true
   },
   "outputs": [
    {
     "data": {
      "text/html": [
       "<div>\n",
       "<style scoped>\n",
       "    .dataframe tbody tr th:only-of-type {\n",
       "        vertical-align: middle;\n",
       "    }\n",
       "\n",
       "    .dataframe tbody tr th {\n",
       "        vertical-align: top;\n",
       "    }\n",
       "\n",
       "    .dataframe thead th {\n",
       "        text-align: right;\n",
       "    }\n",
       "</style>\n",
       "<table border=\"1\" class=\"dataframe\">\n",
       "  <thead>\n",
       "    <tr style=\"text-align: right;\">\n",
       "      <th></th>\n",
       "      <th>name</th>\n",
       "      <th>category_code</th>\n",
       "      <th>total_money_raised</th>\n",
       "      <th>description</th>\n",
       "      <th>address1</th>\n",
       "      <th>address2</th>\n",
       "      <th>zip_code</th>\n",
       "      <th>city</th>\n",
       "      <th>state_code</th>\n",
       "      <th>country_code</th>\n",
       "      <th>latitude</th>\n",
       "      <th>longitude</th>\n",
       "      <th>geopoint</th>\n",
       "    </tr>\n",
       "  </thead>\n",
       "  <tbody>\n",
       "    <tr>\n",
       "      <th>0</th>\n",
       "      <td>StartForce</td>\n",
       "      <td>web</td>\n",
       "      <td>$6M</td>\n",
       "      <td>None</td>\n",
       "      <td></td>\n",
       "      <td></td>\n",
       "      <td>94109</td>\n",
       "      <td>San Francisco</td>\n",
       "      <td>CA</td>\n",
       "      <td>USA</td>\n",
       "      <td>37.796164</td>\n",
       "      <td>-122.420903</td>\n",
       "      <td>{'type': 'Point', 'coordinates': [-122.420903,...</td>\n",
       "    </tr>\n",
       "    <tr>\n",
       "      <th>1</th>\n",
       "      <td>Dropbox</td>\n",
       "      <td>software</td>\n",
       "      <td>$257M</td>\n",
       "      <td>Headquarters</td>\n",
       "      <td></td>\n",
       "      <td>185 Berry St 4th Floor</td>\n",
       "      <td>94107</td>\n",
       "      <td>San Francisco</td>\n",
       "      <td>CA</td>\n",
       "      <td>USA</td>\n",
       "      <td>37.790943</td>\n",
       "      <td>-122.408499</td>\n",
       "      <td>{'type': 'Point', 'coordinates': [-122.4084994...</td>\n",
       "    </tr>\n",
       "    <tr>\n",
       "      <th>2</th>\n",
       "      <td>InnerRewards</td>\n",
       "      <td>ecommerce</td>\n",
       "      <td>$1M</td>\n",
       "      <td>West Coast</td>\n",
       "      <td>731 Market Street</td>\n",
       "      <td>Floor 6</td>\n",
       "      <td>94103</td>\n",
       "      <td>San Francisco</td>\n",
       "      <td>CA</td>\n",
       "      <td>USA</td>\n",
       "      <td>37.786910</td>\n",
       "      <td>-122.404403</td>\n",
       "      <td>{'type': 'Point', 'coordinates': [-122.404403,...</td>\n",
       "    </tr>\n",
       "  </tbody>\n",
       "</table>\n",
       "</div>"
      ],
      "text/plain": [
       "           name category_code total_money_raised   description  \\\n",
       "0    StartForce           web                $6M          None   \n",
       "1       Dropbox      software              $257M  Headquarters   \n",
       "2  InnerRewards     ecommerce                $1M    West Coast   \n",
       "\n",
       "            address1                address2 zip_code           city  \\\n",
       "0                                               94109  San Francisco   \n",
       "1                     185 Berry St 4th Floor    94107  San Francisco   \n",
       "2  731 Market Street                 Floor 6    94103  San Francisco   \n",
       "\n",
       "  state_code country_code   latitude   longitude  \\\n",
       "0         CA          USA  37.796164 -122.420903   \n",
       "1         CA          USA  37.790943 -122.408499   \n",
       "2         CA          USA  37.786910 -122.404403   \n",
       "\n",
       "                                            geopoint  \n",
       "0  {'type': 'Point', 'coordinates': [-122.420903,...  \n",
       "1  {'type': 'Point', 'coordinates': [-122.4084994...  \n",
       "2  {'type': 'Point', 'coordinates': [-122.404403,...  "
      ]
     },
     "execution_count": 34,
     "metadata": {},
     "output_type": "execute_result"
    }
   ],
   "source": [
    "df_offi_schoolsSF= pd.DataFrame(offiSF_schools2)\n",
    "df_offi_schoolsSF = df_offi_schoolsSF.drop_duplicates(subset=[\"latitude\",\"longitude\"], keep=\"first\")\n",
    "df_offi_schoolsSF.head(3)"
   ]
  },
  {
   "cell_type": "markdown",
   "metadata": {},
   "source": [
    "## Saving it as json to use it in Mongo for the next geoquery"
   ]
  },
  {
   "cell_type": "code",
   "execution_count": 35,
   "metadata": {},
   "outputs": [],
   "source": [
    "df_offi_schoolsSF.to_json(\"output/df_offi_schoolsSF.json\",orient=\"records\")\n",
    "\n",
    "# Terminal=>  mongoimport -d tech_startups -c nearby_schoolsSF --jsonArray df_offi_schoolsSF.json\n",
    "\n"
   ]
  },
  {
   "cell_type": "markdown",
   "metadata": {},
   "source": [
    "# Starbucks, Airports, Schools and Vegan Nearby"
   ]
  },
  {
   "cell_type": "code",
   "execution_count": 36,
   "metadata": {},
   "outputs": [],
   "source": [
    "offiSF_vegan=[]\n",
    "\n",
    "for i in range(len(df_vegan)):\n",
    "    cuatro = list(db.nearby_schoolsSF.find(geoQueryNear(df_vegan.iloc[i].geopoint, radius=500),{\"_id\":0}))\n",
    "    offiSF_vegan.append(cuatro)                        "
   ]
  },
  {
   "cell_type": "markdown",
   "metadata": {},
   "source": [
    "## Flattening it so it can be put into a df"
   ]
  },
  {
   "cell_type": "code",
   "execution_count": 37,
   "metadata": {},
   "outputs": [],
   "source": [
    "offiSF_vegan2 = [x for e in offiSF_vegan for x in e]"
   ]
  },
  {
   "cell_type": "code",
   "execution_count": 38,
   "metadata": {},
   "outputs": [
    {
     "data": {
      "text/html": [
       "<div>\n",
       "<style scoped>\n",
       "    .dataframe tbody tr th:only-of-type {\n",
       "        vertical-align: middle;\n",
       "    }\n",
       "\n",
       "    .dataframe tbody tr th {\n",
       "        vertical-align: top;\n",
       "    }\n",
       "\n",
       "    .dataframe thead th {\n",
       "        text-align: right;\n",
       "    }\n",
       "</style>\n",
       "<table border=\"1\" class=\"dataframe\">\n",
       "  <thead>\n",
       "    <tr style=\"text-align: right;\">\n",
       "      <th></th>\n",
       "      <th>name</th>\n",
       "      <th>category_code</th>\n",
       "      <th>total_money_raised</th>\n",
       "      <th>description</th>\n",
       "      <th>address1</th>\n",
       "      <th>address2</th>\n",
       "      <th>zip_code</th>\n",
       "      <th>city</th>\n",
       "      <th>state_code</th>\n",
       "      <th>country_code</th>\n",
       "      <th>latitude</th>\n",
       "      <th>longitude</th>\n",
       "      <th>geopoint</th>\n",
       "    </tr>\n",
       "  </thead>\n",
       "  <tbody>\n",
       "    <tr>\n",
       "      <th>0</th>\n",
       "      <td>StartForce</td>\n",
       "      <td>web</td>\n",
       "      <td>$6M</td>\n",
       "      <td>None</td>\n",
       "      <td></td>\n",
       "      <td></td>\n",
       "      <td>94109</td>\n",
       "      <td>San Francisco</td>\n",
       "      <td>CA</td>\n",
       "      <td>USA</td>\n",
       "      <td>37.796164</td>\n",
       "      <td>-122.420903</td>\n",
       "      <td>{'type': 'Point', 'coordinates': [-122.420903,...</td>\n",
       "    </tr>\n",
       "  </tbody>\n",
       "</table>\n",
       "</div>"
      ],
      "text/plain": [
       "         name category_code total_money_raised description address1 address2  \\\n",
       "0  StartForce           web                $6M        None                     \n",
       "\n",
       "  zip_code           city state_code country_code   latitude   longitude  \\\n",
       "0    94109  San Francisco         CA          USA  37.796164 -122.420903   \n",
       "\n",
       "                                            geopoint  \n",
       "0  {'type': 'Point', 'coordinates': [-122.420903,...  "
      ]
     },
     "execution_count": 38,
     "metadata": {},
     "output_type": "execute_result"
    }
   ],
   "source": [
    "df_offi_veganSF= pd.DataFrame(offiSF_vegan2)\n",
    "df_offi_veganSF = df_offi_veganSF.drop_duplicates(subset=[\"latitude\",\"longitude\"], keep=\"first\")\n",
    "df_offi_veganSF.head(3)"
   ]
  },
  {
   "cell_type": "markdown",
   "metadata": {},
   "source": [
    "## Saving it as json to use it in Mongo for the next geoquery"
   ]
  },
  {
   "cell_type": "code",
   "execution_count": 39,
   "metadata": {},
   "outputs": [],
   "source": [
    "df_offi_veganSF.to_json(\"output/df_offi_veganSF.json\",orient=\"records\")\n",
    "\n",
    "# Terminal=>  mongoimport -d tech_startups -c nearby_veganSF --jsonArray df_offi_veganSF.json\n"
   ]
  },
  {
   "cell_type": "markdown",
   "metadata": {},
   "source": [
    "---------------------"
   ]
  },
  {
   "cell_type": "markdown",
   "metadata": {},
   "source": [
    "------------"
   ]
  },
  {
   "cell_type": "markdown",
   "metadata": {},
   "source": [
    "--------------"
   ]
  },
  {
   "cell_type": "markdown",
   "metadata": {},
   "source": [
    "# Putting all this to work"
   ]
  },
  {
   "cell_type": "code",
   "execution_count": 40,
   "metadata": {},
   "outputs": [
    {
     "data": {
      "text/html": [
       "<div>\n",
       "<style scoped>\n",
       "    .dataframe tbody tr th:only-of-type {\n",
       "        vertical-align: middle;\n",
       "    }\n",
       "\n",
       "    .dataframe tbody tr th {\n",
       "        vertical-align: top;\n",
       "    }\n",
       "\n",
       "    .dataframe thead th {\n",
       "        text-align: right;\n",
       "    }\n",
       "</style>\n",
       "<table border=\"1\" class=\"dataframe\">\n",
       "  <thead>\n",
       "    <tr style=\"text-align: right;\">\n",
       "      <th></th>\n",
       "      <th>name</th>\n",
       "      <th>category_code</th>\n",
       "      <th>total_money_raised</th>\n",
       "      <th>description</th>\n",
       "      <th>address1</th>\n",
       "      <th>address2</th>\n",
       "      <th>zip_code</th>\n",
       "      <th>city</th>\n",
       "      <th>state_code</th>\n",
       "      <th>country_code</th>\n",
       "      <th>latitude</th>\n",
       "      <th>longitude</th>\n",
       "      <th>geopoint</th>\n",
       "    </tr>\n",
       "  </thead>\n",
       "  <tbody>\n",
       "    <tr>\n",
       "      <th>0</th>\n",
       "      <td>StartForce</td>\n",
       "      <td>web</td>\n",
       "      <td>$6M</td>\n",
       "      <td>None</td>\n",
       "      <td></td>\n",
       "      <td></td>\n",
       "      <td>94109</td>\n",
       "      <td>San Francisco</td>\n",
       "      <td>CA</td>\n",
       "      <td>USA</td>\n",
       "      <td>37.796164</td>\n",
       "      <td>-122.420903</td>\n",
       "      <td>{'type': 'Point', 'coordinates': [-122.420903,...</td>\n",
       "    </tr>\n",
       "  </tbody>\n",
       "</table>\n",
       "</div>"
      ],
      "text/plain": [
       "         name category_code total_money_raised description address1 address2  \\\n",
       "0  StartForce           web                $6M        None                     \n",
       "\n",
       "  zip_code           city state_code country_code   latitude   longitude  \\\n",
       "0    94109  San Francisco         CA          USA  37.796164 -122.420903   \n",
       "\n",
       "                                            geopoint  \n",
       "0  {'type': 'Point', 'coordinates': [-122.420903,...  "
      ]
     },
     "execution_count": 40,
     "metadata": {},
     "output_type": "execute_result"
    }
   ],
   "source": [
    "df_offi_veganSF.head()"
   ]
  },
  {
   "cell_type": "markdown",
   "metadata": {},
   "source": [
    "**There appears to be only 1 company that fulfills all requirements**"
   ]
  },
  {
   "cell_type": "markdown",
   "metadata": {},
   "source": [
    "----------"
   ]
  },
  {
   "cell_type": "markdown",
   "metadata": {},
   "source": [
    "## Checking out all Starbucks, Airports, Schools and Vegan Restaurants around the chosen offices"
   ]
  },
  {
   "cell_type": "code",
   "execution_count": 45,
   "metadata": {},
   "outputs": [],
   "source": [
    "# Lo siguiente que es x4 la misma cosa se podria meter en una funcion (pendiente)"
   ]
  },
  {
   "cell_type": "code",
   "execution_count": 51,
   "metadata": {},
   "outputs": [
    {
     "data": {
      "text/html": [
       "<div>\n",
       "<style scoped>\n",
       "    .dataframe tbody tr th:only-of-type {\n",
       "        vertical-align: middle;\n",
       "    }\n",
       "\n",
       "    .dataframe tbody tr th {\n",
       "        vertical-align: top;\n",
       "    }\n",
       "\n",
       "    .dataframe thead th {\n",
       "        text-align: right;\n",
       "    }\n",
       "</style>\n",
       "<table border=\"1\" class=\"dataframe\">\n",
       "  <thead>\n",
       "    <tr style=\"text-align: right;\">\n",
       "      <th></th>\n",
       "      <th>name</th>\n",
       "      <th>distance</th>\n",
       "      <th>latitude</th>\n",
       "      <th>longitude</th>\n",
       "      <th>geopoint</th>\n",
       "    </tr>\n",
       "  </thead>\n",
       "  <tbody>\n",
       "    <tr>\n",
       "      <th>0</th>\n",
       "      <td>Starbucks</td>\n",
       "      <td>3179</td>\n",
       "      <td>37.796798</td>\n",
       "      <td>-122.422058</td>\n",
       "      <td>{'type': 'Point', 'coordinates': [-122.4220575...</td>\n",
       "    </tr>\n",
       "  </tbody>\n",
       "</table>\n",
       "</div>"
      ],
      "text/plain": [
       "        name  distance   latitude   longitude  \\\n",
       "0  Starbucks      3179  37.796798 -122.422058   \n",
       "\n",
       "                                            geopoint  \n",
       "0  {'type': 'Point', 'coordinates': [-122.4220575...  "
      ]
     },
     "execution_count": 51,
     "metadata": {},
     "output_type": "execute_result"
    }
   ],
   "source": [
    "nearby_starbucks=[]\n",
    "for i in range(len(df_offi_veganSF)):\n",
    "    \n",
    "    star=list(db.starbucks.find(geoQueryNear(df_offi_veganSF.iloc[i].geopoint, radius=200),{\"_id\":0,\"company_id\":0}))\n",
    "    nearby_starbucks.append(star)\n",
    "    \n",
    "    \n",
    "nearby_starbucks2 = [x for e in nearby_starbucks for x in e]\n",
    "\n",
    "df_nearby_starbucks = pd.DataFrame(nearby_starbucks2)\n",
    "df_nearby_starbucks = df_nearby_starbucks.drop_duplicates(subset=[\"latitude\",\"longitude\"], keep=\"first\")\n",
    "df_nearby_starbucks.head(3)"
   ]
  },
  {
   "cell_type": "markdown",
   "metadata": {},
   "source": [
    "------"
   ]
  },
  {
   "cell_type": "code",
   "execution_count": 52,
   "metadata": {},
   "outputs": [
    {
     "data": {
      "text/html": [
       "<div>\n",
       "<style scoped>\n",
       "    .dataframe tbody tr th:only-of-type {\n",
       "        vertical-align: middle;\n",
       "    }\n",
       "\n",
       "    .dataframe tbody tr th {\n",
       "        vertical-align: top;\n",
       "    }\n",
       "\n",
       "    .dataframe thead th {\n",
       "        text-align: right;\n",
       "    }\n",
       "</style>\n",
       "<table border=\"1\" class=\"dataframe\">\n",
       "  <thead>\n",
       "    <tr style=\"text-align: right;\">\n",
       "      <th></th>\n",
       "      <th>name</th>\n",
       "      <th>distance</th>\n",
       "      <th>latitude</th>\n",
       "      <th>longitude</th>\n",
       "      <th>geopoint</th>\n",
       "    </tr>\n",
       "  </thead>\n",
       "  <tbody>\n",
       "    <tr>\n",
       "      <th>0</th>\n",
       "      <td>Limousine in San Francisco</td>\n",
       "      <td>2545</td>\n",
       "      <td>37.804633</td>\n",
       "      <td>-122.435037</td>\n",
       "      <td>{'type': 'Point', 'coordinates': [-122.435037,...</td>\n",
       "    </tr>\n",
       "    <tr>\n",
       "      <th>1</th>\n",
       "      <td>Service Tracking Systems</td>\n",
       "      <td>4657</td>\n",
       "      <td>37.790484</td>\n",
       "      <td>-122.404182</td>\n",
       "      <td>{'type': 'Point', 'coordinates': [-122.4041815...</td>\n",
       "    </tr>\n",
       "    <tr>\n",
       "      <th>2</th>\n",
       "      <td>UCS Limousine and Car Service</td>\n",
       "      <td>4552</td>\n",
       "      <td>37.788113</td>\n",
       "      <td>-122.405416</td>\n",
       "      <td>{'type': 'Point', 'coordinates': [-122.4054159...</td>\n",
       "    </tr>\n",
       "  </tbody>\n",
       "</table>\n",
       "</div>"
      ],
      "text/plain": [
       "                            name  distance   latitude   longitude  \\\n",
       "0     Limousine in San Francisco      2545  37.804633 -122.435037   \n",
       "1       Service Tracking Systems      4657  37.790484 -122.404182   \n",
       "2  UCS Limousine and Car Service      4552  37.788113 -122.405416   \n",
       "\n",
       "                                            geopoint  \n",
       "0  {'type': 'Point', 'coordinates': [-122.435037,...  \n",
       "1  {'type': 'Point', 'coordinates': [-122.4041815...  \n",
       "2  {'type': 'Point', 'coordinates': [-122.4054159...  "
      ]
     },
     "execution_count": 52,
     "metadata": {},
     "output_type": "execute_result"
    }
   ],
   "source": [
    "nearby_airports=[]\n",
    "for i in range(len(df_offi_veganSF)):\n",
    "    \n",
    "    air=list(db.airports.find(geoQueryNear(df_offi_veganSF.iloc[i].geopoint, radius=20000),{\"_id\":0,\"company_id\":0}))\n",
    "    nearby_airports.append(air)\n",
    "    \n",
    "    \n",
    "nearby_airports2 = [x for e in nearby_airports for x in e]\n",
    "\n",
    "df_nearby_airports = pd.DataFrame(nearby_airports2)\n",
    "df_nearby_airports = df_nearby_airports.drop_duplicates(subset=[\"latitude\",\"longitude\"], keep=\"first\")\n",
    "df_nearby_airports.head(3)"
   ]
  },
  {
   "cell_type": "markdown",
   "metadata": {},
   "source": [
    "------"
   ]
  },
  {
   "cell_type": "code",
   "execution_count": 53,
   "metadata": {},
   "outputs": [
    {
     "data": {
      "text/html": [
       "<div>\n",
       "<style scoped>\n",
       "    .dataframe tbody tr th:only-of-type {\n",
       "        vertical-align: middle;\n",
       "    }\n",
       "\n",
       "    .dataframe tbody tr th {\n",
       "        vertical-align: top;\n",
       "    }\n",
       "\n",
       "    .dataframe thead th {\n",
       "        text-align: right;\n",
       "    }\n",
       "</style>\n",
       "<table border=\"1\" class=\"dataframe\">\n",
       "  <thead>\n",
       "    <tr style=\"text-align: right;\">\n",
       "      <th></th>\n",
       "      <th>name</th>\n",
       "      <th>distance</th>\n",
       "      <th>latitude</th>\n",
       "      <th>longitude</th>\n",
       "      <th>geopoint</th>\n",
       "    </tr>\n",
       "  </thead>\n",
       "  <tbody>\n",
       "    <tr>\n",
       "      <th>0</th>\n",
       "      <td>Spring Valley Science School</td>\n",
       "      <td>3401</td>\n",
       "      <td>37.794436</td>\n",
       "      <td>-122.418885</td>\n",
       "      <td>{'type': 'Point', 'coordinates': [-122.4188852...</td>\n",
       "    </tr>\n",
       "    <tr>\n",
       "      <th>1</th>\n",
       "      <td>St. Brigid Catholic School</td>\n",
       "      <td>2888</td>\n",
       "      <td>37.795243</td>\n",
       "      <td>-122.424994</td>\n",
       "      <td>{'type': 'Point', 'coordinates': [-122.4249939...</td>\n",
       "    </tr>\n",
       "    <tr>\n",
       "      <th>2</th>\n",
       "      <td>Alliance Française de San Francisco</td>\n",
       "      <td>3323</td>\n",
       "      <td>37.788800</td>\n",
       "      <td>-122.419364</td>\n",
       "      <td>{'type': 'Point', 'coordinates': [-122.4193636...</td>\n",
       "    </tr>\n",
       "  </tbody>\n",
       "</table>\n",
       "</div>"
      ],
      "text/plain": [
       "                                  name  distance   latitude   longitude  \\\n",
       "0         Spring Valley Science School      3401  37.794436 -122.418885   \n",
       "1           St. Brigid Catholic School      2888  37.795243 -122.424994   \n",
       "2  Alliance Française de San Francisco      3323  37.788800 -122.419364   \n",
       "\n",
       "                                            geopoint  \n",
       "0  {'type': 'Point', 'coordinates': [-122.4188852...  \n",
       "1  {'type': 'Point', 'coordinates': [-122.4249939...  \n",
       "2  {'type': 'Point', 'coordinates': [-122.4193636...  "
      ]
     },
     "execution_count": 53,
     "metadata": {},
     "output_type": "execute_result"
    }
   ],
   "source": [
    "nearby_schools=[]\n",
    "for i in range(len(df_offi_veganSF)):\n",
    "    \n",
    "    scho=list(db.schools.find(geoQueryNear(df_offi_veganSF.iloc[i].geopoint, radius=5000),{\"_id\":0,\"company_id\":0}))\n",
    "    nearby_schools.append(scho)\n",
    "    \n",
    "    \n",
    "nearby_schools2 = [x for e in nearby_schools for x in e]\n",
    "\n",
    "df_nearby_schools = pd.DataFrame(nearby_schools2)\n",
    "df_nearby_schools = df_nearby_schools.drop_duplicates(subset=[\"latitude\",\"longitude\"], keep=\"first\")\n",
    "df_nearby_schools.head(3)"
   ]
  },
  {
   "cell_type": "markdown",
   "metadata": {},
   "source": [
    "-------"
   ]
  },
  {
   "cell_type": "code",
   "execution_count": 57,
   "metadata": {},
   "outputs": [
    {
     "data": {
      "text/html": [
       "<div>\n",
       "<style scoped>\n",
       "    .dataframe tbody tr th:only-of-type {\n",
       "        vertical-align: middle;\n",
       "    }\n",
       "\n",
       "    .dataframe tbody tr th {\n",
       "        vertical-align: top;\n",
       "    }\n",
       "\n",
       "    .dataframe thead th {\n",
       "        text-align: right;\n",
       "    }\n",
       "</style>\n",
       "<table border=\"1\" class=\"dataframe\">\n",
       "  <thead>\n",
       "    <tr style=\"text-align: right;\">\n",
       "      <th></th>\n",
       "      <th>name</th>\n",
       "      <th>distance</th>\n",
       "      <th>latitude</th>\n",
       "      <th>longitude</th>\n",
       "      <th>geopoint</th>\n",
       "    </tr>\n",
       "  </thead>\n",
       "  <tbody>\n",
       "    <tr>\n",
       "      <th>0</th>\n",
       "      <td>Loving Cup</td>\n",
       "      <td>3225</td>\n",
       "      <td>37.798566</td>\n",
       "      <td>-122.422148</td>\n",
       "      <td>{'type': 'Point', 'coordinates': [-122.422148,...</td>\n",
       "    </tr>\n",
       "    <tr>\n",
       "      <th>1</th>\n",
       "      <td>House of Prime Rib</td>\n",
       "      <td>3045</td>\n",
       "      <td>37.793370</td>\n",
       "      <td>-122.422791</td>\n",
       "      <td>{'type': 'Point', 'coordinates': [-122.4227905...</td>\n",
       "    </tr>\n",
       "    <tr>\n",
       "      <th>2</th>\n",
       "      <td>Thai Spice</td>\n",
       "      <td>3180</td>\n",
       "      <td>37.792792</td>\n",
       "      <td>-122.421161</td>\n",
       "      <td>{'type': 'Point', 'coordinates': [-122.4211610...</td>\n",
       "    </tr>\n",
       "  </tbody>\n",
       "</table>\n",
       "</div>"
      ],
      "text/plain": [
       "                 name  distance   latitude   longitude  \\\n",
       "0          Loving Cup      3225  37.798566 -122.422148   \n",
       "1  House of Prime Rib      3045  37.793370 -122.422791   \n",
       "2          Thai Spice      3180  37.792792 -122.421161   \n",
       "\n",
       "                                            geopoint  \n",
       "0  {'type': 'Point', 'coordinates': [-122.422148,...  \n",
       "1  {'type': 'Point', 'coordinates': [-122.4227905...  \n",
       "2  {'type': 'Point', 'coordinates': [-122.4211610...  "
      ]
     },
     "execution_count": 57,
     "metadata": {},
     "output_type": "execute_result"
    }
   ],
   "source": [
    "nearby_vegan=[]\n",
    "for i in range(len(df_offi_veganSF)):\n",
    "    \n",
    "    veg=list(db.vegan.find(geoQueryNear(df_offi_veganSF.iloc[i].geopoint, radius=500),{\"_id\":0,\"company_id\":0}))\n",
    "    nearby_vegan.append(veg)\n",
    "    \n",
    "    \n",
    "nearby_vegan2 = [x for e in nearby_vegan for x in e]\n",
    "\n",
    "df_nearby_vegan = pd.DataFrame(nearby_vegan2)\n",
    "df_nearby_vegan = df_nearby_vegan.drop_duplicates(subset=[\"latitude\",\"longitude\"], keep=\"first\")\n",
    "df_nearby_vegan.head(3)"
   ]
  },
  {
   "cell_type": "markdown",
   "metadata": {},
   "source": [
    "-------------"
   ]
  },
  {
   "cell_type": "markdown",
   "metadata": {},
   "source": [
    "-------"
   ]
  },
  {
   "cell_type": "markdown",
   "metadata": {},
   "source": [
    "------"
   ]
  },
  {
   "cell_type": "markdown",
   "metadata": {},
   "source": [
    "# Plotting the perfect location 🌎🌉📍"
   ]
  },
  {
   "cell_type": "code",
   "execution_count": 78,
   "metadata": {},
   "outputs": [
    {
     "data": {
      "text/html": [
       "<div style=\"width:100%;\"><div style=\"position:relative;width:100%;height:0;padding-bottom:60%;\"><span style=\"color:#565656\">Make this Notebook Trusted to load map: File -> Trust Notebook</span><iframe src=\"about:blank\" style=\"position:absolute;width:100%;height:100%;left:0;top:0;border:none !important;\" data-html=PCFET0NUWVBFIGh0bWw+CjxoZWFkPiAgICAKICAgIDxtZXRhIGh0dHAtZXF1aXY9ImNvbnRlbnQtdHlwZSIgY29udGVudD0idGV4dC9odG1sOyBjaGFyc2V0PVVURi04IiAvPgogICAgCiAgICAgICAgPHNjcmlwdD4KICAgICAgICAgICAgTF9OT19UT1VDSCA9IGZhbHNlOwogICAgICAgICAgICBMX0RJU0FCTEVfM0QgPSBmYWxzZTsKICAgICAgICA8L3NjcmlwdD4KICAgIAogICAgPHNjcmlwdCBzcmM9Imh0dHBzOi8vY2RuLmpzZGVsaXZyLm5ldC9ucG0vbGVhZmxldEAxLjYuMC9kaXN0L2xlYWZsZXQuanMiPjwvc2NyaXB0PgogICAgPHNjcmlwdCBzcmM9Imh0dHBzOi8vY29kZS5qcXVlcnkuY29tL2pxdWVyeS0xLjEyLjQubWluLmpzIj48L3NjcmlwdD4KICAgIDxzY3JpcHQgc3JjPSJodHRwczovL21heGNkbi5ib290c3RyYXBjZG4uY29tL2Jvb3RzdHJhcC8zLjIuMC9qcy9ib290c3RyYXAubWluLmpzIj48L3NjcmlwdD4KICAgIDxzY3JpcHQgc3JjPSJodHRwczovL2NkbmpzLmNsb3VkZmxhcmUuY29tL2FqYXgvbGlicy9MZWFmbGV0LmF3ZXNvbWUtbWFya2Vycy8yLjAuMi9sZWFmbGV0LmF3ZXNvbWUtbWFya2Vycy5qcyI+PC9zY3JpcHQ+CiAgICA8bGluayByZWw9InN0eWxlc2hlZXQiIGhyZWY9Imh0dHBzOi8vY2RuLmpzZGVsaXZyLm5ldC9ucG0vbGVhZmxldEAxLjYuMC9kaXN0L2xlYWZsZXQuY3NzIi8+CiAgICA8bGluayByZWw9InN0eWxlc2hlZXQiIGhyZWY9Imh0dHBzOi8vbWF4Y2RuLmJvb3RzdHJhcGNkbi5jb20vYm9vdHN0cmFwLzMuMi4wL2Nzcy9ib290c3RyYXAubWluLmNzcyIvPgogICAgPGxpbmsgcmVsPSJzdHlsZXNoZWV0IiBocmVmPSJodHRwczovL21heGNkbi5ib290c3RyYXBjZG4uY29tL2Jvb3RzdHJhcC8zLjIuMC9jc3MvYm9vdHN0cmFwLXRoZW1lLm1pbi5jc3MiLz4KICAgIDxsaW5rIHJlbD0ic3R5bGVzaGVldCIgaHJlZj0iaHR0cHM6Ly9tYXhjZG4uYm9vdHN0cmFwY2RuLmNvbS9mb250LWF3ZXNvbWUvNC42LjMvY3NzL2ZvbnQtYXdlc29tZS5taW4uY3NzIi8+CiAgICA8bGluayByZWw9InN0eWxlc2hlZXQiIGhyZWY9Imh0dHBzOi8vY2RuanMuY2xvdWRmbGFyZS5jb20vYWpheC9saWJzL0xlYWZsZXQuYXdlc29tZS1tYXJrZXJzLzIuMC4yL2xlYWZsZXQuYXdlc29tZS1tYXJrZXJzLmNzcyIvPgogICAgPGxpbmsgcmVsPSJzdHlsZXNoZWV0IiBocmVmPSJodHRwczovL3Jhd2Nkbi5naXRoYWNrLmNvbS9weXRob24tdmlzdWFsaXphdGlvbi9mb2xpdW0vbWFzdGVyL2ZvbGl1bS90ZW1wbGF0ZXMvbGVhZmxldC5hd2Vzb21lLnJvdGF0ZS5jc3MiLz4KICAgIDxzdHlsZT5odG1sLCBib2R5IHt3aWR0aDogMTAwJTtoZWlnaHQ6IDEwMCU7bWFyZ2luOiAwO3BhZGRpbmc6IDA7fTwvc3R5bGU+CiAgICA8c3R5bGU+I21hcCB7cG9zaXRpb246YWJzb2x1dGU7dG9wOjA7Ym90dG9tOjA7cmlnaHQ6MDtsZWZ0OjA7fTwvc3R5bGU+CiAgICAKICAgICAgICAgICAgPG1ldGEgbmFtZT0idmlld3BvcnQiIGNvbnRlbnQ9IndpZHRoPWRldmljZS13aWR0aCwKICAgICAgICAgICAgICAgIGluaXRpYWwtc2NhbGU9MS4wLCBtYXhpbXVtLXNjYWxlPTEuMCwgdXNlci1zY2FsYWJsZT1ubyIgLz4KICAgICAgICAgICAgPHN0eWxlPgogICAgICAgICAgICAgICAgI21hcF9lNjQwNjRkNTM5NTA0Zjk4OWYwMjM1OWQ0ZTdhZWRhNyB7CiAgICAgICAgICAgICAgICAgICAgcG9zaXRpb246IHJlbGF0aXZlOwogICAgICAgICAgICAgICAgICAgIHdpZHRoOiAxMDAuMCU7CiAgICAgICAgICAgICAgICAgICAgaGVpZ2h0OiAxMDAuMCU7CiAgICAgICAgICAgICAgICAgICAgbGVmdDogMC4wJTsKICAgICAgICAgICAgICAgICAgICB0b3A6IDAuMCU7CiAgICAgICAgICAgICAgICB9CiAgICAgICAgICAgIDwvc3R5bGU+CiAgICAgICAgCjwvaGVhZD4KPGJvZHk+ICAgIAogICAgCiAgICAgICAgICAgIDxkaXYgY2xhc3M9ImZvbGl1bS1tYXAiIGlkPSJtYXBfZTY0MDY0ZDUzOTUwNGY5ODlmMDIzNTlkNGU3YWVkYTciID48L2Rpdj4KICAgICAgICAKPC9ib2R5Pgo8c2NyaXB0PiAgICAKICAgIAogICAgICAgICAgICB2YXIgbWFwX2U2NDA2NGQ1Mzk1MDRmOTg5ZjAyMzU5ZDRlN2FlZGE3ID0gTC5tYXAoCiAgICAgICAgICAgICAgICAibWFwX2U2NDA2NGQ1Mzk1MDRmOTg5ZjAyMzU5ZDRlN2FlZGE3IiwKICAgICAgICAgICAgICAgIHsKICAgICAgICAgICAgICAgICAgICBjZW50ZXI6IFszNy43OTYxNjQsIC0xMjIuNDIwOTAzXSwKICAgICAgICAgICAgICAgICAgICBjcnM6IEwuQ1JTLkVQU0czODU3LAogICAgICAgICAgICAgICAgICAgIHpvb206IDE2LAogICAgICAgICAgICAgICAgICAgIHpvb21Db250cm9sOiB0cnVlLAogICAgICAgICAgICAgICAgICAgIHByZWZlckNhbnZhczogZmFsc2UsCiAgICAgICAgICAgICAgICB9CiAgICAgICAgICAgICk7CgogICAgICAgICAgICAKCiAgICAgICAgCiAgICAKICAgICAgICAgICAgdmFyIHRpbGVfbGF5ZXJfMzA2MzBiZTU0MTEyNGFmMDhkYTQzOTY2ZDk3MzUyNDUgPSBMLnRpbGVMYXllcigKICAgICAgICAgICAgICAgICJodHRwczovL3tzfS50aWxlLm9wZW5zdHJlZXRtYXAub3JnL3t6fS97eH0ve3l9LnBuZyIsCiAgICAgICAgICAgICAgICB7ImF0dHJpYnV0aW9uIjogIkRhdGEgYnkgXHUwMDI2Y29weTsgXHUwMDNjYSBocmVmPVwiaHR0cDovL29wZW5zdHJlZXRtYXAub3JnXCJcdTAwM2VPcGVuU3RyZWV0TWFwXHUwMDNjL2FcdTAwM2UsIHVuZGVyIFx1MDAzY2EgaHJlZj1cImh0dHA6Ly93d3cub3BlbnN0cmVldG1hcC5vcmcvY29weXJpZ2h0XCJcdTAwM2VPRGJMXHUwMDNjL2FcdTAwM2UuIiwgImRldGVjdFJldGluYSI6IGZhbHNlLCAibWF4TmF0aXZlWm9vbSI6IDE4LCAibWF4Wm9vbSI6IDE4LCAibWluWm9vbSI6IDAsICJub1dyYXAiOiBmYWxzZSwgIm9wYWNpdHkiOiAxLCAic3ViZG9tYWlucyI6ICJhYmMiLCAidG1zIjogZmFsc2V9CiAgICAgICAgICAgICkuYWRkVG8obWFwX2U2NDA2NGQ1Mzk1MDRmOTg5ZjAyMzU5ZDRlN2FlZGE3KTsKICAgICAgICAKICAgIAogICAgICAgICAgICB2YXIgbWFya2VyXzQ2ZDMxMGFmZWVmNDQ1ZjViZDNjMzI4MTk1NzllMjUzID0gTC5tYXJrZXIoCiAgICAgICAgICAgICAgICBbMzcuNzk2MTY0LCAtMTIyLjQyMDkwM10sCiAgICAgICAgICAgICAgICB7fQogICAgICAgICAgICApLmFkZFRvKG1hcF9lNjQwNjRkNTM5NTA0Zjk4OWYwMjM1OWQ0ZTdhZWRhNyk7CiAgICAgICAgCiAgICAKICAgICAgICAgICAgdmFyIGljb25fMmQ4NGJlMTRlZWEwNGQxYjgwYjAzZjE3NDk1YWY0Y2EgPSBMLkF3ZXNvbWVNYXJrZXJzLmljb24oCiAgICAgICAgICAgICAgICB7ImV4dHJhQ2xhc3NlcyI6ICJmYS1yb3RhdGUtMCIsICJpY29uIjogInRyb3BoeSIsICJpY29uQ29sb3IiOiAid2hpdGUiLCAibWFya2VyQ29sb3IiOiAicmVkIiwgInByZWZpeCI6ICJmYSJ9CiAgICAgICAgICAgICk7CiAgICAgICAgICAgIG1hcmtlcl80NmQzMTBhZmVlZjQ0NWY1YmQzYzMyODE5NTc5ZTI1My5zZXRJY29uKGljb25fMmQ4NGJlMTRlZWEwNGQxYjgwYjAzZjE3NDk1YWY0Y2EpOwogICAgICAgIAogICAgCiAgICAgICAgICAgIHZhciBtYXJrZXJfZTExYzQ4YTk2YTJmNGU4MDk1NjVhZTFiYzBlN2U5MTMgPSBMLm1hcmtlcigKICAgICAgICAgICAgICAgIFszNy43OTY3OTgxMzg0LCAtMTIyLjQyMjA1NzU3NDVdLAogICAgICAgICAgICAgICAge30KICAgICAgICAgICAgKS5hZGRUbyhtYXBfZTY0MDY0ZDUzOTUwNGY5ODlmMDIzNTlkNGU3YWVkYTcpOwogICAgICAgIAogICAgCiAgICAgICAgICAgIHZhciBpY29uXzU2NjNjNDllMTUxNjRkYWJhYjJmNmFiOWI0NDRmZGUxID0gTC5Bd2Vzb21lTWFya2Vycy5pY29uKAogICAgICAgICAgICAgICAgeyJleHRyYUNsYXNzZXMiOiAiZmEtcm90YXRlLTAiLCAiaWNvbiI6ICJjb2ZmZWUiLCAiaWNvbkNvbG9yIjogIndoaXRlIiwgIm1hcmtlckNvbG9yIjogImdyZWVuIiwgInByZWZpeCI6ICJmYSJ9CiAgICAgICAgICAgICk7CiAgICAgICAgICAgIG1hcmtlcl9lMTFjNDhhOTZhMmY0ZTgwOTU2NWFlMWJjMGU3ZTkxMy5zZXRJY29uKGljb25fNTY2M2M0OWUxNTE2NGRhYmFiMmY2YWI5YjQ0NGZkZTEpOwogICAgICAgIAogICAgCiAgICAgICAgICAgIHZhciBtYXJrZXJfOGY2MjlmODVhYWMxNGE1YTk3NmM1YzYzOGY5ZDRkYzEgPSBMLm1hcmtlcigKICAgICAgICAgICAgICAgIFszNy44MDQ2MzMsIC0xMjIuNDM1MDM3XSwKICAgICAgICAgICAgICAgIHt9CiAgICAgICAgICAgICkuYWRkVG8obWFwX2U2NDA2NGQ1Mzk1MDRmOTg5ZjAyMzU5ZDRlN2FlZGE3KTsKICAgICAgICAKICAgIAogICAgICAgICAgICB2YXIgaWNvbl85ZTRkNzFhMDUxMTQ0ZjliOTczNWFhNTM2YWJjNGFhMCA9IEwuQXdlc29tZU1hcmtlcnMuaWNvbigKICAgICAgICAgICAgICAgIHsiZXh0cmFDbGFzc2VzIjogImZhLXJvdGF0ZS0wIiwgImljb24iOiAicGxhbmUiLCAiaWNvbkNvbG9yIjogIndoaXRlIiwgIm1hcmtlckNvbG9yIjogImJsdWUiLCAicHJlZml4IjogImZhIn0KICAgICAgICAgICAgKTsKICAgICAgICAgICAgbWFya2VyXzhmNjI5Zjg1YWFjMTRhNWE5NzZjNWM2MzhmOWQ0ZGMxLnNldEljb24oaWNvbl85ZTRkNzFhMDUxMTQ0ZjliOTczNWFhNTM2YWJjNGFhMCk7CiAgICAgICAgCiAgICAKICAgICAgICAgICAgdmFyIG1hcmtlcl8wZTU0MGNkYzg5MDA0ZWE5YTMwNzAxOGE0M2QyNDExOSA9IEwubWFya2VyKAogICAgICAgICAgICAgICAgWzM3Ljc5MDQ4Mzg5MjQsIC0xMjIuNDA0MTgxNTEzNV0sCiAgICAgICAgICAgICAgICB7fQogICAgICAgICAgICApLmFkZFRvKG1hcF9lNjQwNjRkNTM5NTA0Zjk4OWYwMjM1OWQ0ZTdhZWRhNyk7CiAgICAgICAgCiAgICAKICAgICAgICAgICAgdmFyIGljb25fNDRkYjk3YzFmZjFmNGRmYjkzYTA3YzZjZTAxNDgxMjAgPSBMLkF3ZXNvbWVNYXJrZXJzLmljb24oCiAgICAgICAgICAgICAgICB7ImV4dHJhQ2xhc3NlcyI6ICJmYS1yb3RhdGUtMCIsICJpY29uIjogInBsYW5lIiwgImljb25Db2xvciI6ICJ3aGl0ZSIsICJtYXJrZXJDb2xvciI6ICJibHVlIiwgInByZWZpeCI6ICJmYSJ9CiAgICAgICAgICAgICk7CiAgICAgICAgICAgIG1hcmtlcl8wZTU0MGNkYzg5MDA0ZWE5YTMwNzAxOGE0M2QyNDExOS5zZXRJY29uKGljb25fNDRkYjk3YzFmZjFmNGRmYjkzYTA3YzZjZTAxNDgxMjApOwogICAgICAgIAogICAgCiAgICAgICAgICAgIHZhciBtYXJrZXJfNWIwY2EzODkwOWQ5NDIzODljMWMwYWQyYjFhOTgyMDIgPSBMLm1hcmtlcigKICAgICAgICAgICAgICAgIFszNy43ODgxMTI2MTA2LCAtMTIyLjQwNTQxNTk5NjldLAogICAgICAgICAgICAgICAge30KICAgICAgICAgICAgKS5hZGRUbyhtYXBfZTY0MDY0ZDUzOTUwNGY5ODlmMDIzNTlkNGU3YWVkYTcpOwogICAgICAgIAogICAgCiAgICAgICAgICAgIHZhciBpY29uXzgwMmY1NTYyZWY2MzRkMDc4MWVlNTQ1ZmI4YjU5ZWQ2ID0gTC5Bd2Vzb21lTWFya2Vycy5pY29uKAogICAgICAgICAgICAgICAgeyJleHRyYUNsYXNzZXMiOiAiZmEtcm90YXRlLTAiLCAiaWNvbiI6ICJwbGFuZSIsICJpY29uQ29sb3IiOiAid2hpdGUiLCAibWFya2VyQ29sb3IiOiAiYmx1ZSIsICJwcmVmaXgiOiAiZmEifQogICAgICAgICAgICApOwogICAgICAgICAgICBtYXJrZXJfNWIwY2EzODkwOWQ5NDIzODljMWMwYWQyYjFhOTgyMDIuc2V0SWNvbihpY29uXzgwMmY1NTYyZWY2MzRkMDc4MWVlNTQ1ZmI4YjU5ZWQ2KTsKICAgICAgICAKICAgIAogICAgICAgICAgICB2YXIgbWFya2VyX2IxYzE2NDQzM2JmODQyYmVhZDkyNjgwMGJiY2E1M2JjID0gTC5tYXJrZXIoCiAgICAgICAgICAgICAgICBbMzcuNzgyODI0MSwgLTEyMi40MzIzNjk1XSwKICAgICAgICAgICAgICAgIHt9CiAgICAgICAgICAgICkuYWRkVG8obWFwX2U2NDA2NGQ1Mzk1MDRmOTg5ZjAyMzU5ZDRlN2FlZGE3KTsKICAgICAgICAKICAgIAogICAgICAgICAgICB2YXIgaWNvbl9hYmViZTE3YzA0OTA0NGQ0OWY3ZDE3NjU3NzAyZTAzMSA9IEwuQXdlc29tZU1hcmtlcnMuaWNvbigKICAgICAgICAgICAgICAgIHsiZXh0cmFDbGFzc2VzIjogImZhLXJvdGF0ZS0wIiwgImljb24iOiAicGxhbmUiLCAiaWNvbkNvbG9yIjogIndoaXRlIiwgIm1hcmtlckNvbG9yIjogImJsdWUiLCAicHJlZml4IjogImZhIn0KICAgICAgICAgICAgKTsKICAgICAgICAgICAgbWFya2VyX2IxYzE2NDQzM2JmODQyYmVhZDkyNjgwMGJiY2E1M2JjLnNldEljb24oaWNvbl9hYmViZTE3YzA0OTA0NGQ0OWY3ZDE3NjU3NzAyZTAzMSk7CiAgICAgICAgCiAgICAKICAgICAgICAgICAgdmFyIG1hcmtlcl83MzQ2ZWI3N2YzZTI0Njc5ODUwMTQxYTJhY2E3YWFmNiA9IEwubWFya2VyKAogICAgICAgICAgICAgICAgWzM3Ljc4NTA2MiwgLTEyMi40MDQ4NDRdLAogICAgICAgICAgICAgICAge30KICAgICAgICAgICAgKS5hZGRUbyhtYXBfZTY0MDY0ZDUzOTUwNGY5ODlmMDIzNTlkNGU3YWVkYTcpOwogICAgICAgIAogICAgCiAgICAgICAgICAgIHZhciBpY29uX2ViNTkwOTgyMGRlODQ2ZDBhZjE2OTNiMzA1YjgwODU0ID0gTC5Bd2Vzb21lTWFya2Vycy5pY29uKAogICAgICAgICAgICAgICAgeyJleHRyYUNsYXNzZXMiOiAiZmEtcm90YXRlLTAiLCAiaWNvbiI6ICJwbGFuZSIsICJpY29uQ29sb3IiOiAid2hpdGUiLCAibWFya2VyQ29sb3IiOiAiYmx1ZSIsICJwcmVmaXgiOiAiZmEifQogICAgICAgICAgICApOwogICAgICAgICAgICBtYXJrZXJfNzM0NmViNzdmM2UyNDY3OTg1MDE0MWEyYWNhN2FhZjYuc2V0SWNvbihpY29uX2ViNTkwOTgyMGRlODQ2ZDBhZjE2OTNiMzA1YjgwODU0KTsKICAgICAgICAKICAgIAogICAgICAgICAgICB2YXIgbWFya2VyXzVlNjMzMTcwYWIxMzQ5NzA4OThjZDQzNTA1NWY5M2VhID0gTC5tYXJrZXIoCiAgICAgICAgICAgICAgICBbMzcuNzgwODMsIC0xMjIuNDMwODFdLAogICAgICAgICAgICAgICAge30KICAgICAgICAgICAgKS5hZGRUbyhtYXBfZTY0MDY0ZDUzOTUwNGY5ODlmMDIzNTlkNGU3YWVkYTcpOwogICAgICAgIAogICAgCiAgICAgICAgICAgIHZhciBpY29uX2MzM2YwYzNkZDg4NzQxNzdiOTc3Y2Q3YTdiNDhlNDQ1ID0gTC5Bd2Vzb21lTWFya2Vycy5pY29uKAogICAgICAgICAgICAgICAgeyJleHRyYUNsYXNzZXMiOiAiZmEtcm90YXRlLTAiLCAiaWNvbiI6ICJwbGFuZSIsICJpY29uQ29sb3IiOiAid2hpdGUiLCAibWFya2VyQ29sb3IiOiAiYmx1ZSIsICJwcmVmaXgiOiAiZmEifQogICAgICAgICAgICApOwogICAgICAgICAgICBtYXJrZXJfNWU2MzMxNzBhYjEzNDk3MDg5OGNkNDM1MDU1ZjkzZWEuc2V0SWNvbihpY29uX2MzM2YwYzNkZDg4NzQxNzdiOTc3Y2Q3YTdiNDhlNDQ1KTsKICAgICAgICAKICAgIAogICAgICAgICAgICB2YXIgbWFya2VyXzNhNzI4MjQzOTY0NTRmOWM4OTRiNzYzMTAxYTFkOTVjID0gTC5tYXJrZXIoCiAgICAgICAgICAgICAgICBbMzcuNzkyOTUsIC0xMjIuMzk4MTAyXSwKICAgICAgICAgICAgICAgIHt9CiAgICAgICAgICAgICkuYWRkVG8obWFwX2U2NDA2NGQ1Mzk1MDRmOTg5ZjAyMzU5ZDRlN2FlZGE3KTsKICAgICAgICAKICAgIAogICAgICAgICAgICB2YXIgaWNvbl9iYTFhZTRjOGE4NDM0NzI1OWM4M2E4NWZiY2E0NzdlMiA9IEwuQXdlc29tZU1hcmtlcnMuaWNvbigKICAgICAgICAgICAgICAgIHsiZXh0cmFDbGFzc2VzIjogImZhLXJvdGF0ZS0wIiwgImljb24iOiAicGxhbmUiLCAiaWNvbkNvbG9yIjogIndoaXRlIiwgIm1hcmtlckNvbG9yIjogImJsdWUiLCAicHJlZml4IjogImZhIn0KICAgICAgICAgICAgKTsKICAgICAgICAgICAgbWFya2VyXzNhNzI4MjQzOTY0NTRmOWM4OTRiNzYzMTAxYTFkOTVjLnNldEljb24oaWNvbl9iYTFhZTRjOGE4NDM0NzI1OWM4M2E4NWZiY2E0NzdlMik7CiAgICAgICAgCiAgICAKICAgICAgICAgICAgdmFyIG1hcmtlcl82MWM5NDI3NzJjYTI0Y2ExYmQyYzg5M2Y2NDFlOWE1MyA9IEwubWFya2VyKAogICAgICAgICAgICAgICAgWzM3Ljc4Njg3MTgsIC0xMjIuNDAwNzMzM10sCiAgICAgICAgICAgICAgICB7fQogICAgICAgICAgICApLmFkZFRvKG1hcF9lNjQwNjRkNTM5NTA0Zjk4OWYwMjM1OWQ0ZTdhZWRhNyk7CiAgICAgICAgCiAgICAKICAgICAgICAgICAgdmFyIGljb25fNWQ4OTM3MzI2YjRiNDNlZmJhMjZhMDFjNDgwNTRmMjkgPSBMLkF3ZXNvbWVNYXJrZXJzLmljb24oCiAgICAgICAgICAgICAgICB7ImV4dHJhQ2xhc3NlcyI6ICJmYS1yb3RhdGUtMCIsICJpY29uIjogInBsYW5lIiwgImljb25Db2xvciI6ICJ3aGl0ZSIsICJtYXJrZXJDb2xvciI6ICJibHVlIiwgInByZWZpeCI6ICJmYSJ9CiAgICAgICAgICAgICk7CiAgICAgICAgICAgIG1hcmtlcl82MWM5NDI3NzJjYTI0Y2ExYmQyYzg5M2Y2NDFlOWE1My5zZXRJY29uKGljb25fNWQ4OTM3MzI2YjRiNDNlZmJhMjZhMDFjNDgwNTRmMjkpOwogICAgICAgIAogICAgCiAgICAgICAgICAgIHZhciBtYXJrZXJfYTkxMGFhMzA1YTY0NGRhOWE5ZDA0YzgzYWJhMDcxOWUgPSBMLm1hcmtlcigKICAgICAgICAgICAgICAgIFszNy43OTIzNTIwMzc5LCAtMTIyLjM5Nzk0NDAzMzFdLAogICAgICAgICAgICAgICAge30KICAgICAgICAgICAgKS5hZGRUbyhtYXBfZTY0MDY0ZDUzOTUwNGY5ODlmMDIzNTlkNGU3YWVkYTcpOwogICAgICAgIAogICAgCiAgICAgICAgICAgIHZhciBpY29uXzZkZTc3ZDdjNWIwYTRhOGE4YzFjZDBhYTFiY2JlNjcxID0gTC5Bd2Vzb21lTWFya2Vycy5pY29uKAogICAgICAgICAgICAgICAgeyJleHRyYUNsYXNzZXMiOiAiZmEtcm90YXRlLTAiLCAiaWNvbiI6ICJwbGFuZSIsICJpY29uQ29sb3IiOiAid2hpdGUiLCAibWFya2VyQ29sb3IiOiAiYmx1ZSIsICJwcmVmaXgiOiAiZmEifQogICAgICAgICAgICApOwogICAgICAgICAgICBtYXJrZXJfYTkxMGFhMzA1YTY0NGRhOWE5ZDA0YzgzYWJhMDcxOWUuc2V0SWNvbihpY29uXzZkZTc3ZDdjNWIwYTRhOGE4YzFjZDBhYTFiY2JlNjcxKTsKICAgICAgICAKICAgIAogICAgICAgICAgICB2YXIgbWFya2VyX2NiMzU2NzYzYzgzMzRhMDk5NzJhZTY0NGQ5ZjQ5OGQzID0gTC5tYXJrZXIoCiAgICAgICAgICAgICAgICBbMzcuNzkzODk2LCAtMTIyLjM5Njk3M10sCiAgICAgICAgICAgICAgICB7fQogICAgICAgICAgICApLmFkZFRvKG1hcF9lNjQwNjRkNTM5NTA0Zjk4OWYwMjM1OWQ0ZTdhZWRhNyk7CiAgICAgICAgCiAgICAKICAgICAgICAgICAgdmFyIGljb25fZjU4Njg4M2JhZjEwNDM2YzhmMTVlZDg4ODYxNTNkYWIgPSBMLkF3ZXNvbWVNYXJrZXJzLmljb24oCiAgICAgICAgICAgICAgICB7ImV4dHJhQ2xhc3NlcyI6ICJmYS1yb3RhdGUtMCIsICJpY29uIjogInBsYW5lIiwgImljb25Db2xvciI6ICJ3aGl0ZSIsICJtYXJrZXJDb2xvciI6ICJibHVlIiwgInByZWZpeCI6ICJmYSJ9CiAgICAgICAgICAgICk7CiAgICAgICAgICAgIG1hcmtlcl9jYjM1Njc2M2M4MzM0YTA5OTcyYWU2NDRkOWY0OThkMy5zZXRJY29uKGljb25fZjU4Njg4M2JhZjEwNDM2YzhmMTVlZDg4ODYxNTNkYWIpOwogICAgICAgIAogICAgCiAgICAgICAgICAgIHZhciBtYXJrZXJfZTg4OGI0OGFjZWIyNDdjMTk4NjY0N2Y3MDNhMjU2M2UgPSBMLm1hcmtlcigKICAgICAgICAgICAgICAgIFszNy43ODc1NzI4LCAtMTIyLjM5NjU4MThdLAogICAgICAgICAgICAgICAge30KICAgICAgICAgICAgKS5hZGRUbyhtYXBfZTY0MDY0ZDUzOTUwNGY5ODlmMDIzNTlkNGU3YWVkYTcpOwogICAgICAgIAogICAgCiAgICAgICAgICAgIHZhciBpY29uXzZkZjc2NGM3ZDJkNDRkMjQ4YTFiNWZiYTAzMDc5YmE0ID0gTC5Bd2Vzb21lTWFya2Vycy5pY29uKAogICAgICAgICAgICAgICAgeyJleHRyYUNsYXNzZXMiOiAiZmEtcm90YXRlLTAiLCAiaWNvbiI6ICJwbGFuZSIsICJpY29uQ29sb3IiOiAid2hpdGUiLCAibWFya2VyQ29sb3IiOiAiYmx1ZSIsICJwcmVmaXgiOiAiZmEifQogICAgICAgICAgICApOwogICAgICAgICAgICBtYXJrZXJfZTg4OGI0OGFjZWIyNDdjMTk4NjY0N2Y3MDNhMjU2M2Uuc2V0SWNvbihpY29uXzZkZjc2NGM3ZDJkNDRkMjQ4YTFiNWZiYTAzMDc5YmE0KTsKICAgICAgICAKICAgIAogICAgICAgICAgICB2YXIgbWFya2VyXzdmZDFhMDA3OWRhZTRjNzBiMDI4MTlhYmNlNTIyODE5ID0gTC5tYXJrZXIoCiAgICAgICAgICAgICAgICBbMzcuNzc4ODU1ODYxNiwgLTEyMi40NTE0NDYwNTY0XSwKICAgICAgICAgICAgICAgIHt9CiAgICAgICAgICAgICkuYWRkVG8obWFwX2U2NDA2NGQ1Mzk1MDRmOTg5ZjAyMzU5ZDRlN2FlZGE3KTsKICAgICAgICAKICAgIAogICAgICAgICAgICB2YXIgaWNvbl9jNDAwNGFjMzE5ZWM0YWMzOTAxNWQ0ZWU1NWU0Y2Y3MiA9IEwuQXdlc29tZU1hcmtlcnMuaWNvbigKICAgICAgICAgICAgICAgIHsiZXh0cmFDbGFzc2VzIjogImZhLXJvdGF0ZS0wIiwgImljb24iOiAicGxhbmUiLCAiaWNvbkNvbG9yIjogIndoaXRlIiwgIm1hcmtlckNvbG9yIjogImJsdWUiLCAicHJlZml4IjogImZhIn0KICAgICAgICAgICAgKTsKICAgICAgICAgICAgbWFya2VyXzdmZDFhMDA3OWRhZTRjNzBiMDI4MTlhYmNlNTIyODE5LnNldEljb24oaWNvbl9jNDAwNGFjMzE5ZWM0YWMzOTAxNWQ0ZWU1NWU0Y2Y3Mik7CiAgICAgICAgCiAgICAKICAgICAgICAgICAgdmFyIG1hcmtlcl9hNTlkNjY0YzY2NjE0MDY5ODc0OGYyOWFlMTc2N2QyOCA9IEwubWFya2VyKAogICAgICAgICAgICAgICAgWzM3Ljc2Nzg2MywgLTEyMi40MDUyODldLAogICAgICAgICAgICAgICAge30KICAgICAgICAgICAgKS5hZGRUbyhtYXBfZTY0MDY0ZDUzOTUwNGY5ODlmMDIzNTlkNGU3YWVkYTcpOwogICAgICAgIAogICAgCiAgICAgICAgICAgIHZhciBpY29uX2FmYWY1OTQyODczZTQ3NDQ4NTE0YzlhNGJjMzg2MDFjID0gTC5Bd2Vzb21lTWFya2Vycy5pY29uKAogICAgICAgICAgICAgICAgeyJleHRyYUNsYXNzZXMiOiAiZmEtcm90YXRlLTAiLCAiaWNvbiI6ICJwbGFuZSIsICJpY29uQ29sb3IiOiAid2hpdGUiLCAibWFya2VyQ29sb3IiOiAiYmx1ZSIsICJwcmVmaXgiOiAiZmEifQogICAgICAgICAgICApOwogICAgICAgICAgICBtYXJrZXJfYTU5ZDY2NGM2NjYxNDA2OTg3NDhmMjlhZTE3NjdkMjguc2V0SWNvbihpY29uX2FmYWY1OTQyODczZTQ3NDQ4NTE0YzlhNGJjMzg2MDFjKTsKICAgICAgICAKICAgIAogICAgICAgICAgICB2YXIgbWFya2VyXzNmNzkyMGVlYmNlMzQ0NGI4ZmNlOGEwYzJjMWQ0MjI5ID0gTC5tYXJrZXIoCiAgICAgICAgICAgICAgICBbMzcuODA1NDk4OTMyNywgLTEyMi4zODI5Mjg0ODQzXSwKICAgICAgICAgICAgICAgIHt9CiAgICAgICAgICAgICkuYWRkVG8obWFwX2U2NDA2NGQ1Mzk1MDRmOTg5ZjAyMzU5ZDRlN2FlZGE3KTsKICAgICAgICAKICAgIAogICAgICAgICAgICB2YXIgaWNvbl83YmQ3ODM2Y2U4NGQ0ZmI3YThjNGQ5MDI4NGFhYjdiNiA9IEwuQXdlc29tZU1hcmtlcnMuaWNvbigKICAgICAgICAgICAgICAgIHsiZXh0cmFDbGFzc2VzIjogImZhLXJvdGF0ZS0wIiwgImljb24iOiAicGxhbmUiLCAiaWNvbkNvbG9yIjogIndoaXRlIiwgIm1hcmtlckNvbG9yIjogImJsdWUiLCAicHJlZml4IjogImZhIn0KICAgICAgICAgICAgKTsKICAgICAgICAgICAgbWFya2VyXzNmNzkyMGVlYmNlMzQ0NGI4ZmNlOGEwYzJjMWQ0MjI5LnNldEljb24oaWNvbl83YmQ3ODM2Y2U4NGQ0ZmI3YThjNGQ5MDI4NGFhYjdiNik7CiAgICAgICAgCiAgICAKICAgICAgICAgICAgdmFyIG1hcmtlcl9lODQyNjExMDUwNmQ0MGRjODMyZTAwNWY0ZDk2NTVmNiA9IEwubWFya2VyKAogICAgICAgICAgICAgICAgWzM3Ljc2NDY5LCAtMTIyLjQyMzk0OV0sCiAgICAgICAgICAgICAgICB7fQogICAgICAgICAgICApLmFkZFRvKG1hcF9lNjQwNjRkNTM5NTA0Zjk4OWYwMjM1OWQ0ZTdhZWRhNyk7CiAgICAgICAgCiAgICAKICAgICAgICAgICAgdmFyIGljb25fMTdiNzAwNTE5ZjBjNDZjMWE4ZTc5YTM2NjJjNDZkYzYgPSBMLkF3ZXNvbWVNYXJrZXJzLmljb24oCiAgICAgICAgICAgICAgICB7ImV4dHJhQ2xhc3NlcyI6ICJmYS1yb3RhdGUtMCIsICJpY29uIjogInBsYW5lIiwgImljb25Db2xvciI6ICJ3aGl0ZSIsICJtYXJrZXJDb2xvciI6ICJibHVlIiwgInByZWZpeCI6ICJmYSJ9CiAgICAgICAgICAgICk7CiAgICAgICAgICAgIG1hcmtlcl9lODQyNjExMDUwNmQ0MGRjODMyZTAwNWY0ZDk2NTVmNi5zZXRJY29uKGljb25fMTdiNzAwNTE5ZjBjNDZjMWE4ZTc5YTM2NjJjNDZkYzYpOwogICAgICAgIAogICAgCiAgICAgICAgICAgIHZhciBtYXJrZXJfM2M3ZTBkODY1ODgxNGQyZmEwZjcwMzgwZjY2NzUyMTQgPSBMLm1hcmtlcigKICAgICAgICAgICAgICAgIFszNy43NjU0LCAtMTIyLjQwMjc5XSwKICAgICAgICAgICAgICAgIHt9CiAgICAgICAgICAgICkuYWRkVG8obWFwX2U2NDA2NGQ1Mzk1MDRmOTg5ZjAyMzU5ZDRlN2FlZGE3KTsKICAgICAgICAKICAgIAogICAgICAgICAgICB2YXIgaWNvbl8zZWUxMTA4YzYwZTM0NTY4YjBjYTE2MmJiNWI2NjlkNiA9IEwuQXdlc29tZU1hcmtlcnMuaWNvbigKICAgICAgICAgICAgICAgIHsiZXh0cmFDbGFzc2VzIjogImZhLXJvdGF0ZS0wIiwgImljb24iOiAicGxhbmUiLCAiaWNvbkNvbG9yIjogIndoaXRlIiwgIm1hcmtlckNvbG9yIjogImJsdWUiLCAicHJlZml4IjogImZhIn0KICAgICAgICAgICAgKTsKICAgICAgICAgICAgbWFya2VyXzNjN2UwZDg2NTg4MTRkMmZhMGY3MDM4MGY2Njc1MjE0LnNldEljb24oaWNvbl8zZWUxMTA4YzYwZTM0NTY4YjBjYTE2MmJiNWI2NjlkNik7CiAgICAgICAgCiAgICAKICAgICAgICAgICAgdmFyIG1hcmtlcl83N2FhMjQwYjdhODU0MDA5YTQwMDBjNzBlMmJlMThhZCA9IEwubWFya2VyKAogICAgICAgICAgICAgICAgWzM3Ljc2Nzc3ODA4MDcsIC0xMjIuMzk2MTg5MDY2XSwKICAgICAgICAgICAgICAgIHt9CiAgICAgICAgICAgICkuYWRkVG8obWFwX2U2NDA2NGQ1Mzk1MDRmOTg5ZjAyMzU5ZDRlN2FlZGE3KTsKICAgICAgICAKICAgIAogICAgICAgICAgICB2YXIgaWNvbl81YTVmYTdlYmI0ZDQ0NDE3ODE0OWNlY2I2N2JhMWQ2YyA9IEwuQXdlc29tZU1hcmtlcnMuaWNvbigKICAgICAgICAgICAgICAgIHsiZXh0cmFDbGFzc2VzIjogImZhLXJvdGF0ZS0wIiwgImljb24iOiAicGxhbmUiLCAiaWNvbkNvbG9yIjogIndoaXRlIiwgIm1hcmtlckNvbG9yIjogImJsdWUiLCAicHJlZml4IjogImZhIn0KICAgICAgICAgICAgKTsKICAgICAgICAgICAgbWFya2VyXzc3YWEyNDBiN2E4NTQwMDlhNDAwMGM3MGUyYmUxOGFkLnNldEljb24oaWNvbl81YTVmYTdlYmI0ZDQ0NDE3ODE0OWNlY2I2N2JhMWQ2Yyk7CiAgICAgICAgCiAgICAKICAgICAgICAgICAgdmFyIG1hcmtlcl81MDA5ZmQzNTFlM2U0OTg4ODQ3ZWJkY2E1NTI0MzkwYSA9IEwubWFya2VyKAogICAgICAgICAgICAgICAgWzM3Ljc1MzczNCwgLTEyMi40MTY4NzhdLAogICAgICAgICAgICAgICAge30KICAgICAgICAgICAgKS5hZGRUbyhtYXBfZTY0MDY0ZDUzOTUwNGY5ODlmMDIzNTlkNGU3YWVkYTcpOwogICAgICAgIAogICAgCiAgICAgICAgICAgIHZhciBpY29uXzRjMmUyNjJkYWIzNDQzNmJhZmFmNTc1ZjQwODU2MDk2ID0gTC5Bd2Vzb21lTWFya2Vycy5pY29uKAogICAgICAgICAgICAgICAgeyJleHRyYUNsYXNzZXMiOiAiZmEtcm90YXRlLTAiLCAiaWNvbiI6ICJwbGFuZSIsICJpY29uQ29sb3IiOiAid2hpdGUiLCAibWFya2VyQ29sb3IiOiAiYmx1ZSIsICJwcmVmaXgiOiAiZmEifQogICAgICAgICAgICApOwogICAgICAgICAgICBtYXJrZXJfNTAwOWZkMzUxZTNlNDk4ODg0N2ViZGNhNTUyNDM5MGEuc2V0SWNvbihpY29uXzRjMmUyNjJkYWIzNDQzNmJhZmFmNTc1ZjQwODU2MDk2KTsKICAgICAgICAKICAgIAogICAgICAgICAgICB2YXIgbWFya2VyXzJjYmY3Njk2NzE1ZTQ5MTBiNWY3Y2FmNDVjNjBhYzkxID0gTC5tYXJrZXIoCiAgICAgICAgICAgICAgICBbMzcuNzc5NzU3NywgLTEyMi40OTYxNDk2XSwKICAgICAgICAgICAgICAgIHt9CiAgICAgICAgICAgICkuYWRkVG8obWFwX2U2NDA2NGQ1Mzk1MDRmOTg5ZjAyMzU5ZDRlN2FlZGE3KTsKICAgICAgICAKICAgIAogICAgICAgICAgICB2YXIgaWNvbl9mYjdiZGQ0ZTI2MzI0ODJhOGFiZGY1YmRkYjA1OWU4NCA9IEwuQXdlc29tZU1hcmtlcnMuaWNvbigKICAgICAgICAgICAgICAgIHsiZXh0cmFDbGFzc2VzIjogImZhLXJvdGF0ZS0wIiwgImljb24iOiAicGxhbmUiLCAiaWNvbkNvbG9yIjogIndoaXRlIiwgIm1hcmtlckNvbG9yIjogImJsdWUiLCAicHJlZml4IjogImZhIn0KICAgICAgICAgICAgKTsKICAgICAgICAgICAgbWFya2VyXzJjYmY3Njk2NzE1ZTQ5MTBiNWY3Y2FmNDVjNjBhYzkxLnNldEljb24oaWNvbl9mYjdiZGQ0ZTI2MzI0ODJhOGFiZGY1YmRkYjA1OWU4NCk7CiAgICAgICAgCiAgICAKICAgICAgICAgICAgdmFyIG1hcmtlcl81NjgwYWVmYjg4Yzg0ZDA1YmU2ZGJmMDYwYzU1OTkxNCA9IEwubWFya2VyKAogICAgICAgICAgICAgICAgWzM3LjcxODU4LCAtMTIyLjQ3ODkxXSwKICAgICAgICAgICAgICAgIHt9CiAgICAgICAgICAgICkuYWRkVG8obWFwX2U2NDA2NGQ1Mzk1MDRmOTg5ZjAyMzU5ZDRlN2FlZGE3KTsKICAgICAgICAKICAgIAogICAgICAgICAgICB2YXIgaWNvbl83YzU3M2ZjZmZkMDE0YjYwYjhiZWRiZjFkYjgwZmMwOSA9IEwuQXdlc29tZU1hcmtlcnMuaWNvbigKICAgICAgICAgICAgICAgIHsiZXh0cmFDbGFzc2VzIjogImZhLXJvdGF0ZS0wIiwgImljb24iOiAicGxhbmUiLCAiaWNvbkNvbG9yIjogIndoaXRlIiwgIm1hcmtlckNvbG9yIjogImJsdWUiLCAicHJlZml4IjogImZhIn0KICAgICAgICAgICAgKTsKICAgICAgICAgICAgbWFya2VyXzU2ODBhZWZiODhjODRkMDViZTZkYmYwNjBjNTU5OTE0LnNldEljb24oaWNvbl83YzU3M2ZjZmZkMDE0YjYwYjhiZWRiZjFkYjgwZmMwOSk7CiAgICAgICAgCiAgICAKICAgICAgICAgICAgdmFyIG1hcmtlcl85MmRlNjM1MTA5MGQ0MDNmYjBmYjQwNDAwNjYwMzEwOSA9IEwubWFya2VyKAogICAgICAgICAgICAgICAgWzM3LjcwODU0OTI5ODEsIC0xMjIuNDUyNzgyNjU1Ml0sCiAgICAgICAgICAgICAgICB7fQogICAgICAgICAgICApLmFkZFRvKG1hcF9lNjQwNjRkNTM5NTA0Zjk4OWYwMjM1OWQ0ZTdhZWRhNyk7CiAgICAgICAgCiAgICAKICAgICAgICAgICAgdmFyIGljb25fZDRjZTJjY2U0YTcxNDYyMjkyYWQ4OTFhN2QwZTA1NDUgPSBMLkF3ZXNvbWVNYXJrZXJzLmljb24oCiAgICAgICAgICAgICAgICB7ImV4dHJhQ2xhc3NlcyI6ICJmYS1yb3RhdGUtMCIsICJpY29uIjogInBsYW5lIiwgImljb25Db2xvciI6ICJ3aGl0ZSIsICJtYXJrZXJDb2xvciI6ICJibHVlIiwgInByZWZpeCI6ICJmYSJ9CiAgICAgICAgICAgICk7CiAgICAgICAgICAgIG1hcmtlcl85MmRlNjM1MTA5MGQ0MDNmYjBmYjQwNDAwNjYwMzEwOS5zZXRJY29uKGljb25fZDRjZTJjY2U0YTcxNDYyMjkyYWQ4OTFhN2QwZTA1NDUpOwogICAgICAgIAogICAgCiAgICAgICAgICAgIHZhciBtYXJrZXJfMGZiMDg2YjFkZjNkNGViN2I2ZDg1MDFkZTdhMTY4M2YgPSBMLm1hcmtlcigKICAgICAgICAgICAgICAgIFszNy43MDc0MTMsIC0xMjIuNDY0NDkzXSwKICAgICAgICAgICAgICAgIHt9CiAgICAgICAgICAgICkuYWRkVG8obWFwX2U2NDA2NGQ1Mzk1MDRmOTg5ZjAyMzU5ZDRlN2FlZGE3KTsKICAgICAgICAKICAgIAogICAgICAgICAgICB2YXIgaWNvbl80ZmM5ZGVmZDVlYzU0ZGJiYWM0NzNiYmYwOGEyYzU3YiA9IEwuQXdlc29tZU1hcmtlcnMuaWNvbigKICAgICAgICAgICAgICAgIHsiZXh0cmFDbGFzc2VzIjogImZhLXJvdGF0ZS0wIiwgImljb24iOiAicGxhbmUiLCAiaWNvbkNvbG9yIjogIndoaXRlIiwgIm1hcmtlckNvbG9yIjogImJsdWUiLCAicHJlZml4IjogImZhIn0KICAgICAgICAgICAgKTsKICAgICAgICAgICAgbWFya2VyXzBmYjA4NmIxZGYzZDRlYjdiNmQ4NTAxZGU3YTE2ODNmLnNldEljb24oaWNvbl80ZmM5ZGVmZDVlYzU0ZGJiYWM0NzNiYmYwOGEyYzU3Yik7CiAgICAgICAgCiAgICAKICAgICAgICAgICAgdmFyIG1hcmtlcl9iMTRkYTBiMDAyOGE0OTgyYmZjOTg4NDg5ZGQ3ZDEzZiA9IEwubWFya2VyKAogICAgICAgICAgICAgICAgWzM3LjY2Njg4Mzk5NzUsIC0xMjIuMzkzMzkxNTE5OF0sCiAgICAgICAgICAgICAgICB7fQogICAgICAgICAgICApLmFkZFRvKG1hcF9lNjQwNjRkNTM5NTA0Zjk4OWYwMjM1OWQ0ZTdhZWRhNyk7CiAgICAgICAgCiAgICAKICAgICAgICAgICAgdmFyIGljb25fOWNhZWUxN2M3YzY1NGUxMmE4MjVlZDZkYTNiZmI3MGIgPSBMLkF3ZXNvbWVNYXJrZXJzLmljb24oCiAgICAgICAgICAgICAgICB7ImV4dHJhQ2xhc3NlcyI6ICJmYS1yb3RhdGUtMCIsICJpY29uIjogInBsYW5lIiwgImljb25Db2xvciI6ICJ3aGl0ZSIsICJtYXJrZXJDb2xvciI6ICJibHVlIiwgInByZWZpeCI6ICJmYSJ9CiAgICAgICAgICAgICk7CiAgICAgICAgICAgIG1hcmtlcl9iMTRkYTBiMDAyOGE0OTgyYmZjOTg4NDg5ZGQ3ZDEzZi5zZXRJY29uKGljb25fOWNhZWUxN2M3YzY1NGUxMmE4MjVlZDZkYTNiZmI3MGIpOwogICAgICAgIAogICAgCiAgICAgICAgICAgIHZhciBtYXJrZXJfNjc0OTE3MDZlNDhmNGJmMjgyNjRlMGNkZjUyNTM4OTQgPSBMLm1hcmtlcigKICAgICAgICAgICAgICAgIFszNy42NjYxMDczMzYyLCAtMTIyLjM5NDM2MTY3NDldLAogICAgICAgICAgICAgICAge30KICAgICAgICAgICAgKS5hZGRUbyhtYXBfZTY0MDY0ZDUzOTUwNGY5ODlmMDIzNTlkNGU3YWVkYTcpOwogICAgICAgIAogICAgCiAgICAgICAgICAgIHZhciBpY29uXzAyZmIzNDIzYWI3MjRhZmNiOTdmNTk1ODE1OGQxMTBmID0gTC5Bd2Vzb21lTWFya2Vycy5pY29uKAogICAgICAgICAgICAgICAgeyJleHRyYUNsYXNzZXMiOiAiZmEtcm90YXRlLTAiLCAiaWNvbiI6ICJwbGFuZSIsICJpY29uQ29sb3IiOiAid2hpdGUiLCAibWFya2VyQ29sb3IiOiAiYmx1ZSIsICJwcmVmaXgiOiAiZmEifQogICAgICAgICAgICApOwogICAgICAgICAgICBtYXJrZXJfNjc0OTE3MDZlNDhmNGJmMjgyNjRlMGNkZjUyNTM4OTQuc2V0SWNvbihpY29uXzAyZmIzNDIzYWI3MjRhZmNiOTdmNTk1ODE1OGQxMTBmKTsKICAgICAgICAKICAgIAogICAgICAgICAgICB2YXIgbWFya2VyX2I5YzNkMDY5MjQzNjRlNTlhZjJlMmVmNWFjYTEzOGI4ID0gTC5tYXJrZXIoCiAgICAgICAgICAgICAgICBbMzcuNjYzODQsIC0xMjIuNDAwNDU1XSwKICAgICAgICAgICAgICAgIHt9CiAgICAgICAgICAgICkuYWRkVG8obWFwX2U2NDA2NGQ1Mzk1MDRmOTg5ZjAyMzU5ZDRlN2FlZGE3KTsKICAgICAgICAKICAgIAogICAgICAgICAgICB2YXIgaWNvbl80NjM1ZDljODAzMDY0ZWJmOTAzOTRmODQzMjRmZDI0YyA9IEwuQXdlc29tZU1hcmtlcnMuaWNvbigKICAgICAgICAgICAgICAgIHsiZXh0cmFDbGFzc2VzIjogImZhLXJvdGF0ZS0wIiwgImljb24iOiAicGxhbmUiLCAiaWNvbkNvbG9yIjogIndoaXRlIiwgIm1hcmtlckNvbG9yIjogImJsdWUiLCAicHJlZml4IjogImZhIn0KICAgICAgICAgICAgKTsKICAgICAgICAgICAgbWFya2VyX2I5YzNkMDY5MjQzNjRlNTlhZjJlMmVmNWFjYTEzOGI4LnNldEljb24oaWNvbl80NjM1ZDljODAzMDY0ZWJmOTAzOTRmODQzMjRmZDI0Yyk7CiAgICAgICAgCiAgICAKICAgICAgICAgICAgdmFyIG1hcmtlcl8yN2QzNzdmNDRlY2M0NDUzOWI5YzNiM2ZhZWUyZWE3ZCA9IEwubWFya2VyKAogICAgICAgICAgICAgICAgWzM3LjY1OTI3NiwgLTEyMi40MDU5MTRdLAogICAgICAgICAgICAgICAge30KICAgICAgICAgICAgKS5hZGRUbyhtYXBfZTY0MDY0ZDUzOTUwNGY5ODlmMDIzNTlkNGU3YWVkYTcpOwogICAgICAgIAogICAgCiAgICAgICAgICAgIHZhciBpY29uXzE4MzYwOTJhMWRkZTRlZWNhODQ4MGU1OTBjY2IxNmE3ID0gTC5Bd2Vzb21lTWFya2Vycy5pY29uKAogICAgICAgICAgICAgICAgeyJleHRyYUNsYXNzZXMiOiAiZmEtcm90YXRlLTAiLCAiaWNvbiI6ICJwbGFuZSIsICJpY29uQ29sb3IiOiAid2hpdGUiLCAibWFya2VyQ29sb3IiOiAiYmx1ZSIsICJwcmVmaXgiOiAiZmEifQogICAgICAgICAgICApOwogICAgICAgICAgICBtYXJrZXJfMjdkMzc3ZjQ0ZWNjNDQ1MzliOWMzYjNmYWVlMmVhN2Quc2V0SWNvbihpY29uXzE4MzYwOTJhMWRkZTRlZWNhODQ4MGU1OTBjY2IxNmE3KTsKICAgICAgICAKICAgIAogICAgICAgICAgICB2YXIgbWFya2VyX2FjYzk2M2Q1MmYwMjRjZjFiYzQzMGJiNGJlMmUyZThiID0gTC5tYXJrZXIoCiAgICAgICAgICAgICAgICBbMzcuNjUxNDUsIC0xMjIuNDA4OTJdLAogICAgICAgICAgICAgICAge30KICAgICAgICAgICAgKS5hZGRUbyhtYXBfZTY0MDY0ZDUzOTUwNGY5ODlmMDIzNTlkNGU3YWVkYTcpOwogICAgICAgIAogICAgCiAgICAgICAgICAgIHZhciBpY29uXzFmZjAwOGVlYmEyMzRlNDlhNTc5YjkxMjg2ZGJhYTFjID0gTC5Bd2Vzb21lTWFya2Vycy5pY29uKAogICAgICAgICAgICAgICAgeyJleHRyYUNsYXNzZXMiOiAiZmEtcm90YXRlLTAiLCAiaWNvbiI6ICJwbGFuZSIsICJpY29uQ29sb3IiOiAid2hpdGUiLCAibWFya2VyQ29sb3IiOiAiYmx1ZSIsICJwcmVmaXgiOiAiZmEifQogICAgICAgICAgICApOwogICAgICAgICAgICBtYXJrZXJfYWNjOTYzZDUyZjAyNGNmMWJjNDMwYmI0YmUyZTJlOGIuc2V0SWNvbihpY29uXzFmZjAwOGVlYmEyMzRlNDlhNTc5YjkxMjg2ZGJhYTFjKTsKICAgICAgICAKICAgIAogICAgICAgICAgICB2YXIgbWFya2VyXzI0ZGM0N2RlNjdjNDQ5ZDk5NTRlYTI5YmRmOTcyMjQ4ID0gTC5tYXJrZXIoCiAgICAgICAgICAgICAgICBbMzcuNjQ3NDAzNzE3LCAtMTIyLjQwNzgyMTY1NTNdLAogICAgICAgICAgICAgICAge30KICAgICAgICAgICAgKS5hZGRUbyhtYXBfZTY0MDY0ZDUzOTUwNGY5ODlmMDIzNTlkNGU3YWVkYTcpOwogICAgICAgIAogICAgCiAgICAgICAgICAgIHZhciBpY29uXzA3ZjM2YzI2NDM1YzRlNDM4NGNlOWZlNjBmYjM0NDZjID0gTC5Bd2Vzb21lTWFya2Vycy5pY29uKAogICAgICAgICAgICAgICAgeyJleHRyYUNsYXNzZXMiOiAiZmEtcm90YXRlLTAiLCAiaWNvbiI6ICJwbGFuZSIsICJpY29uQ29sb3IiOiAid2hpdGUiLCAibWFya2VyQ29sb3IiOiAiYmx1ZSIsICJwcmVmaXgiOiAiZmEifQogICAgICAgICAgICApOwogICAgICAgICAgICBtYXJrZXJfMjRkYzQ3ZGU2N2M0NDlkOTk1NGVhMjliZGY5NzIyNDguc2V0SWNvbihpY29uXzA3ZjM2YzI2NDM1YzRlNDM4NGNlOWZlNjBmYjM0NDZjKTsKICAgICAgICAKICAgIAogICAgICAgICAgICB2YXIgbWFya2VyX2EyMTQ3MjdmMDQyYzQ4ODBhYTMzNTk2YTViYmFkNWJhID0gTC5tYXJrZXIoCiAgICAgICAgICAgICAgICBbMzcuNjQ3MzA2NjM0NCwgLTEyMi40MDU4ODE3MDQ4XSwKICAgICAgICAgICAgICAgIHt9CiAgICAgICAgICAgICkuYWRkVG8obWFwX2U2NDA2NGQ1Mzk1MDRmOTg5ZjAyMzU5ZDRlN2FlZGE3KTsKICAgICAgICAKICAgIAogICAgICAgICAgICB2YXIgaWNvbl9mZTU2ZjFhMDFkOGE0ZmIxYTAxMDQyODRhOWFjNzU1NCA9IEwuQXdlc29tZU1hcmtlcnMuaWNvbigKICAgICAgICAgICAgICAgIHsiZXh0cmFDbGFzc2VzIjogImZhLXJvdGF0ZS0wIiwgImljb24iOiAicGxhbmUiLCAiaWNvbkNvbG9yIjogIndoaXRlIiwgIm1hcmtlckNvbG9yIjogImJsdWUiLCAicHJlZml4IjogImZhIn0KICAgICAgICAgICAgKTsKICAgICAgICAgICAgbWFya2VyX2EyMTQ3MjdmMDQyYzQ4ODBhYTMzNTk2YTViYmFkNWJhLnNldEljb24oaWNvbl9mZTU2ZjFhMDFkOGE0ZmIxYTAxMDQyODRhOWFjNzU1NCk7CiAgICAgICAgCiAgICAKICAgICAgICAgICAgdmFyIG1hcmtlcl8zMGYwMGNlMWZmM2Q0OGQxYWJhZTA2NmE2NWIyNmNmMyA9IEwubWFya2VyKAogICAgICAgICAgICAgICAgWzM3LjY0NjgxLCAtMTIyLjQwNDY1ODVdLAogICAgICAgICAgICAgICAge30KICAgICAgICAgICAgKS5hZGRUbyhtYXBfZTY0MDY0ZDUzOTUwNGY5ODlmMDIzNTlkNGU3YWVkYTcpOwogICAgICAgIAogICAgCiAgICAgICAgICAgIHZhciBpY29uX2I3ODU1YTMzNDkwNTQzZDFhNTU1OTg3ZGZhYjA3ODRiID0gTC5Bd2Vzb21lTWFya2Vycy5pY29uKAogICAgICAgICAgICAgICAgeyJleHRyYUNsYXNzZXMiOiAiZmEtcm90YXRlLTAiLCAiaWNvbiI6ICJwbGFuZSIsICJpY29uQ29sb3IiOiAid2hpdGUiLCAibWFya2VyQ29sb3IiOiAiYmx1ZSIsICJwcmVmaXgiOiAiZmEifQogICAgICAgICAgICApOwogICAgICAgICAgICBtYXJrZXJfMzBmMDBjZTFmZjNkNDhkMWFiYWUwNjZhNjViMjZjZjMuc2V0SWNvbihpY29uX2I3ODU1YTMzNDkwNTQzZDFhNTU1OTg3ZGZhYjA3ODRiKTsKICAgICAgICAKICAgIAogICAgICAgICAgICB2YXIgbWFya2VyX2ZlNTQ2ZDc5MDBjMDQ5Njg5ZGU4ZDkxNWMwOTg1YmEwID0gTC5tYXJrZXIoCiAgICAgICAgICAgICAgICBbMzcuNjQ0NDI2LCAtMTIyLjQwMzYxNl0sCiAgICAgICAgICAgICAgICB7fQogICAgICAgICAgICApLmFkZFRvKG1hcF9lNjQwNjRkNTM5NTA0Zjk4OWYwMjM1OWQ0ZTdhZWRhNyk7CiAgICAgICAgCiAgICAKICAgICAgICAgICAgdmFyIGljb25fYzYxZjBiY2IyNzAyNDVhZDhlMDE0ZGU5NzgzZjdlYzEgPSBMLkF3ZXNvbWVNYXJrZXJzLmljb24oCiAgICAgICAgICAgICAgICB7ImV4dHJhQ2xhc3NlcyI6ICJmYS1yb3RhdGUtMCIsICJpY29uIjogInBsYW5lIiwgImljb25Db2xvciI6ICJ3aGl0ZSIsICJtYXJrZXJDb2xvciI6ICJibHVlIiwgInByZWZpeCI6ICJmYSJ9CiAgICAgICAgICAgICk7CiAgICAgICAgICAgIG1hcmtlcl9mZTU0NmQ3OTAwYzA0OTY4OWRlOGQ5MTVjMDk4NWJhMC5zZXRJY29uKGljb25fYzYxZjBiY2IyNzAyNDVhZDhlMDE0ZGU5NzgzZjdlYzEpOwogICAgICAgIAogICAgCiAgICAgICAgICAgIHZhciBtYXJrZXJfZmQ3NDgwY2VjZDQwNGJhOTk5ZTI2YTUwMzA0Y2EwZjcgPSBMLm1hcmtlcigKICAgICAgICAgICAgICAgIFszNy42NDMzMDQwMjU3LCAtMTIyLjQwNDM3MTUzNTVdLAogICAgICAgICAgICAgICAge30KICAgICAgICAgICAgKS5hZGRUbyhtYXBfZTY0MDY0ZDUzOTUwNGY5ODlmMDIzNTlkNGU3YWVkYTcpOwogICAgICAgIAogICAgCiAgICAgICAgICAgIHZhciBpY29uX2RkNTczNWU1NzM3ZDQ2OTJiZmQyNWY5YjM1MGE2NjdjID0gTC5Bd2Vzb21lTWFya2Vycy5pY29uKAogICAgICAgICAgICAgICAgeyJleHRyYUNsYXNzZXMiOiAiZmEtcm90YXRlLTAiLCAiaWNvbiI6ICJwbGFuZSIsICJpY29uQ29sb3IiOiAid2hpdGUiLCAibWFya2VyQ29sb3IiOiAiYmx1ZSIsICJwcmVmaXgiOiAiZmEifQogICAgICAgICAgICApOwogICAgICAgICAgICBtYXJrZXJfZmQ3NDgwY2VjZDQwNGJhOTk5ZTI2YTUwMzA0Y2EwZjcuc2V0SWNvbihpY29uX2RkNTczNWU1NzM3ZDQ2OTJiZmQyNWY5YjM1MGE2NjdjKTsKICAgICAgICAKICAgIAogICAgICAgICAgICB2YXIgbWFya2VyX2NlOTk0MTNlNmY4NDQwN2VhN2I1MTYxZTBkZDRjYWIyID0gTC5tYXJrZXIoCiAgICAgICAgICAgICAgICBbMzcuNjQyMTc1NTM2NiwgLTEyMi40MDI0NzQzNDUxXSwKICAgICAgICAgICAgICAgIHt9CiAgICAgICAgICAgICkuYWRkVG8obWFwX2U2NDA2NGQ1Mzk1MDRmOTg5ZjAyMzU5ZDRlN2FlZGE3KTsKICAgICAgICAKICAgIAogICAgICAgICAgICB2YXIgaWNvbl8xZjcwYTVlZDFkNTA0MmM3YTgzZjU5ZWNkNWE3MjM1ZiA9IEwuQXdlc29tZU1hcmtlcnMuaWNvbigKICAgICAgICAgICAgICAgIHsiZXh0cmFDbGFzc2VzIjogImZhLXJvdGF0ZS0wIiwgImljb24iOiAicGxhbmUiLCAiaWNvbkNvbG9yIjogIndoaXRlIiwgIm1hcmtlckNvbG9yIjogImJsdWUiLCAicHJlZml4IjogImZhIn0KICAgICAgICAgICAgKTsKICAgICAgICAgICAgbWFya2VyX2NlOTk0MTNlNmY4NDQwN2VhN2I1MTYxZTBkZDRjYWIyLnNldEljb24oaWNvbl8xZjcwYTVlZDFkNTA0MmM3YTgzZjU5ZWNkNWE3MjM1Zik7CiAgICAgICAgCiAgICAKICAgICAgICAgICAgdmFyIG1hcmtlcl8zNzM2MDU4MDZkOGE0ODk2OGYyY2FlYzI0MTY3NTA5MyA9IEwubWFya2VyKAogICAgICAgICAgICAgICAgWzM3LjY0MTQ3ODcsIC0xMjIuNDE5MjExMl0sCiAgICAgICAgICAgICAgICB7fQogICAgICAgICAgICApLmFkZFRvKG1hcF9lNjQwNjRkNTM5NTA0Zjk4OWYwMjM1OWQ0ZTdhZWRhNyk7CiAgICAgICAgCiAgICAKICAgICAgICAgICAgdmFyIGljb25fNzhkMmE2ODU2YjAwNDYzZTg2MzViMWUzMjFiODMxZDEgPSBMLkF3ZXNvbWVNYXJrZXJzLmljb24oCiAgICAgICAgICAgICAgICB7ImV4dHJhQ2xhc3NlcyI6ICJmYS1yb3RhdGUtMCIsICJpY29uIjogInBsYW5lIiwgImljb25Db2xvciI6ICJ3aGl0ZSIsICJtYXJrZXJDb2xvciI6ICJibHVlIiwgInByZWZpeCI6ICJmYSJ9CiAgICAgICAgICAgICk7CiAgICAgICAgICAgIG1hcmtlcl8zNzM2MDU4MDZkOGE0ODk2OGYyY2FlYzI0MTY3NTA5My5zZXRJY29uKGljb25fNzhkMmE2ODU2YjAwNDYzZTg2MzViMWUzMjFiODMxZDEpOwogICAgICAgIAogICAgCiAgICAgICAgICAgIHZhciBtYXJrZXJfMDg2NGMzNzY4NjFiNDRmNmFhMDIwMTkwNGRhMDc2ZGMgPSBMLm1hcmtlcigKICAgICAgICAgICAgICAgIFszNy42MzYwNjk5MTY1LCAtMTIyLjM5OTU2MTQwNTJdLAogICAgICAgICAgICAgICAge30KICAgICAgICAgICAgKS5hZGRUbyhtYXBfZTY0MDY0ZDUzOTUwNGY5ODlmMDIzNTlkNGU3YWVkYTcpOwogICAgICAgIAogICAgCiAgICAgICAgICAgIHZhciBpY29uXzE0OGE5YzNlNmE2NTRlN2VhYmJjYzhhZTg1ZmQ0N2M5ID0gTC5Bd2Vzb21lTWFya2Vycy5pY29uKAogICAgICAgICAgICAgICAgeyJleHRyYUNsYXNzZXMiOiAiZmEtcm90YXRlLTAiLCAiaWNvbiI6ICJwbGFuZSIsICJpY29uQ29sb3IiOiAid2hpdGUiLCAibWFya2VyQ29sb3IiOiAiYmx1ZSIsICJwcmVmaXgiOiAiZmEifQogICAgICAgICAgICApOwogICAgICAgICAgICBtYXJrZXJfMDg2NGMzNzY4NjFiNDRmNmFhMDIwMTkwNGRhMDc2ZGMuc2V0SWNvbihpY29uXzE0OGE5YzNlNmE2NTRlN2VhYmJjYzhhZTg1ZmQ0N2M5KTsKICAgICAgICAKICAgIAogICAgICAgICAgICB2YXIgbWFya2VyXzQ0NDA3N2Y5ZWQ0MTQ2YjE4MGJkZDZjNDUzZGZjY2ZlID0gTC5tYXJrZXIoCiAgICAgICAgICAgICAgICBbMzcuNjMwMzMzOCwgLTEyMi40MTk0OTU2XSwKICAgICAgICAgICAgICAgIHt9CiAgICAgICAgICAgICkuYWRkVG8obWFwX2U2NDA2NGQ1Mzk1MDRmOTg5ZjAyMzU5ZDRlN2FlZGE3KTsKICAgICAgICAKICAgIAogICAgICAgICAgICB2YXIgaWNvbl8zZTIyMTI1NWFlNDg0NTA2OGE2YzdlNDA2YTJmN2RlMiA9IEwuQXdlc29tZU1hcmtlcnMuaWNvbigKICAgICAgICAgICAgICAgIHsiZXh0cmFDbGFzc2VzIjogImZhLXJvdGF0ZS0wIiwgImljb24iOiAicGxhbmUiLCAiaWNvbkNvbG9yIjogIndoaXRlIiwgIm1hcmtlckNvbG9yIjogImJsdWUiLCAicHJlZml4IjogImZhIn0KICAgICAgICAgICAgKTsKICAgICAgICAgICAgbWFya2VyXzQ0NDA3N2Y5ZWQ0MTQ2YjE4MGJkZDZjNDUzZGZjY2ZlLnNldEljb24oaWNvbl8zZTIyMTI1NWFlNDg0NTA2OGE2YzdlNDA2YTJmN2RlMik7CiAgICAgICAgCiAgICAKICAgICAgICAgICAgdmFyIG1hcmtlcl80NGY3MzdmMzIzOWE0NDhlYjViNjNmMmY2NjljZGMwOSA9IEwubWFya2VyKAogICAgICAgICAgICAgICAgWzM3LjYxODcwMTYwNzUsIC0xMjIuMzg3MDUxNTgyM10sCiAgICAgICAgICAgICAgICB7fQogICAgICAgICAgICApLmFkZFRvKG1hcF9lNjQwNjRkNTM5NTA0Zjk4OWYwMjM1OWQ0ZTdhZWRhNyk7CiAgICAgICAgCiAgICAKICAgICAgICAgICAgdmFyIGljb25fYWU3MGRhNjA3NmYwNDdhODliMWFiYjhjMGU5MDI1YmEgPSBMLkF3ZXNvbWVNYXJrZXJzLmljb24oCiAgICAgICAgICAgICAgICB7ImV4dHJhQ2xhc3NlcyI6ICJmYS1yb3RhdGUtMCIsICJpY29uIjogInBsYW5lIiwgImljb25Db2xvciI6ICJ3aGl0ZSIsICJtYXJrZXJDb2xvciI6ICJibHVlIiwgInByZWZpeCI6ICJmYSJ9CiAgICAgICAgICAgICk7CiAgICAgICAgICAgIG1hcmtlcl80NGY3MzdmMzIzOWE0NDhlYjViNjNmMmY2NjljZGMwOS5zZXRJY29uKGljb25fYWU3MGRhNjA3NmYwNDdhODliMWFiYjhjMGU5MDI1YmEpOwogICAgICAgIAogICAgCiAgICAgICAgICAgIHZhciBtYXJrZXJfYWY4MzY4ZTBkNzA2NDJmOTgxYzJiNDBiZDRlZmRjY2MgPSBMLm1hcmtlcigKICAgICAgICAgICAgICAgIFszNy43OTQ0MzYwMDI0LCAtMTIyLjQxODg4NTI1NjZdLAogICAgICAgICAgICAgICAge30KICAgICAgICAgICAgKS5hZGRUbyhtYXBfZTY0MDY0ZDUzOTUwNGY5ODlmMDIzNTlkNGU3YWVkYTcpOwogICAgICAgIAogICAgCiAgICAgICAgICAgIHZhciBpY29uX2NjZTllMjc5OGIwYjRjZGRiMmJlYjViMjNiZmM5OGE0ID0gTC5Bd2Vzb21lTWFya2Vycy5pY29uKAogICAgICAgICAgICAgICAgeyJleHRyYUNsYXNzZXMiOiAiZmEtcm90YXRlLTAiLCAiaWNvbiI6ICJncm91cCIsICJpY29uQ29sb3IiOiAid2hpdGUiLCAibWFya2VyQ29sb3IiOiAiYmxhY2siLCAicHJlZml4IjogImZhIn0KICAgICAgICAgICAgKTsKICAgICAgICAgICAgbWFya2VyX2FmODM2OGUwZDcwNjQyZjk4MWMyYjQwYmQ0ZWZkY2NjLnNldEljb24oaWNvbl9jY2U5ZTI3OThiMGI0Y2RkYjJiZWI1YjIzYmZjOThhNCk7CiAgICAgICAgCiAgICAKICAgICAgICAgICAgdmFyIG1hcmtlcl81M2E3NTgwMWNkNTM0ZDk5OWRiYmFlMjc2ZmJjNTJmNyA9IEwubWFya2VyKAogICAgICAgICAgICAgICAgWzM3Ljc5NTI0MzQ1OSwgLTEyMi40MjQ5OTM5OTE3XSwKICAgICAgICAgICAgICAgIHt9CiAgICAgICAgICAgICkuYWRkVG8obWFwX2U2NDA2NGQ1Mzk1MDRmOTg5ZjAyMzU5ZDRlN2FlZGE3KTsKICAgICAgICAKICAgIAogICAgICAgICAgICB2YXIgaWNvbl9jZmE4MDJiYjRmNDU0MmIyYTBmOTA1NzgwMjcxNTZjMiA9IEwuQXdlc29tZU1hcmtlcnMuaWNvbigKICAgICAgICAgICAgICAgIHsiZXh0cmFDbGFzc2VzIjogImZhLXJvdGF0ZS0wIiwgImljb24iOiAiZ3JvdXAiLCAiaWNvbkNvbG9yIjogIndoaXRlIiwgIm1hcmtlckNvbG9yIjogImJsYWNrIiwgInByZWZpeCI6ICJmYSJ9CiAgICAgICAgICAgICk7CiAgICAgICAgICAgIG1hcmtlcl81M2E3NTgwMWNkNTM0ZDk5OWRiYmFlMjc2ZmJjNTJmNy5zZXRJY29uKGljb25fY2ZhODAyYmI0ZjQ1NDJiMmEwZjkwNTc4MDI3MTU2YzIpOwogICAgICAgIAogICAgCiAgICAgICAgICAgIHZhciBtYXJrZXJfZWQ4ZDVhZDM0MGJmNDljMmFjNDg0ZmRmZTliMWE3YjMgPSBMLm1hcmtlcigKICAgICAgICAgICAgICAgIFszNy43ODg3OTk5NSwgLTEyMi40MTkzNjM2NjM3XSwKICAgICAgICAgICAgICAgIHt9CiAgICAgICAgICAgICkuYWRkVG8obWFwX2U2NDA2NGQ1Mzk1MDRmOTg5ZjAyMzU5ZDRlN2FlZGE3KTsKICAgICAgICAKICAgIAogICAgICAgICAgICB2YXIgaWNvbl9kM2I3N2IwMDE2NWM0NGI4OWNkZDUwMzQ4YTI2ODEzNCA9IEwuQXdlc29tZU1hcmtlcnMuaWNvbigKICAgICAgICAgICAgICAgIHsiZXh0cmFDbGFzc2VzIjogImZhLXJvdGF0ZS0wIiwgImljb24iOiAiZ3JvdXAiLCAiaWNvbkNvbG9yIjogIndoaXRlIiwgIm1hcmtlckNvbG9yIjogImJsYWNrIiwgInByZWZpeCI6ICJmYSJ9CiAgICAgICAgICAgICk7CiAgICAgICAgICAgIG1hcmtlcl9lZDhkNWFkMzQwYmY0OWMyYWM0ODRmZGZlOWIxYTdiMy5zZXRJY29uKGljb25fZDNiNzdiMDAxNjVjNDRiODljZGQ1MDM0OGEyNjgxMzQpOwogICAgICAgIAogICAgCiAgICAgICAgICAgIHZhciBtYXJrZXJfZTlkMzVjN2YwZDc2NGExZGFiNTEwMTk5NjBlMzcwNmQgPSBMLm1hcmtlcigKICAgICAgICAgICAgICAgIFszNy43OTE2NjU4MjQ2LCAtMTIyLjQxMzM0ODQ1MzFdLAogICAgICAgICAgICAgICAge30KICAgICAgICAgICAgKS5hZGRUbyhtYXBfZTY0MDY0ZDUzOTUwNGY5ODlmMDIzNTlkNGU3YWVkYTcpOwogICAgICAgIAogICAgCiAgICAgICAgICAgIHZhciBpY29uXzVkYzUyNmFjMTc3MTQxYTg4MTc1NTllZWJlYmNkOTFkID0gTC5Bd2Vzb21lTWFya2Vycy5pY29uKAogICAgICAgICAgICAgICAgeyJleHRyYUNsYXNzZXMiOiAiZmEtcm90YXRlLTAiLCAiaWNvbiI6ICJncm91cCIsICJpY29uQ29sb3IiOiAid2hpdGUiLCAibWFya2VyQ29sb3IiOiAiYmxhY2siLCAicHJlZml4IjogImZhIn0KICAgICAgICAgICAgKTsKICAgICAgICAgICAgbWFya2VyX2U5ZDM1YzdmMGQ3NjRhMWRhYjUxMDE5OTYwZTM3MDZkLnNldEljb24oaWNvbl81ZGM1MjZhYzE3NzE0MWE4ODE3NTU5ZWViZWJjZDkxZCk7CiAgICAgICAgCiAgICAKICAgICAgICAgICAgdmFyIG1hcmtlcl8xMmYxOTU4OWFiZjc0Y2FjOGM2NjYxODIxYjM5OTRhNyA9IEwubWFya2VyKAogICAgICAgICAgICAgICAgWzM3Ljc4ODEyNjUzMjQsIC0xMjIuNDE5MjQzMTE5M10sCiAgICAgICAgICAgICAgICB7fQogICAgICAgICAgICApLmFkZFRvKG1hcF9lNjQwNjRkNTM5NTA0Zjk4OWYwMjM1OWQ0ZTdhZWRhNyk7CiAgICAgICAgCiAgICAKICAgICAgICAgICAgdmFyIGljb25fODNiNzMzMzJjNzU3NGFjYTkyOGM4NTk4MTliNGY0M2QgPSBMLkF3ZXNvbWVNYXJrZXJzLmljb24oCiAgICAgICAgICAgICAgICB7ImV4dHJhQ2xhc3NlcyI6ICJmYS1yb3RhdGUtMCIsICJpY29uIjogImdyb3VwIiwgImljb25Db2xvciI6ICJ3aGl0ZSIsICJtYXJrZXJDb2xvciI6ICJibGFjayIsICJwcmVmaXgiOiAiZmEifQogICAgICAgICAgICApOwogICAgICAgICAgICBtYXJrZXJfMTJmMTk1ODlhYmY3NGNhYzhjNjY2MTgyMWIzOTk0YTcuc2V0SWNvbihpY29uXzgzYjczMzMyYzc1NzRhY2E5MjhjODU5ODE5YjRmNDNkKTsKICAgICAgICAKICAgIAogICAgICAgICAgICB2YXIgbWFya2VyX2M1NzBlMjIzYzkxNzQ4YTRhOGRhNjJmYjg2NGVkYjI5ID0gTC5tYXJrZXIoCiAgICAgICAgICAgICAgICBbMzcuODA0MTA0NTk5OCwgLTEyMi40MjQxOTQ4MTI4XSwKICAgICAgICAgICAgICAgIHt9CiAgICAgICAgICAgICkuYWRkVG8obWFwX2U2NDA2NGQ1Mzk1MDRmOTg5ZjAyMzU5ZDRlN2FlZGE3KTsKICAgICAgICAKICAgIAogICAgICAgICAgICB2YXIgaWNvbl8yOWNiMTQxYmE2NGE0YzVhOGFmMGE4MzVlZGI3YjY0NyA9IEwuQXdlc29tZU1hcmtlcnMuaWNvbigKICAgICAgICAgICAgICAgIHsiZXh0cmFDbGFzc2VzIjogImZhLXJvdGF0ZS0wIiwgImljb24iOiAiZ3JvdXAiLCAiaWNvbkNvbG9yIjogIndoaXRlIiwgIm1hcmtlckNvbG9yIjogImJsYWNrIiwgInByZWZpeCI6ICJmYSJ9CiAgICAgICAgICAgICk7CiAgICAgICAgICAgIG1hcmtlcl9jNTcwZTIyM2M5MTc0OGE0YThkYTYyZmI4NjRlZGIyOS5zZXRJY29uKGljb25fMjljYjE0MWJhNjRhNGM1YThhZjBhODM1ZWRiN2I2NDcpOwogICAgICAgIAogICAgCiAgICAgICAgICAgIHZhciBtYXJrZXJfOTE3ZjczZWQxZTdlNDliYzk3ZWFlZWY3MDgzZTI0Y2MgPSBMLm1hcmtlcigKICAgICAgICAgICAgICAgIFszNy43ODg0NTMwNTQ5LCAtMTIyLjQyNjU2NDQ1MTVdLAogICAgICAgICAgICAgICAge30KICAgICAgICAgICAgKS5hZGRUbyhtYXBfZTY0MDY0ZDUzOTUwNGY5ODlmMDIzNTlkNGU3YWVkYTcpOwogICAgICAgIAogICAgCiAgICAgICAgICAgIHZhciBpY29uX2MyNTA3YjAwMDc0ODRkZTQ5NDMwZTAzM2Q1MDI0MGFiID0gTC5Bd2Vzb21lTWFya2Vycy5pY29uKAogICAgICAgICAgICAgICAgeyJleHRyYUNsYXNzZXMiOiAiZmEtcm90YXRlLTAiLCAiaWNvbiI6ICJncm91cCIsICJpY29uQ29sb3IiOiAid2hpdGUiLCAibWFya2VyQ29sb3IiOiAiYmxhY2siLCAicHJlZml4IjogImZhIn0KICAgICAgICAgICAgKTsKICAgICAgICAgICAgbWFya2VyXzkxN2Y3M2VkMWU3ZTQ5YmM5N2VhZWVmNzA4M2UyNGNjLnNldEljb24oaWNvbl9jMjUwN2IwMDA3NDg0ZGU0OTQzMGUwMzNkNTAyNDBhYik7CiAgICAgICAgCiAgICAKICAgICAgICAgICAgdmFyIG1hcmtlcl8xNjAyZTQwNTFjYzg0NDJjYjAxNzBjY2UzY2QzZWIzYyA9IEwubWFya2VyKAogICAgICAgICAgICAgICAgWzM3Ljc4ODY0NjgwNDUsIC0xMjIuNDI3MTc5ODYyOV0sCiAgICAgICAgICAgICAgICB7fQogICAgICAgICAgICApLmFkZFRvKG1hcF9lNjQwNjRkNTM5NTA0Zjk4OWYwMjM1OWQ0ZTdhZWRhNyk7CiAgICAgICAgCiAgICAKICAgICAgICAgICAgdmFyIGljb25fYmI1MDhiNGJmYmY4NGQ1MWIzMjE5MTQ5ZjA0Y2Q2NTYgPSBMLkF3ZXNvbWVNYXJrZXJzLmljb24oCiAgICAgICAgICAgICAgICB7ImV4dHJhQ2xhc3NlcyI6ICJmYS1yb3RhdGUtMCIsICJpY29uIjogImdyb3VwIiwgImljb25Db2xvciI6ICJ3aGl0ZSIsICJtYXJrZXJDb2xvciI6ICJibGFjayIsICJwcmVmaXgiOiAiZmEifQogICAgICAgICAgICApOwogICAgICAgICAgICBtYXJrZXJfMTYwMmU0MDUxY2M4NDQyY2IwMTcwY2NlM2NkM2ViM2Muc2V0SWNvbihpY29uX2JiNTA4YjRiZmJmODRkNTFiMzIxOTE0OWYwNGNkNjU2KTsKICAgICAgICAKICAgIAogICAgICAgICAgICB2YXIgbWFya2VyXzhiYTgzM2RhYWEzOTQ0NTg5NjViMzU2ZjZjMDEyYWRkID0gTC5tYXJrZXIoCiAgICAgICAgICAgICAgICBbMzcuNzg4NjAzMDUwNCwgLTEyMi40Mjg4ODI1MDU4XSwKICAgICAgICAgICAgICAgIHt9CiAgICAgICAgICAgICkuYWRkVG8obWFwX2U2NDA2NGQ1Mzk1MDRmOTg5ZjAyMzU5ZDRlN2FlZGE3KTsKICAgICAgICAKICAgIAogICAgICAgICAgICB2YXIgaWNvbl9jOGU4NTlmYzI0Yjc0M2VmOTExNTJmMjJlNTM3ZTJmZCA9IEwuQXdlc29tZU1hcmtlcnMuaWNvbigKICAgICAgICAgICAgICAgIHsiZXh0cmFDbGFzc2VzIjogImZhLXJvdGF0ZS0wIiwgImljb24iOiAiZ3JvdXAiLCAiaWNvbkNvbG9yIjogIndoaXRlIiwgIm1hcmtlckNvbG9yIjogImJsYWNrIiwgInByZWZpeCI6ICJmYSJ9CiAgICAgICAgICAgICk7CiAgICAgICAgICAgIG1hcmtlcl84YmE4MzNkYWFhMzk0NDU4OTY1YjM1NmY2YzAxMmFkZC5zZXRJY29uKGljb25fYzhlODU5ZmMyNGI3NDNlZjkxMTUyZjIyZTUzN2UyZmQpOwogICAgICAgIAogICAgCiAgICAgICAgICAgIHZhciBtYXJrZXJfYTFjM2YzY2IwYTk0NDZmYjkzNzIzZWI1YzZjN2Q0YzEgPSBMLm1hcmtlcigKICAgICAgICAgICAgICAgIFszNy43OTI4NzcxOTczLCAtMTIyLjQzMzMzNDM1MDZdLAogICAgICAgICAgICAgICAge30KICAgICAgICAgICAgKS5hZGRUbyhtYXBfZTY0MDY0ZDUzOTUwNGY5ODlmMDIzNTlkNGU3YWVkYTcpOwogICAgICAgIAogICAgCiAgICAgICAgICAgIHZhciBpY29uX2RkOGM0NzY3MzRiNjQ5N2FhMTA0ZDExMjRkNmRkMzA0ID0gTC5Bd2Vzb21lTWFya2Vycy5pY29uKAogICAgICAgICAgICAgICAgeyJleHRyYUNsYXNzZXMiOiAiZmEtcm90YXRlLTAiLCAiaWNvbiI6ICJncm91cCIsICJpY29uQ29sb3IiOiAid2hpdGUiLCAibWFya2VyQ29sb3IiOiAiYmxhY2siLCAicHJlZml4IjogImZhIn0KICAgICAgICAgICAgKTsKICAgICAgICAgICAgbWFya2VyX2ExYzNmM2NiMGE5NDQ2ZmI5MzcyM2ViNWM2YzdkNGMxLnNldEljb24oaWNvbl9kZDhjNDc2NzM0YjY0OTdhYTEwNGQxMTI0ZDZkZDMwNCk7CiAgICAgICAgCiAgICAKICAgICAgICAgICAgdmFyIG1hcmtlcl85YmQ2OWY4ZTI5YjU0NTZkODU4M2FkYWRjYjAzYWUzNyA9IEwubWFya2VyKAogICAgICAgICAgICAgICAgWzM3Ljc5NDQ5NTYyODEsIC0xMjIuNDMzOTg0ODI3MV0sCiAgICAgICAgICAgICAgICB7fQogICAgICAgICAgICApLmFkZFRvKG1hcF9lNjQwNjRkNTM5NTA0Zjk4OWYwMjM1OWQ0ZTdhZWRhNyk7CiAgICAgICAgCiAgICAKICAgICAgICAgICAgdmFyIGljb25fOTE0MGY1MjBlMTYzNDhhN2JhOGJmY2YyMjhkYTZjMDAgPSBMLkF3ZXNvbWVNYXJrZXJzLmljb24oCiAgICAgICAgICAgICAgICB7ImV4dHJhQ2xhc3NlcyI6ICJmYS1yb3RhdGUtMCIsICJpY29uIjogImdyb3VwIiwgImljb25Db2xvciI6ICJ3aGl0ZSIsICJtYXJrZXJDb2xvciI6ICJibGFjayIsICJwcmVmaXgiOiAiZmEifQogICAgICAgICAgICApOwogICAgICAgICAgICBtYXJrZXJfOWJkNjlmOGUyOWI1NDU2ZDg1ODNhZGFkY2IwM2FlMzcuc2V0SWNvbihpY29uXzkxNDBmNTIwZTE2MzQ4YTdiYThiZmNmMjI4ZGE2YzAwKTsKICAgICAgICAKICAgIAogICAgICAgICAgICB2YXIgbWFya2VyXzZlYmMyMjI4NGMzMjQwZTFiNzNmZTZhMmMwNDg3OTBkID0gTC5tYXJrZXIoCiAgICAgICAgICAgICAgICBbMzcuNzk0NDY3MTU1MiwgLTEyMi40MzQwMjkzOTM5XSwKICAgICAgICAgICAgICAgIHt9CiAgICAgICAgICAgICkuYWRkVG8obWFwX2U2NDA2NGQ1Mzk1MDRmOTg5ZjAyMzU5ZDRlN2FlZGE3KTsKICAgICAgICAKICAgIAogICAgICAgICAgICB2YXIgaWNvbl85MDVjMjJjYzI4NWU0Yjk3OGExZDY1MTFhZDk0MzNmMiA9IEwuQXdlc29tZU1hcmtlcnMuaWNvbigKICAgICAgICAgICAgICAgIHsiZXh0cmFDbGFzc2VzIjogImZhLXJvdGF0ZS0wIiwgImljb24iOiAiZ3JvdXAiLCAiaWNvbkNvbG9yIjogIndoaXRlIiwgIm1hcmtlckNvbG9yIjogImJsYWNrIiwgInByZWZpeCI6ICJmYSJ9CiAgICAgICAgICAgICk7CiAgICAgICAgICAgIG1hcmtlcl82ZWJjMjIyODRjMzI0MGUxYjczZmU2YTJjMDQ4NzkwZC5zZXRJY29uKGljb25fOTA1YzIyY2MyODVlNGI5NzhhMWQ2NTExYWQ5NDMzZjIpOwogICAgICAgIAogICAgCiAgICAgICAgICAgIHZhciBtYXJrZXJfYTY1ZTNhZjRlYTZjNDhlM2I0YzhjZmQ1Mzk3YTZkZTcgPSBMLm1hcmtlcigKICAgICAgICAgICAgICAgIFszNy43ODkzMzY3LCAtMTIyLjQzMTk5MzFdLAogICAgICAgICAgICAgICAge30KICAgICAgICAgICAgKS5hZGRUbyhtYXBfZTY0MDY0ZDUzOTUwNGY5ODlmMDIzNTlkNGU3YWVkYTcpOwogICAgICAgIAogICAgCiAgICAgICAgICAgIHZhciBpY29uXzZhZjdiODE2YjY4YzRkNTBiYzg0MGJlNzQwM2ZhMzQ0ID0gTC5Bd2Vzb21lTWFya2Vycy5pY29uKAogICAgICAgICAgICAgICAgeyJleHRyYUNsYXNzZXMiOiAiZmEtcm90YXRlLTAiLCAiaWNvbiI6ICJncm91cCIsICJpY29uQ29sb3IiOiAid2hpdGUiLCAibWFya2VyQ29sb3IiOiAiYmxhY2siLCAicHJlZml4IjogImZhIn0KICAgICAgICAgICAgKTsKICAgICAgICAgICAgbWFya2VyX2E2NWUzYWY0ZWE2YzQ4ZTNiNGM4Y2ZkNTM5N2E2ZGU3LnNldEljb24oaWNvbl82YWY3YjgxNmI2OGM0ZDUwYmM4NDBiZTc0MDNmYTM0NCk7CiAgICAgICAgCiAgICAKICAgICAgICAgICAgdmFyIG1hcmtlcl8yYTMzMTkxNzU4Y2I0YzEwOWZlODkzYTA2MTc0YTFiNyA9IEwubWFya2VyKAogICAgICAgICAgICAgICAgWzM3LjgwMTkwNTQ2ODQsIC0xMjIuNDM1Mzc0NjI4NV0sCiAgICAgICAgICAgICAgICB7fQogICAgICAgICAgICApLmFkZFRvKG1hcF9lNjQwNjRkNTM5NTA0Zjk4OWYwMjM1OWQ0ZTdhZWRhNyk7CiAgICAgICAgCiAgICAKICAgICAgICAgICAgdmFyIGljb25fZGQyZDVjZGM3NGUxNDk0ZGI5MzNhMDcyZDg4NTJiNzQgPSBMLkF3ZXNvbWVNYXJrZXJzLmljb24oCiAgICAgICAgICAgICAgICB7ImV4dHJhQ2xhc3NlcyI6ICJmYS1yb3RhdGUtMCIsICJpY29uIjogImdyb3VwIiwgImljb25Db2xvciI6ICJ3aGl0ZSIsICJtYXJrZXJDb2xvciI6ICJibGFjayIsICJwcmVmaXgiOiAiZmEifQogICAgICAgICAgICApOwogICAgICAgICAgICBtYXJrZXJfMmEzMzE5MTc1OGNiNGMxMDlmZTg5M2EwNjE3NGExYjcuc2V0SWNvbihpY29uX2RkMmQ1Y2RjNzRlMTQ5NGRiOTMzYTA3MmQ4ODUyYjc0KTsKICAgICAgICAKICAgIAogICAgICAgICAgICB2YXIgbWFya2VyX2UxYWYyZWVjYjQxNjQyOTk4Y2YyNjUzMDI1MjA5ZWM1ID0gTC5tYXJrZXIoCiAgICAgICAgICAgICAgICBbMzcuNzg5MTIzNTM1MiwgLTEyMi40MzQ1MDkyNzczXSwKICAgICAgICAgICAgICAgIHt9CiAgICAgICAgICAgICkuYWRkVG8obWFwX2U2NDA2NGQ1Mzk1MDRmOTg5ZjAyMzU5ZDRlN2FlZGE3KTsKICAgICAgICAKICAgIAogICAgICAgICAgICB2YXIgaWNvbl8xYjViNDg2MzE4ZGU0OWJiOGY0NzA5YTM5YTNjMTRhNiA9IEwuQXdlc29tZU1hcmtlcnMuaWNvbigKICAgICAgICAgICAgICAgIHsiZXh0cmFDbGFzc2VzIjogImZhLXJvdGF0ZS0wIiwgImljb24iOiAiZ3JvdXAiLCAiaWNvbkNvbG9yIjogIndoaXRlIiwgIm1hcmtlckNvbG9yIjogImJsYWNrIiwgInByZWZpeCI6ICJmYSJ9CiAgICAgICAgICAgICk7CiAgICAgICAgICAgIG1hcmtlcl9lMWFmMmVlY2I0MTY0Mjk5OGNmMjY1MzAyNTIwOWVjNS5zZXRJY29uKGljb25fMWI1YjQ4NjMxOGRlNDliYjhmNDcwOWEzOWEzYzE0YTYpOwogICAgICAgIAogICAgCiAgICAgICAgICAgIHZhciBtYXJrZXJfYTY3ZGYyNDIyMjgxNGU4ZWJlNjFlMGUyN2I1Y2YxYWIgPSBMLm1hcmtlcigKICAgICAgICAgICAgICAgIFszNy44MDQ0MjkyNzE5LCAtMTIyLjQzMzM4OTQzMDldLAogICAgICAgICAgICAgICAge30KICAgICAgICAgICAgKS5hZGRUbyhtYXBfZTY0MDY0ZDUzOTUwNGY5ODlmMDIzNTlkNGU3YWVkYTcpOwogICAgICAgIAogICAgCiAgICAgICAgICAgIHZhciBpY29uX2RlOTk4MGVkZGU2ZTQ3ZjY5ZDVmOTcwNzY2NmUxY2I5ID0gTC5Bd2Vzb21lTWFya2Vycy5pY29uKAogICAgICAgICAgICAgICAgeyJleHRyYUNsYXNzZXMiOiAiZmEtcm90YXRlLTAiLCAiaWNvbiI6ICJncm91cCIsICJpY29uQ29sb3IiOiAid2hpdGUiLCAibWFya2VyQ29sb3IiOiAiYmxhY2siLCAicHJlZml4IjogImZhIn0KICAgICAgICAgICAgKTsKICAgICAgICAgICAgbWFya2VyX2E2N2RmMjQyMjI4MTRlOGViZTYxZTBlMjdiNWNmMWFiLnNldEljb24oaWNvbl9kZTk5ODBlZGRlNmU0N2Y2OWQ1Zjk3MDc2NjZlMWNiOSk7CiAgICAgICAgCiAgICAKICAgICAgICAgICAgdmFyIG1hcmtlcl85OTFmMGI3MDk2M2Y0YmVhODlkOWEyMTkyN2Y0ZGMwMiA9IEwubWFya2VyKAogICAgICAgICAgICAgICAgWzM3Ljc5NjA0ODYwMTEsIC0xMjIuNDM3NTg2NTAzNV0sCiAgICAgICAgICAgICAgICB7fQogICAgICAgICAgICApLmFkZFRvKG1hcF9lNjQwNjRkNTM5NTA0Zjk4OWYwMjM1OWQ0ZTdhZWRhNyk7CiAgICAgICAgCiAgICAKICAgICAgICAgICAgdmFyIGljb25fYTFkOGNkNjlhYjg4NDQ4ZjgxNjY2YzBmNzJkYzdhOTEgPSBMLkF3ZXNvbWVNYXJrZXJzLmljb24oCiAgICAgICAgICAgICAgICB7ImV4dHJhQ2xhc3NlcyI6ICJmYS1yb3RhdGUtMCIsICJpY29uIjogImdyb3VwIiwgImljb25Db2xvciI6ICJ3aGl0ZSIsICJtYXJrZXJDb2xvciI6ICJibGFjayIsICJwcmVmaXgiOiAiZmEifQogICAgICAgICAgICApOwogICAgICAgICAgICBtYXJrZXJfOTkxZjBiNzA5NjNmNGJlYTg5ZDlhMjE5MjdmNGRjMDIuc2V0SWNvbihpY29uX2ExZDhjZDY5YWI4ODQ0OGY4MTY2NmMwZjcyZGM3YTkxKTsKICAgICAgICAKICAgIAogICAgICAgICAgICB2YXIgbWFya2VyX2FiZmZjYzFhMmVkZDQ1NTliNDZiZDAzODFiY2UxMzE2ID0gTC5tYXJrZXIoCiAgICAgICAgICAgICAgICBbMzcuODA1NzUzMzIwMywgLTEyMi40MzI1NTk5NV0sCiAgICAgICAgICAgICAgICB7fQogICAgICAgICAgICApLmFkZFRvKG1hcF9lNjQwNjRkNTM5NTA0Zjk4OWYwMjM1OWQ0ZTdhZWRhNyk7CiAgICAgICAgCiAgICAKICAgICAgICAgICAgdmFyIGljb25fYTQzNjUxNmM3MzBlNGJhMDg2YWQ4ZjcwYzA3ZDFkZWIgPSBMLkF3ZXNvbWVNYXJrZXJzLmljb24oCiAgICAgICAgICAgICAgICB7ImV4dHJhQ2xhc3NlcyI6ICJmYS1yb3RhdGUtMCIsICJpY29uIjogImdyb3VwIiwgImljb25Db2xvciI6ICJ3aGl0ZSIsICJtYXJrZXJDb2xvciI6ICJibGFjayIsICJwcmVmaXgiOiAiZmEifQogICAgICAgICAgICApOwogICAgICAgICAgICBtYXJrZXJfYWJmZmNjMWEyZWRkNDU1OWI0NmJkMDM4MWJjZTEzMTYuc2V0SWNvbihpY29uX2E0MzY1MTZjNzMwZTRiYTA4NmFkOGY3MGMwN2QxZGViKTsKICAgICAgICAKICAgIAogICAgICAgICAgICB2YXIgbWFya2VyXzhiZDU0ZDFjMmI0ZTQ4MDZiYzExY2VlMjlhMTY5ODkwID0gTC5tYXJrZXIoCiAgICAgICAgICAgICAgICBbMzcuNzg0ODYxNzk1NywgLTEyMi40MzE0MTUyNTU2XSwKICAgICAgICAgICAgICAgIHt9CiAgICAgICAgICAgICkuYWRkVG8obWFwX2U2NDA2NGQ1Mzk1MDRmOTg5ZjAyMzU5ZDRlN2FlZGE3KTsKICAgICAgICAKICAgIAogICAgICAgICAgICB2YXIgaWNvbl83Yzc0MThkMjMxZDY0Mzc1YTBhYTAzM2Q0NGVmMGMzMyA9IEwuQXdlc29tZU1hcmtlcnMuaWNvbigKICAgICAgICAgICAgICAgIHsiZXh0cmFDbGFzc2VzIjogImZhLXJvdGF0ZS0wIiwgImljb24iOiAiZ3JvdXAiLCAiaWNvbkNvbG9yIjogIndoaXRlIiwgIm1hcmtlckNvbG9yIjogImJsYWNrIiwgInByZWZpeCI6ICJmYSJ9CiAgICAgICAgICAgICk7CiAgICAgICAgICAgIG1hcmtlcl84YmQ1NGQxYzJiNGU0ODA2YmMxMWNlZTI5YTE2OTg5MC5zZXRJY29uKGljb25fN2M3NDE4ZDIzMWQ2NDM3NWEwYWEwMzNkNDRlZjBjMzMpOwogICAgICAgIAogICAgCiAgICAgICAgICAgIHZhciBtYXJrZXJfMTc1NmMxYTdmZjBkNGI0MmI0MDcyYWIzYzJmZWQ5ZjQgPSBMLm1hcmtlcigKICAgICAgICAgICAgICAgIFszNy43ODI5MDQyNzc4LCAtMTIyLjQyODEyMDY5OTddLAogICAgICAgICAgICAgICAge30KICAgICAgICAgICAgKS5hZGRUbyhtYXBfZTY0MDY0ZDUzOTUwNGY5ODlmMDIzNTlkNGU3YWVkYTcpOwogICAgICAgIAogICAgCiAgICAgICAgICAgIHZhciBpY29uXzcyNzkzNDc5MTU2ZDRhYzQ5ZGQyZDRjOWNjZjc3NTA0ID0gTC5Bd2Vzb21lTWFya2Vycy5pY29uKAogICAgICAgICAgICAgICAgeyJleHRyYUNsYXNzZXMiOiAiZmEtcm90YXRlLTAiLCAiaWNvbiI6ICJncm91cCIsICJpY29uQ29sb3IiOiAid2hpdGUiLCAibWFya2VyQ29sb3IiOiAiYmxhY2siLCAicHJlZml4IjogImZhIn0KICAgICAgICAgICAgKTsKICAgICAgICAgICAgbWFya2VyXzE3NTZjMWE3ZmYwZDRiNDJiNDA3MmFiM2MyZmVkOWY0LnNldEljb24oaWNvbl83Mjc5MzQ3OTE1NmQ0YWM0OWRkMmQ0YzljY2Y3NzUwNCk7CiAgICAgICAgCiAgICAKICAgICAgICAgICAgdmFyIG1hcmtlcl82YTBiZTgzODhiNTE0ZDZjYjFmNThlMjM0NjRlNzI2OSA9IEwubWFya2VyKAogICAgICAgICAgICAgICAgWzM3Ljc4MTY1MzEwODcsIC0xMjIuNDE5NzA3Njg4NF0sCiAgICAgICAgICAgICAgICB7fQogICAgICAgICAgICApLmFkZFRvKG1hcF9lNjQwNjRkNTM5NTA0Zjk4OWYwMjM1OWQ0ZTdhZWRhNyk7CiAgICAgICAgCiAgICAKICAgICAgICAgICAgdmFyIGljb25fMWFlZmJhMGFjYWFlNDdhZjhkYWQ4ODBiYTg5MTRmMTggPSBMLkF3ZXNvbWVNYXJrZXJzLmljb24oCiAgICAgICAgICAgICAgICB7ImV4dHJhQ2xhc3NlcyI6ICJmYS1yb3RhdGUtMCIsICJpY29uIjogImdyb3VwIiwgImljb25Db2xvciI6ICJ3aGl0ZSIsICJtYXJrZXJDb2xvciI6ICJibGFjayIsICJwcmVmaXgiOiAiZmEifQogICAgICAgICAgICApOwogICAgICAgICAgICBtYXJrZXJfNmEwYmU4Mzg4YjUxNGQ2Y2IxZjU4ZTIzNDY0ZTcyNjkuc2V0SWNvbihpY29uXzFhZWZiYTBhY2FhZTQ3YWY4ZGFkODgwYmE4OTE0ZjE4KTsKICAgICAgICAKICAgIAogICAgICAgICAgICB2YXIgbWFya2VyXzJjYTU5YmEzNWU1NTQ4MTNhOGY1YTU2Y2JmNmU4YTZhID0gTC5tYXJrZXIoCiAgICAgICAgICAgICAgICBbMzcuNzgyOTA5MTI4MiwgLTEyMi40Mjk4NTk2MzgyXSwKICAgICAgICAgICAgICAgIHt9CiAgICAgICAgICAgICkuYWRkVG8obWFwX2U2NDA2NGQ1Mzk1MDRmOTg5ZjAyMzU5ZDRlN2FlZGE3KTsKICAgICAgICAKICAgIAogICAgICAgICAgICB2YXIgaWNvbl9jNjE2YWVmZWZhYTY0ZmI2YTAwMTk0NTAzMWQ4N2QxOSA9IEwuQXdlc29tZU1hcmtlcnMuaWNvbigKICAgICAgICAgICAgICAgIHsiZXh0cmFDbGFzc2VzIjogImZhLXJvdGF0ZS0wIiwgImljb24iOiAiZ3JvdXAiLCAiaWNvbkNvbG9yIjogIndoaXRlIiwgIm1hcmtlckNvbG9yIjogImJsYWNrIiwgInByZWZpeCI6ICJmYSJ9CiAgICAgICAgICAgICk7CiAgICAgICAgICAgIG1hcmtlcl8yY2E1OWJhMzVlNTU0ODEzYThmNWE1NmNiZjZlOGE2YS5zZXRJY29uKGljb25fYzYxNmFlZmVmYWE2NGZiNmEwMDE5NDUwMzFkODdkMTkpOwogICAgICAgIAogICAgCiAgICAgICAgICAgIHZhciBtYXJrZXJfODM4ZGY4YWNmY2Y0NDMzZGE5MjNkN2RkNjRmMWQ2NDAgPSBMLm1hcmtlcigKICAgICAgICAgICAgICAgIFszNy43OTE5NjQsIC0xMjIuNDM5Mjk3XSwKICAgICAgICAgICAgICAgIHt9CiAgICAgICAgICAgICkuYWRkVG8obWFwX2U2NDA2NGQ1Mzk1MDRmOTg5ZjAyMzU5ZDRlN2FlZGE3KTsKICAgICAgICAKICAgIAogICAgICAgICAgICB2YXIgaWNvbl8zNmM0N2QzNmE0YmU0YmUyOWY4Y2IyMDRmY2VmZmY0NSA9IEwuQXdlc29tZU1hcmtlcnMuaWNvbigKICAgICAgICAgICAgICAgIHsiZXh0cmFDbGFzc2VzIjogImZhLXJvdGF0ZS0wIiwgImljb24iOiAiZ3JvdXAiLCAiaWNvbkNvbG9yIjogIndoaXRlIiwgIm1hcmtlckNvbG9yIjogImJsYWNrIiwgInByZWZpeCI6ICJmYSJ9CiAgICAgICAgICAgICk7CiAgICAgICAgICAgIG1hcmtlcl84MzhkZjhhY2ZjZjQ0MzNkYTkyM2Q3ZGQ2NGYxZDY0MC5zZXRJY29uKGljb25fMzZjNDdkMzZhNGJlNGJlMjlmOGNiMjA0ZmNlZmZmNDUpOwogICAgICAgIAogICAgCiAgICAgICAgICAgIHZhciBtYXJrZXJfOWJmNzVkYjgwMmMzNGI1N2ExNDY2NWI1M2U5ZDVmNjIgPSBMLm1hcmtlcigKICAgICAgICAgICAgICAgIFszNy43OTMzMiwgLTEyMi40NDAxMV0sCiAgICAgICAgICAgICAgICB7fQogICAgICAgICAgICApLmFkZFRvKG1hcF9lNjQwNjRkNTM5NTA0Zjk4OWYwMjM1OWQ0ZTdhZWRhNyk7CiAgICAgICAgCiAgICAKICAgICAgICAgICAgdmFyIGljb25fZDc1ODE3ZTRkNWM0NDI4ZDgxYmZkMDI0ZmFhMDc4ODUgPSBMLkF3ZXNvbWVNYXJrZXJzLmljb24oCiAgICAgICAgICAgICAgICB7ImV4dHJhQ2xhc3NlcyI6ICJmYS1yb3RhdGUtMCIsICJpY29uIjogImdyb3VwIiwgImljb25Db2xvciI6ICJ3aGl0ZSIsICJtYXJrZXJDb2xvciI6ICJibGFjayIsICJwcmVmaXgiOiAiZmEifQogICAgICAgICAgICApOwogICAgICAgICAgICBtYXJrZXJfOWJmNzVkYjgwMmMzNGI1N2ExNDY2NWI1M2U5ZDVmNjIuc2V0SWNvbihpY29uX2Q3NTgxN2U0ZDVjNDQyOGQ4MWJmZDAyNGZhYTA3ODg1KTsKICAgICAgICAKICAgIAogICAgICAgICAgICB2YXIgbWFya2VyX2EzYWVhYzk0Njc1NzQ4Mzk4Mzc0MjQxNzc2MDg1N2E5ID0gTC5tYXJrZXIoCiAgICAgICAgICAgICAgICBbMzcuNzg3MTcyMDI2LCAtMTIyLjQzNzI2Nzg5OTVdLAogICAgICAgICAgICAgICAge30KICAgICAgICAgICAgKS5hZGRUbyhtYXBfZTY0MDY0ZDUzOTUwNGY5ODlmMDIzNTlkNGU3YWVkYTcpOwogICAgICAgIAogICAgCiAgICAgICAgICAgIHZhciBpY29uXzg2YzlmNjJjYjgzMjQwZjU4MTM0ZjU0M2QxMjczOWU3ID0gTC5Bd2Vzb21lTWFya2Vycy5pY29uKAogICAgICAgICAgICAgICAgeyJleHRyYUNsYXNzZXMiOiAiZmEtcm90YXRlLTAiLCAiaWNvbiI6ICJncm91cCIsICJpY29uQ29sb3IiOiAid2hpdGUiLCAibWFya2VyQ29sb3IiOiAiYmxhY2siLCAicHJlZml4IjogImZhIn0KICAgICAgICAgICAgKTsKICAgICAgICAgICAgbWFya2VyX2EzYWVhYzk0Njc1NzQ4Mzk4Mzc0MjQxNzc2MDg1N2E5LnNldEljb24oaWNvbl84NmM5ZjYyY2I4MzI0MGY1ODEzNGY1NDNkMTI3MzllNyk7CiAgICAgICAgCiAgICAKICAgICAgICAgICAgdmFyIG1hcmtlcl80MTdiZGZlNzcwNjU0MDNmOThlOWM5ZmU1ZGJmZGQzMyA9IEwubWFya2VyKAogICAgICAgICAgICAgICAgWzM3Ljc5MjA0MDg4MjksIC0xMjIuNDQwMTQzMjI3Nl0sCiAgICAgICAgICAgICAgICB7fQogICAgICAgICAgICApLmFkZFRvKG1hcF9lNjQwNjRkNTM5NTA0Zjk4OWYwMjM1OWQ0ZTdhZWRhNyk7CiAgICAgICAgCiAgICAKICAgICAgICAgICAgdmFyIGljb25fZDIwNmI4N2VmMzI2NDBhMDg1ZGVkZTVkNTJlZjQ3OGEgPSBMLkF3ZXNvbWVNYXJrZXJzLmljb24oCiAgICAgICAgICAgICAgICB7ImV4dHJhQ2xhc3NlcyI6ICJmYS1yb3RhdGUtMCIsICJpY29uIjogImdyb3VwIiwgImljb25Db2xvciI6ICJ3aGl0ZSIsICJtYXJrZXJDb2xvciI6ICJibGFjayIsICJwcmVmaXgiOiAiZmEifQogICAgICAgICAgICApOwogICAgICAgICAgICBtYXJrZXJfNDE3YmRmZTc3MDY1NDAzZjk4ZTljOWZlNWRiZmRkMzMuc2V0SWNvbihpY29uX2QyMDZiODdlZjMyNjQwYTA4NWRlZGU1ZDUyZWY0NzhhKTsKICAgICAgICAKICAgIAogICAgICAgICAgICB2YXIgbWFya2VyXzM3YzVkYzU2ODgwOTQ0YTk4Y2ZkMGU5ZWE0ZjVmNjRhID0gTC5tYXJrZXIoCiAgICAgICAgICAgICAgICBbMzcuNzg3NDYwMTYsIC0xMjIuNDM5NDM4NzkyN10sCiAgICAgICAgICAgICAgICB7fQogICAgICAgICAgICApLmFkZFRvKG1hcF9lNjQwNjRkNTM5NTA0Zjk4OWYwMjM1OWQ0ZTdhZWRhNyk7CiAgICAgICAgCiAgICAKICAgICAgICAgICAgdmFyIGljb25fYzk2NDk5YWM0ZTQ4NDAwNmFlNDAwNmUwMDk4MDE2NDUgPSBMLkF3ZXNvbWVNYXJrZXJzLmljb24oCiAgICAgICAgICAgICAgICB7ImV4dHJhQ2xhc3NlcyI6ICJmYS1yb3RhdGUtMCIsICJpY29uIjogImdyb3VwIiwgImljb25Db2xvciI6ICJ3aGl0ZSIsICJtYXJrZXJDb2xvciI6ICJibGFjayIsICJwcmVmaXgiOiAiZmEifQogICAgICAgICAgICApOwogICAgICAgICAgICBtYXJrZXJfMzdjNWRjNTY4ODA5NDRhOThjZmQwZTllYTRmNWY2NGEuc2V0SWNvbihpY29uX2M5NjQ5OWFjNGU0ODQwMDZhZTQwMDZlMDA5ODAxNjQ1KTsKICAgICAgICAKICAgIAogICAgICAgICAgICB2YXIgbWFya2VyX2JiYmYxMjc3Mjg1NzQyN2U4NGE3Y2Y2YzE5ZjE1NTJmID0gTC5tYXJrZXIoCiAgICAgICAgICAgICAgICBbMzcuNzg2MTI2LCAtMTIyLjQzODkxN10sCiAgICAgICAgICAgICAgICB7fQogICAgICAgICAgICApLmFkZFRvKG1hcF9lNjQwNjRkNTM5NTA0Zjk4OWYwMjM1OWQ0ZTdhZWRhNyk7CiAgICAgICAgCiAgICAKICAgICAgICAgICAgdmFyIGljb25fMjY0YTg5ZDA2NzVjNGYyY2I1OGY0ODI2MTkxM2Q3NDggPSBMLkF3ZXNvbWVNYXJrZXJzLmljb24oCiAgICAgICAgICAgICAgICB7ImV4dHJhQ2xhc3NlcyI6ICJmYS1yb3RhdGUtMCIsICJpY29uIjogImdyb3VwIiwgImljb25Db2xvciI6ICJ3aGl0ZSIsICJtYXJrZXJDb2xvciI6ICJibGFjayIsICJwcmVmaXgiOiAiZmEifQogICAgICAgICAgICApOwogICAgICAgICAgICBtYXJrZXJfYmJiZjEyNzcyODU3NDI3ZTg0YTdjZjZjMTlmMTU1MmYuc2V0SWNvbihpY29uXzI2NGE4OWQwNjc1YzRmMmNiNThmNDgyNjE5MTNkNzQ4KTsKICAgICAgICAKICAgIAogICAgICAgICAgICB2YXIgbWFya2VyXzk3NmMyNGQ5NDUyYjRmMDdhNTQ5NGJkMDYzMDFkYTMyID0gTC5tYXJrZXIoCiAgICAgICAgICAgICAgICBbMzcuNzgzNTYxNjA1NCwgLTEyMi40MzYyNDc3ODA4XSwKICAgICAgICAgICAgICAgIHt9CiAgICAgICAgICAgICkuYWRkVG8obWFwX2U2NDA2NGQ1Mzk1MDRmOTg5ZjAyMzU5ZDRlN2FlZGE3KTsKICAgICAgICAKICAgIAogICAgICAgICAgICB2YXIgaWNvbl8zMTcwMTc5MmRmNTQ0ZDMyYjM1ODMwNjRmNTZkOTYwYiA9IEwuQXdlc29tZU1hcmtlcnMuaWNvbigKICAgICAgICAgICAgICAgIHsiZXh0cmFDbGFzc2VzIjogImZhLXJvdGF0ZS0wIiwgImljb24iOiAiZ3JvdXAiLCAiaWNvbkNvbG9yIjogIndoaXRlIiwgIm1hcmtlckNvbG9yIjogImJsYWNrIiwgInByZWZpeCI6ICJmYSJ9CiAgICAgICAgICAgICk7CiAgICAgICAgICAgIG1hcmtlcl85NzZjMjRkOTQ1MmI0ZjA3YTU0OTRiZDA2MzAxZGEzMi5zZXRJY29uKGljb25fMzE3MDE3OTJkZjU0NGQzMmIzNTgzMDY0ZjU2ZDk2MGIpOwogICAgICAgIAogICAgCiAgICAgICAgICAgIHZhciBtYXJrZXJfMGU2MjI1YWVhMjI5NDcxMmFmMGM0YmJjYzA4MWU1MjcgPSBMLm1hcmtlcigKICAgICAgICAgICAgICAgIFszNy43OTA3Nzc0NjI4LCAtMTIyLjQ0MjIzNDIyNjddLAogICAgICAgICAgICAgICAge30KICAgICAgICAgICAgKS5hZGRUbyhtYXBfZTY0MDY0ZDUzOTUwNGY5ODlmMDIzNTlkNGU3YWVkYTcpOwogICAgICAgIAogICAgCiAgICAgICAgICAgIHZhciBpY29uX2U0ODYzNGEwNTM0YTQwODViNDA3ZTllYWE3NWYzYTVhID0gTC5Bd2Vzb21lTWFya2Vycy5pY29uKAogICAgICAgICAgICAgICAgeyJleHRyYUNsYXNzZXMiOiAiZmEtcm90YXRlLTAiLCAiaWNvbiI6ICJncm91cCIsICJpY29uQ29sb3IiOiAid2hpdGUiLCAibWFya2VyQ29sb3IiOiAiYmxhY2siLCAicHJlZml4IjogImZhIn0KICAgICAgICAgICAgKTsKICAgICAgICAgICAgbWFya2VyXzBlNjIyNWFlYTIyOTQ3MTJhZjBjNGJiY2MwODFlNTI3LnNldEljb24oaWNvbl9lNDg2MzRhMDUzNGE0MDg1YjQwN2U5ZWFhNzVmM2E1YSk7CiAgICAgICAgCiAgICAKICAgICAgICAgICAgdmFyIG1hcmtlcl82M2EwYTI1NTJkNzQ0M2M0OGYwZDBkMTY1NTc5OTM2ZSA9IEwubWFya2VyKAogICAgICAgICAgICAgICAgWzM3Ljc4MjgyMjU5MjQsIC0xMjIuNDM3MTQ5NjYxOV0sCiAgICAgICAgICAgICAgICB7fQogICAgICAgICAgICApLmFkZFRvKG1hcF9lNjQwNjRkNTM5NTA0Zjk4OWYwMjM1OWQ0ZTdhZWRhNyk7CiAgICAgICAgCiAgICAKICAgICAgICAgICAgdmFyIGljb25fNDc1YWVkZDQ4YzU3NGYxNjhlZDVjMzA5ZjJiMTg1NzYgPSBMLkF3ZXNvbWVNYXJrZXJzLmljb24oCiAgICAgICAgICAgICAgICB7ImV4dHJhQ2xhc3NlcyI6ICJmYS1yb3RhdGUtMCIsICJpY29uIjogImdyb3VwIiwgImljb25Db2xvciI6ICJ3aGl0ZSIsICJtYXJrZXJDb2xvciI6ICJibGFjayIsICJwcmVmaXgiOiAiZmEifQogICAgICAgICAgICApOwogICAgICAgICAgICBtYXJrZXJfNjNhMGEyNTUyZDc0NDNjNDhmMGQwZDE2NTU3OTkzNmUuc2V0SWNvbihpY29uXzQ3NWFlZGQ0OGM1NzRmMTY4ZWQ1YzMwOWYyYjE4NTc2KTsKICAgICAgICAKICAgIAogICAgICAgICAgICB2YXIgbWFya2VyXzQ3NWZhMjU1OWEyYjQ0NzQ4ZjkwZDhkNGYzOWQ0NTM1ID0gTC5tYXJrZXIoCiAgICAgICAgICAgICAgICBbMzcuODAzNjg1NjU4MiwgLTEyMi40NDI4MjI0NzYyXSwKICAgICAgICAgICAgICAgIHt9CiAgICAgICAgICAgICkuYWRkVG8obWFwX2U2NDA2NGQ1Mzk1MDRmOTg5ZjAyMzU5ZDRlN2FlZGE3KTsKICAgICAgICAKICAgIAogICAgICAgICAgICB2YXIgaWNvbl9iNzMzZGQyYWJiNTA0MTFiYjAyMGYzYWJkNjdkZWY0NyA9IEwuQXdlc29tZU1hcmtlcnMuaWNvbigKICAgICAgICAgICAgICAgIHsiZXh0cmFDbGFzc2VzIjogImZhLXJvdGF0ZS0wIiwgImljb24iOiAiZ3JvdXAiLCAiaWNvbkNvbG9yIjogIndoaXRlIiwgIm1hcmtlckNvbG9yIjogImJsYWNrIiwgInByZWZpeCI6ICJmYSJ9CiAgICAgICAgICAgICk7CiAgICAgICAgICAgIG1hcmtlcl80NzVmYTI1NTlhMmI0NDc0OGY5MGQ4ZDRmMzlkNDUzNS5zZXRJY29uKGljb25fYjczM2RkMmFiYjUwNDExYmIwMjBmM2FiZDY3ZGVmNDcpOwogICAgICAgIAogICAgCiAgICAgICAgICAgIHZhciBtYXJrZXJfZWIxY2M4MjFlMWRmNGZhNTgwNGE2MDkyZGZlZjlkNWEgPSBMLm1hcmtlcigKICAgICAgICAgICAgICAgIFszNy43ODc3NzYwNzk0LCAtMTIyLjQ0MjM3MDk0NzldLAogICAgICAgICAgICAgICAge30KICAgICAgICAgICAgKS5hZGRUbyhtYXBfZTY0MDY0ZDUzOTUwNGY5ODlmMDIzNTlkNGU3YWVkYTcpOwogICAgICAgIAogICAgCiAgICAgICAgICAgIHZhciBpY29uXzFmY2Q5ZTdiZmY1NzRjY2ZiMjFiMTdhMzlmZGZiNjQ0ID0gTC5Bd2Vzb21lTWFya2Vycy5pY29uKAogICAgICAgICAgICAgICAgeyJleHRyYUNsYXNzZXMiOiAiZmEtcm90YXRlLTAiLCAiaWNvbiI6ICJncm91cCIsICJpY29uQ29sb3IiOiAid2hpdGUiLCAibWFya2VyQ29sb3IiOiAiYmxhY2siLCAicHJlZml4IjogImZhIn0KICAgICAgICAgICAgKTsKICAgICAgICAgICAgbWFya2VyX2ViMWNjODIxZTFkZjRmYTU4MDRhNjA5MmRmZWY5ZDVhLnNldEljb24oaWNvbl8xZmNkOWU3YmZmNTc0Y2NmYjIxYjE3YTM5ZmRmYjY0NCk7CiAgICAgICAgCiAgICAKICAgICAgICAgICAgdmFyIG1hcmtlcl80ZWZiZWZlYTJlN2Q0M2IzOGNkZjUzNDI5YjNmZDkxNSA9IEwubWFya2VyKAogICAgICAgICAgICAgICAgWzM3Ljc4MTcxNDMzMDIsIC0xMjIuNDM2NDQxODY0XSwKICAgICAgICAgICAgICAgIHt9CiAgICAgICAgICAgICkuYWRkVG8obWFwX2U2NDA2NGQ1Mzk1MDRmOTg5ZjAyMzU5ZDRlN2FlZGE3KTsKICAgICAgICAKICAgIAogICAgICAgICAgICB2YXIgaWNvbl9kMDA4YzBlZjRmY2E0ODc2YjgzYmY0OTE0MDk5ZjBjZiA9IEwuQXdlc29tZU1hcmtlcnMuaWNvbigKICAgICAgICAgICAgICAgIHsiZXh0cmFDbGFzc2VzIjogImZhLXJvdGF0ZS0wIiwgImljb24iOiAiZ3JvdXAiLCAiaWNvbkNvbG9yIjogIndoaXRlIiwgIm1hcmtlckNvbG9yIjogImJsYWNrIiwgInByZWZpeCI6ICJmYSJ9CiAgICAgICAgICAgICk7CiAgICAgICAgICAgIG1hcmtlcl80ZWZiZWZlYTJlN2Q0M2IzOGNkZjUzNDI5YjNmZDkxNS5zZXRJY29uKGljb25fZDAwOGMwZWY0ZmNhNDg3NmI4M2JmNDkxNDA5OWYwY2YpOwogICAgICAgIAogICAgCiAgICAgICAgICAgIHZhciBtYXJrZXJfYzAyYWQyMzIxYTAyNDZkMzkyNzU3Y2UyZGVlZTk4YmUgPSBMLm1hcmtlcigKICAgICAgICAgICAgICAgIFszNy43OTAyOTk2NSwgLTEyMi40NDUzMTM5NDY0XSwKICAgICAgICAgICAgICAgIHt9CiAgICAgICAgICAgICkuYWRkVG8obWFwX2U2NDA2NGQ1Mzk1MDRmOTg5ZjAyMzU5ZDRlN2FlZGE3KTsKICAgICAgICAKICAgIAogICAgICAgICAgICB2YXIgaWNvbl8yMWZjZDBmZmU3MzI0ZjM4YjY5OGMxNDdkOTVjMDM3NCA9IEwuQXdlc29tZU1hcmtlcnMuaWNvbigKICAgICAgICAgICAgICAgIHsiZXh0cmFDbGFzc2VzIjogImZhLXJvdGF0ZS0wIiwgImljb24iOiAiZ3JvdXAiLCAiaWNvbkNvbG9yIjogIndoaXRlIiwgIm1hcmtlckNvbG9yIjogImJsYWNrIiwgInByZWZpeCI6ICJmYSJ9CiAgICAgICAgICAgICk7CiAgICAgICAgICAgIG1hcmtlcl9jMDJhZDIzMjFhMDI0NmQzOTI3NTdjZTJkZWVlOThiZS5zZXRJY29uKGljb25fMjFmY2QwZmZlNzMyNGYzOGI2OThjMTQ3ZDk1YzAzNzQpOwogICAgICAgIAogICAgCiAgICAgICAgICAgIHZhciBtYXJrZXJfYTczZDE0NGExMDI4NGFiMGEwOTlkYWQ2ZTcwNjBkZTEgPSBMLm1hcmtlcigKICAgICAgICAgICAgICAgIFszNy43OTAzMjgsIC0xMjIuNDQ1NTE5XSwKICAgICAgICAgICAgICAgIHt9CiAgICAgICAgICAgICkuYWRkVG8obWFwX2U2NDA2NGQ1Mzk1MDRmOTg5ZjAyMzU5ZDRlN2FlZGE3KTsKICAgICAgICAKICAgIAogICAgICAgICAgICB2YXIgaWNvbl8zNzg2ODIxOWE2NjA0MjNiYTAxYTE4Y2ZiYjg3YWQ3OCA9IEwuQXdlc29tZU1hcmtlcnMuaWNvbigKICAgICAgICAgICAgICAgIHsiZXh0cmFDbGFzc2VzIjogImZhLXJvdGF0ZS0wIiwgImljb24iOiAiZ3JvdXAiLCAiaWNvbkNvbG9yIjogIndoaXRlIiwgIm1hcmtlckNvbG9yIjogImJsYWNrIiwgInByZWZpeCI6ICJmYSJ9CiAgICAgICAgICAgICk7CiAgICAgICAgICAgIG1hcmtlcl9hNzNkMTQ0YTEwMjg0YWIwYTA5OWRhZDZlNzA2MGRlMS5zZXRJY29uKGljb25fMzc4NjgyMTlhNjYwNDIzYmEwMWExOGNmYmI4N2FkNzgpOwogICAgICAgIAogICAgCiAgICAgICAgICAgIHZhciBtYXJrZXJfYWEyNDE2MTQwMjQ0NDQ2YTg2YmViZTc5NzFmMGFjN2MgPSBMLm1hcmtlcigKICAgICAgICAgICAgICAgIFszNy43Nzk3NzE2ODE5LCAtMTIyLjQzNjEyNTI3ODVdLAogICAgICAgICAgICAgICAge30KICAgICAgICAgICAgKS5hZGRUbyhtYXBfZTY0MDY0ZDUzOTUwNGY5ODlmMDIzNTlkNGU3YWVkYTcpOwogICAgICAgIAogICAgCiAgICAgICAgICAgIHZhciBpY29uX2YxZWMxMzdiOGYyNDQ2YTk5ODM1ZjEyZWQyZGY0ZDdmID0gTC5Bd2Vzb21lTWFya2Vycy5pY29uKAogICAgICAgICAgICAgICAgeyJleHRyYUNsYXNzZXMiOiAiZmEtcm90YXRlLTAiLCAiaWNvbiI6ICJncm91cCIsICJpY29uQ29sb3IiOiAid2hpdGUiLCAibWFya2VyQ29sb3IiOiAiYmxhY2siLCAicHJlZml4IjogImZhIn0KICAgICAgICAgICAgKTsKICAgICAgICAgICAgbWFya2VyX2FhMjQxNjE0MDI0NDQ0NmE4NmJlYmU3OTcxZjBhYzdjLnNldEljb24oaWNvbl9mMWVjMTM3YjhmMjQ0NmE5OTgzNWYxMmVkMmRmNGQ3Zik7CiAgICAgICAgCiAgICAKICAgICAgICAgICAgdmFyIG1hcmtlcl9kMGE1OWRjMWQyNDE0M2IyODg1Mjg4Njc5ZmQxYjg0ZSA9IEwubWFya2VyKAogICAgICAgICAgICAgICAgWzM3Ljc3OTQyOSwgLTEyMi40MzU5NzFdLAogICAgICAgICAgICAgICAge30KICAgICAgICAgICAgKS5hZGRUbyhtYXBfZTY0MDY0ZDUzOTUwNGY5ODlmMDIzNTlkNGU3YWVkYTcpOwogICAgICAgIAogICAgCiAgICAgICAgICAgIHZhciBpY29uX2RiYWVkZjNjN2YzNTRmZmRiZjg3MWY5OTk4YzIyOWMxID0gTC5Bd2Vzb21lTWFya2Vycy5pY29uKAogICAgICAgICAgICAgICAgeyJleHRyYUNsYXNzZXMiOiAiZmEtcm90YXRlLTAiLCAiaWNvbiI6ICJncm91cCIsICJpY29uQ29sb3IiOiAid2hpdGUiLCAibWFya2VyQ29sb3IiOiAiYmxhY2siLCAicHJlZml4IjogImZhIn0KICAgICAgICAgICAgKTsKICAgICAgICAgICAgbWFya2VyX2QwYTU5ZGMxZDI0MTQzYjI4ODUyODg2NzlmZDFiODRlLnNldEljb24oaWNvbl9kYmFlZGYzYzdmMzU0ZmZkYmY4NzFmOTk5OGMyMjljMSk7CiAgICAgICAgCiAgICAKICAgICAgICAgICAgdmFyIG1hcmtlcl8wYTU5N2Y4ODUwZjY0OWY0YTA4NzlmMjRlMTk2ZmE3MCA9IEwubWFya2VyKAogICAgICAgICAgICAgICAgWzM3LjgwMzkwMiwgLTEyMi40NDU2MTddLAogICAgICAgICAgICAgICAge30KICAgICAgICAgICAgKS5hZGRUbyhtYXBfZTY0MDY0ZDUzOTUwNGY5ODlmMDIzNTlkNGU3YWVkYTcpOwogICAgICAgIAogICAgCiAgICAgICAgICAgIHZhciBpY29uXzExNGVmZTEyNDhiYzQyY2M5ZjVkYzhmN2NiZDE1MTc2ID0gTC5Bd2Vzb21lTWFya2Vycy5pY29uKAogICAgICAgICAgICAgICAgeyJleHRyYUNsYXNzZXMiOiAiZmEtcm90YXRlLTAiLCAiaWNvbiI6ICJncm91cCIsICJpY29uQ29sb3IiOiAid2hpdGUiLCAibWFya2VyQ29sb3IiOiAiYmxhY2siLCAicHJlZml4IjogImZhIn0KICAgICAgICAgICAgKTsKICAgICAgICAgICAgbWFya2VyXzBhNTk3Zjg4NTBmNjQ5ZjRhMDg3OWYyNGUxOTZmYTcwLnNldEljb24oaWNvbl8xMTRlZmUxMjQ4YmM0MmNjOWY1ZGM4ZjdjYmQxNTE3Nik7CiAgICAgICAgCiAgICAKICAgICAgICAgICAgdmFyIG1hcmtlcl84NTE1ZTIyMTllMTQ0MDQzOGM1NTA0NjJjODQ1YWY5NiA9IEwubWFya2VyKAogICAgICAgICAgICAgICAgWzM3Ljc4NTE0NSwgLTEyMi40NDQ2MzddLAogICAgICAgICAgICAgICAge30KICAgICAgICAgICAgKS5hZGRUbyhtYXBfZTY0MDY0ZDUzOTUwNGY5ODlmMDIzNTlkNGU3YWVkYTcpOwogICAgICAgIAogICAgCiAgICAgICAgICAgIHZhciBpY29uXzg5NTZlYmI5ZjE2ODRiMmU5MWQ2ODA0YzE0MTM0OTkwID0gTC5Bd2Vzb21lTWFya2Vycy5pY29uKAogICAgICAgICAgICAgICAgeyJleHRyYUNsYXNzZXMiOiAiZmEtcm90YXRlLTAiLCAiaWNvbiI6ICJncm91cCIsICJpY29uQ29sb3IiOiAid2hpdGUiLCAibWFya2VyQ29sb3IiOiAiYmxhY2siLCAicHJlZml4IjogImZhIn0KICAgICAgICAgICAgKTsKICAgICAgICAgICAgbWFya2VyXzg1MTVlMjIxOWUxNDQwNDM4YzU1MDQ2MmM4NDVhZjk2LnNldEljb24oaWNvbl84OTU2ZWJiOWYxNjg0YjJlOTFkNjgwNGMxNDEzNDk5MCk7CiAgICAgICAgCiAgICAKICAgICAgICAgICAgdmFyIG1hcmtlcl9kYWYwZTFlZTY3YjI0NTMwYTgzYWNiN2RkMjQ2OGE4ZiA9IEwubWFya2VyKAogICAgICAgICAgICAgICAgWzM3Ljc3NDgxMTc0NTgsIC0xMjIuNDI5NzY3MzE2Ml0sCiAgICAgICAgICAgICAgICB7fQogICAgICAgICAgICApLmFkZFRvKG1hcF9lNjQwNjRkNTM5NTA0Zjk4OWYwMjM1OWQ0ZTdhZWRhNyk7CiAgICAgICAgCiAgICAKICAgICAgICAgICAgdmFyIGljb25fZmQ3MzIxNWY1MmVlNGQwMzkxN2M1Y2M3MjI4ZDM4YjUgPSBMLkF3ZXNvbWVNYXJrZXJzLmljb24oCiAgICAgICAgICAgICAgICB7ImV4dHJhQ2xhc3NlcyI6ICJmYS1yb3RhdGUtMCIsICJpY29uIjogImdyb3VwIiwgImljb25Db2xvciI6ICJ3aGl0ZSIsICJtYXJrZXJDb2xvciI6ICJibGFjayIsICJwcmVmaXgiOiAiZmEifQogICAgICAgICAgICApOwogICAgICAgICAgICBtYXJrZXJfZGFmMGUxZWU2N2IyNDUzMGE4M2FjYjdkZDI0NjhhOGYuc2V0SWNvbihpY29uX2ZkNzMyMTVmNTJlZTRkMDM5MTdjNWNjNzIyOGQzOGI1KTsKICAgICAgICAKICAgIAogICAgICAgICAgICB2YXIgbWFya2VyX2I5MWVlMTIyNzlmYzQ4NTQ5ZTQ4ZTIxYTE4OGVjY2JkID0gTC5tYXJrZXIoCiAgICAgICAgICAgICAgICBbMzcuNzc0ODQ1LCAtMTIyLjQzMDE0M10sCiAgICAgICAgICAgICAgICB7fQogICAgICAgICAgICApLmFkZFRvKG1hcF9lNjQwNjRkNTM5NTA0Zjk4OWYwMjM1OWQ0ZTdhZWRhNyk7CiAgICAgICAgCiAgICAKICAgICAgICAgICAgdmFyIGljb25fZjFkNGIyZThiYjQ5NDgyY2JlM2I1ZmQ3YmMxZTljYzMgPSBMLkF3ZXNvbWVNYXJrZXJzLmljb24oCiAgICAgICAgICAgICAgICB7ImV4dHJhQ2xhc3NlcyI6ICJmYS1yb3RhdGUtMCIsICJpY29uIjogImdyb3VwIiwgImljb25Db2xvciI6ICJ3aGl0ZSIsICJtYXJrZXJDb2xvciI6ICJibGFjayIsICJwcmVmaXgiOiAiZmEifQogICAgICAgICAgICApOwogICAgICAgICAgICBtYXJrZXJfYjkxZWUxMjI3OWZjNDg1NDllNDhlMjFhMTg4ZWNjYmQuc2V0SWNvbihpY29uX2YxZDRiMmU4YmI0OTQ4MmNiZTNiNWZkN2JjMWU5Y2MzKTsKICAgICAgICAKICAgIAogICAgICAgICAgICB2YXIgbWFya2VyXzk4MTNlYjBhZWQ0MDRhZDQ4YThiOWUwMTRhMjJhNWYyID0gTC5tYXJrZXIoCiAgICAgICAgICAgICAgICBbMzcuNzg3MzAwMTA5OSwgLTEyMi40NDcxNTExODQxXSwKICAgICAgICAgICAgICAgIHt9CiAgICAgICAgICAgICkuYWRkVG8obWFwX2U2NDA2NGQ1Mzk1MDRmOTg5ZjAyMzU5ZDRlN2FlZGE3KTsKICAgICAgICAKICAgIAogICAgICAgICAgICB2YXIgaWNvbl8wZWQyNWI0YTMzYTE0OWY1ODZiYzBhOTAxMjM0M2ZkYyA9IEwuQXdlc29tZU1hcmtlcnMuaWNvbigKICAgICAgICAgICAgICAgIHsiZXh0cmFDbGFzc2VzIjogImZhLXJvdGF0ZS0wIiwgImljb24iOiAiZ3JvdXAiLCAiaWNvbkNvbG9yIjogIndoaXRlIiwgIm1hcmtlckNvbG9yIjogImJsYWNrIiwgInByZWZpeCI6ICJmYSJ9CiAgICAgICAgICAgICk7CiAgICAgICAgICAgIG1hcmtlcl85ODEzZWIwYWVkNDA0YWQ0OGE4YjllMDE0YTIyYTVmMi5zZXRJY29uKGljb25fMGVkMjViNGEzM2ExNDlmNTg2YmMwYTkwMTIzNDNmZGMpOwogICAgICAgIAogICAgCiAgICAgICAgICAgIHZhciBtYXJrZXJfOGNiYzUxZGJjMWQxNGExZmI5NmUyNTczMmRkNTMyZDQgPSBMLm1hcmtlcigKICAgICAgICAgICAgICAgIFszNy43OTk0NjIsIC0xMjIuNDQ5NjY3XSwKICAgICAgICAgICAgICAgIHt9CiAgICAgICAgICAgICkuYWRkVG8obWFwX2U2NDA2NGQ1Mzk1MDRmOTg5ZjAyMzU5ZDRlN2FlZGE3KTsKICAgICAgICAKICAgIAogICAgICAgICAgICB2YXIgaWNvbl80MmVlYzMzM2YxM2M0Yjc2ODAwMGE2YzU5MDk0MjhhOCA9IEwuQXdlc29tZU1hcmtlcnMuaWNvbigKICAgICAgICAgICAgICAgIHsiZXh0cmFDbGFzc2VzIjogImZhLXJvdGF0ZS0wIiwgImljb24iOiAiZ3JvdXAiLCAiaWNvbkNvbG9yIjogIndoaXRlIiwgIm1hcmtlckNvbG9yIjogImJsYWNrIiwgInByZWZpeCI6ICJmYSJ9CiAgICAgICAgICAgICk7CiAgICAgICAgICAgIG1hcmtlcl84Y2JjNTFkYmMxZDE0YTFmYjk2ZTI1NzMyZGQ1MzJkNC5zZXRJY29uKGljb25fNDJlZWMzMzNmMTNjNGI3NjgwMDBhNmM1OTA5NDI4YTgpOwogICAgICAgIAogICAgCiAgICAgICAgICAgIHZhciBtYXJrZXJfZTYzYWQ3Y2QwMTk4NGMwMzkwZDJjY2Q3ODYxZGJhMzMgPSBMLm1hcmtlcigKICAgICAgICAgICAgICAgIFszNy43NzY2OCwgLTEyMi40MzcyOTRdLAogICAgICAgICAgICAgICAge30KICAgICAgICAgICAgKS5hZGRUbyhtYXBfZTY0MDY0ZDUzOTUwNGY5ODlmMDIzNTlkNGU3YWVkYTcpOwogICAgICAgIAogICAgCiAgICAgICAgICAgIHZhciBpY29uX2Y0NGE2MmZkODMwNDQyNDdiZjVmYjcyNjBlOGQ4ZGEwID0gTC5Bd2Vzb21lTWFya2Vycy5pY29uKAogICAgICAgICAgICAgICAgeyJleHRyYUNsYXNzZXMiOiAiZmEtcm90YXRlLTAiLCAiaWNvbiI6ICJncm91cCIsICJpY29uQ29sb3IiOiAid2hpdGUiLCAibWFya2VyQ29sb3IiOiAiYmxhY2siLCAicHJlZml4IjogImZhIn0KICAgICAgICAgICAgKTsKICAgICAgICAgICAgbWFya2VyX2U2M2FkN2NkMDE5ODRjMDM5MGQyY2NkNzg2MWRiYTMzLnNldEljb24oaWNvbl9mNDRhNjJmZDgzMDQ0MjQ3YmY1ZmI3MjYwZThkOGRhMCk7CiAgICAgICAgCiAgICAKICAgICAgICAgICAgdmFyIG1hcmtlcl83ZGNjOWQ1ZTkwZDI0MzcxYjYxZTg0OGY4NDNmOTU5OSA9IEwubWFya2VyKAogICAgICAgICAgICAgICAgWzM3Ljc4MzMzMSwgLTEyMi40NDU3NTZdLAogICAgICAgICAgICAgICAge30KICAgICAgICAgICAgKS5hZGRUbyhtYXBfZTY0MDY0ZDUzOTUwNGY5ODlmMDIzNTlkNGU3YWVkYTcpOwogICAgICAgIAogICAgCiAgICAgICAgICAgIHZhciBpY29uXzcyM2U2NmUwZjJiZTRiMTA4MGE1YjMzMzg4MTE2NjVkID0gTC5Bd2Vzb21lTWFya2Vycy5pY29uKAogICAgICAgICAgICAgICAgeyJleHRyYUNsYXNzZXMiOiAiZmEtcm90YXRlLTAiLCAiaWNvbiI6ICJncm91cCIsICJpY29uQ29sb3IiOiAid2hpdGUiLCAibWFya2VyQ29sb3IiOiAiYmxhY2siLCAicHJlZml4IjogImZhIn0KICAgICAgICAgICAgKTsKICAgICAgICAgICAgbWFya2VyXzdkY2M5ZDVlOTBkMjQzNzFiNjFlODQ4Zjg0M2Y5NTk5LnNldEljb24oaWNvbl83MjNlNjZlMGYyYmU0YjEwODBhNWIzMzM4ODExNjY1ZCk7CiAgICAgICAgCiAgICAKICAgICAgICAgICAgdmFyIG1hcmtlcl8xZGFkNmYxNGMyNTg0ZjEwODdhMjgyYjJiMmNlNzNkNiA9IEwubWFya2VyKAogICAgICAgICAgICAgICAgWzM3Ljc3NTI4Njk3MDksIC0xMjIuNDM0NDgxNTcwNl0sCiAgICAgICAgICAgICAgICB7fQogICAgICAgICAgICApLmFkZFRvKG1hcF9lNjQwNjRkNTM5NTA0Zjk4OWYwMjM1OWQ0ZTdhZWRhNyk7CiAgICAgICAgCiAgICAKICAgICAgICAgICAgdmFyIGljb25fYTJiMjFhNzBkMDNlNDQ1YzgzZjA3NzlhYWVmNTI5NDMgPSBMLkF3ZXNvbWVNYXJrZXJzLmljb24oCiAgICAgICAgICAgICAgICB7ImV4dHJhQ2xhc3NlcyI6ICJmYS1yb3RhdGUtMCIsICJpY29uIjogImdyb3VwIiwgImljb25Db2xvciI6ICJ3aGl0ZSIsICJtYXJrZXJDb2xvciI6ICJibGFjayIsICJwcmVmaXgiOiAiZmEifQogICAgICAgICAgICApOwogICAgICAgICAgICBtYXJrZXJfMWRhZDZmMTRjMjU4NGYxMDg3YTI4MmIyYjJjZTczZDYuc2V0SWNvbihpY29uX2EyYjIxYTcwZDAzZTQ0NWM4M2YwNzc5YWFlZjUyOTQzKTsKICAgICAgICAKICAgIAogICAgICAgICAgICB2YXIgbWFya2VyXzYwMmJhMzgzYTBkMzQ1ZDk5MTFiZmZiZTY1MzJiMTMxID0gTC5tYXJrZXIoCiAgICAgICAgICAgICAgICBbMzcuNzk5MzU2LCAtMTIyLjQ1MDYxOV0sCiAgICAgICAgICAgICAgICB7fQogICAgICAgICAgICApLmFkZFRvKG1hcF9lNjQwNjRkNTM5NTA0Zjk4OWYwMjM1OWQ0ZTdhZWRhNyk7CiAgICAgICAgCiAgICAKICAgICAgICAgICAgdmFyIGljb25fNmM2ZmQ5NWUyN2Y4NGFjNDkyYmM4ZDE1YTk2ZjBlMmMgPSBMLkF3ZXNvbWVNYXJrZXJzLmljb24oCiAgICAgICAgICAgICAgICB7ImV4dHJhQ2xhc3NlcyI6ICJmYS1yb3RhdGUtMCIsICJpY29uIjogImdyb3VwIiwgImljb25Db2xvciI6ICJ3aGl0ZSIsICJtYXJrZXJDb2xvciI6ICJibGFjayIsICJwcmVmaXgiOiAiZmEifQogICAgICAgICAgICApOwogICAgICAgICAgICBtYXJrZXJfNjAyYmEzODNhMGQzNDVkOTkxMWJmZmJlNjUzMmIxMzEuc2V0SWNvbihpY29uXzZjNmZkOTVlMjdmODRhYzQ5MmJjOGQxNWE5NmYwZTJjKTsKICAgICAgICAKICAgIAogICAgICAgICAgICB2YXIgbWFya2VyX2UyNWY0N2U2ZjNlMjQxNDc4NjIwNjEwZWVmMzFmZmNjID0gTC5tYXJrZXIoCiAgICAgICAgICAgICAgICBbMzcuNzcyMDcxMjUyNywgLTEyMi40MjQ0NDQwNzk1XSwKICAgICAgICAgICAgICAgIHt9CiAgICAgICAgICAgICkuYWRkVG8obWFwX2U2NDA2NGQ1Mzk1MDRmOTg5ZjAyMzU5ZDRlN2FlZGE3KTsKICAgICAgICAKICAgIAogICAgICAgICAgICB2YXIgaWNvbl9iMWM5MzM1ODIyYWI0YTQ3YjA5MmU3ZGI0ZDEyZjkzZCA9IEwuQXdlc29tZU1hcmtlcnMuaWNvbigKICAgICAgICAgICAgICAgIHsiZXh0cmFDbGFzc2VzIjogImZhLXJvdGF0ZS0wIiwgImljb24iOiAiZ3JvdXAiLCAiaWNvbkNvbG9yIjogIndoaXRlIiwgIm1hcmtlckNvbG9yIjogImJsYWNrIiwgInByZWZpeCI6ICJmYSJ9CiAgICAgICAgICAgICk7CiAgICAgICAgICAgIG1hcmtlcl9lMjVmNDdlNmYzZTI0MTQ3ODYyMDYxMGVlZjMxZmZjYy5zZXRJY29uKGljb25fYjFjOTMzNTgyMmFiNGE0N2IwOTJlN2RiNGQxMmY5M2QpOwogICAgICAgIAogICAgCiAgICAgICAgICAgIHZhciBtYXJrZXJfOWVmN2Q2MDdhNWY1NDdiNjhiZjJmYThhZjAzYmY5ZWIgPSBMLm1hcmtlcigKICAgICAgICAgICAgICAgIFszNy43NzM2NzEsIC0xMjIuNDM1MDU5XSwKICAgICAgICAgICAgICAgIHt9CiAgICAgICAgICAgICkuYWRkVG8obWFwX2U2NDA2NGQ1Mzk1MDRmOTg5ZjAyMzU5ZDRlN2FlZGE3KTsKICAgICAgICAKICAgIAogICAgICAgICAgICB2YXIgaWNvbl9iYzE2N2QxMjgzNTU0OWEwYjMyZjI2NmU4ZTk5Y2RhYyA9IEwuQXdlc29tZU1hcmtlcnMuaWNvbigKICAgICAgICAgICAgICAgIHsiZXh0cmFDbGFzc2VzIjogImZhLXJvdGF0ZS0wIiwgImljb24iOiAiZ3JvdXAiLCAiaWNvbkNvbG9yIjogIndoaXRlIiwgIm1hcmtlckNvbG9yIjogImJsYWNrIiwgInByZWZpeCI6ICJmYSJ9CiAgICAgICAgICAgICk7CiAgICAgICAgICAgIG1hcmtlcl85ZWY3ZDYwN2E1ZjU0N2I2OGJmMmZhOGFmMDNiZjllYi5zZXRJY29uKGljb25fYmMxNjdkMTI4MzU1NDlhMGIzMmYyNjZlOGU5OWNkYWMpOwogICAgICAgIAogICAgCiAgICAgICAgICAgIHZhciBtYXJrZXJfZmQxNjk5MjIxMTY4NDhmNGI4NmJiMjMwOTY5NDM3ZmQgPSBMLm1hcmtlcigKICAgICAgICAgICAgICAgIFszNy43ODAxNjY5MDIyLCAtMTIyLjQ0NjAyNDM3ODFdLAogICAgICAgICAgICAgICAge30KICAgICAgICAgICAgKS5hZGRUbyhtYXBfZTY0MDY0ZDUzOTUwNGY5ODlmMDIzNTlkNGU3YWVkYTcpOwogICAgICAgIAogICAgCiAgICAgICAgICAgIHZhciBpY29uXzcwNWIyYWY0N2QzZTQ2NzZiNjIwZGI4Y2Q1NjlmZGViID0gTC5Bd2Vzb21lTWFya2Vycy5pY29uKAogICAgICAgICAgICAgICAgeyJleHRyYUNsYXNzZXMiOiAiZmEtcm90YXRlLTAiLCAiaWNvbiI6ICJncm91cCIsICJpY29uQ29sb3IiOiAid2hpdGUiLCAibWFya2VyQ29sb3IiOiAiYmxhY2siLCAicHJlZml4IjogImZhIn0KICAgICAgICAgICAgKTsKICAgICAgICAgICAgbWFya2VyX2ZkMTY5OTIyMTE2ODQ4ZjRiODZiYjIzMDk2OTQzN2ZkLnNldEljb24oaWNvbl83MDViMmFmNDdkM2U0Njc2YjYyMGRiOGNkNTY5ZmRlYik7CiAgICAgICAgCiAgICAKICAgICAgICAgICAgdmFyIG1hcmtlcl9kZDRiYzI2Nzc0YTU0YWY5OWZlMmNmY2EyNmQ2OGM1NCA9IEwubWFya2VyKAogICAgICAgICAgICAgICAgWzM3Ljc3MzQ2NywgLTEyMi40Mzg2MThdLAogICAgICAgICAgICAgICAge30KICAgICAgICAgICAgKS5hZGRUbyhtYXBfZTY0MDY0ZDUzOTUwNGY5ODlmMDIzNTlkNGU3YWVkYTcpOwogICAgICAgIAogICAgCiAgICAgICAgICAgIHZhciBpY29uXzljN2Q5OThhNjViNzRjN2NiOGExN2M2YTFhNzRjZWEyID0gTC5Bd2Vzb21lTWFya2Vycy5pY29uKAogICAgICAgICAgICAgICAgeyJleHRyYUNsYXNzZXMiOiAiZmEtcm90YXRlLTAiLCAiaWNvbiI6ICJncm91cCIsICJpY29uQ29sb3IiOiAid2hpdGUiLCAibWFya2VyQ29sb3IiOiAiYmxhY2siLCAicHJlZml4IjogImZhIn0KICAgICAgICAgICAgKTsKICAgICAgICAgICAgbWFya2VyX2RkNGJjMjY3NzRhNTRhZjk5ZmUyY2ZjYTI2ZDY4YzU0LnNldEljb24oaWNvbl85YzdkOTk4YTY1Yjc0YzdjYjhhMTdjNmExYTc0Y2VhMik7CiAgICAgICAgCiAgICAKICAgICAgICAgICAgdmFyIG1hcmtlcl8xOGQ2ZWFhMzBkYzk0MmExYWUxOWNjMzUxMjgyNzM3OCA9IEwubWFya2VyKAogICAgICAgICAgICAgICAgWzM3Ljc3NjM1NSwgLTEyMi40NDM2OTldLAogICAgICAgICAgICAgICAge30KICAgICAgICAgICAgKS5hZGRUbyhtYXBfZTY0MDY0ZDUzOTUwNGY5ODlmMDIzNTlkNGU3YWVkYTcpOwogICAgICAgIAogICAgCiAgICAgICAgICAgIHZhciBpY29uXzc4MTEwMmNlOTBhMTQ0MGNiZThhODRjYTViZDI3M2RlID0gTC5Bd2Vzb21lTWFya2Vycy5pY29uKAogICAgICAgICAgICAgICAgeyJleHRyYUNsYXNzZXMiOiAiZmEtcm90YXRlLTAiLCAiaWNvbiI6ICJncm91cCIsICJpY29uQ29sb3IiOiAid2hpdGUiLCAibWFya2VyQ29sb3IiOiAiYmxhY2siLCAicHJlZml4IjogImZhIn0KICAgICAgICAgICAgKTsKICAgICAgICAgICAgbWFya2VyXzE4ZDZlYWEzMGRjOTQyYTFhZTE5Y2MzNTEyODI3Mzc4LnNldEljb24oaWNvbl83ODExMDJjZTkwYTE0NDBjYmU4YTg0Y2E1YmQyNzNkZSk7CiAgICAgICAgCiAgICAKICAgICAgICAgICAgdmFyIG1hcmtlcl82YWZiYjdlZDJjZTc0N2NhOWJlNjFkNzc1Mjg3Y2FmZCA9IEwubWFya2VyKAogICAgICAgICAgICAgICAgWzM3Ljc3Nzg5NjM1OTIsIC0xMjIuNDQ2MTYxMjI1M10sCiAgICAgICAgICAgICAgICB7fQogICAgICAgICAgICApLmFkZFRvKG1hcF9lNjQwNjRkNTM5NTA0Zjk4OWYwMjM1OWQ0ZTdhZWRhNyk7CiAgICAgICAgCiAgICAKICAgICAgICAgICAgdmFyIGljb25fNTVhNmQyMGQ4YTFlNGE5Yjk3ODQwNDQ2MWE2MTljNDIgPSBMLkF3ZXNvbWVNYXJrZXJzLmljb24oCiAgICAgICAgICAgICAgICB7ImV4dHJhQ2xhc3NlcyI6ICJmYS1yb3RhdGUtMCIsICJpY29uIjogImdyb3VwIiwgImljb25Db2xvciI6ICJ3aGl0ZSIsICJtYXJrZXJDb2xvciI6ICJibGFjayIsICJwcmVmaXgiOiAiZmEifQogICAgICAgICAgICApOwogICAgICAgICAgICBtYXJrZXJfNmFmYmI3ZWQyY2U3NDdjYTliZTYxZDc3NTI4N2NhZmQuc2V0SWNvbihpY29uXzU1YTZkMjBkOGExZTRhOWI5Nzg0MDQ0NjFhNjE5YzQyKTsKICAgICAgICAKICAgIAogICAgICAgICAgICB2YXIgbWFya2VyXzI4ZmM0YTJjNTA5MzQ4MWViNGVjOTE2MjJlZGIxZjkwID0gTC5tYXJrZXIoCiAgICAgICAgICAgICAgICBbMzcuNzk5MDQ5Mzc3NCwgLTEyMi40NTU1MzU4ODg3XSwKICAgICAgICAgICAgICAgIHt9CiAgICAgICAgICAgICkuYWRkVG8obWFwX2U2NDA2NGQ1Mzk1MDRmOTg5ZjAyMzU5ZDRlN2FlZGE3KTsKICAgICAgICAKICAgIAogICAgICAgICAgICB2YXIgaWNvbl8xMzk4MzBiMDVmMGE0OWRlYTk1NGEwMWY5YjMwNzJmMSA9IEwuQXdlc29tZU1hcmtlcnMuaWNvbigKICAgICAgICAgICAgICAgIHsiZXh0cmFDbGFzc2VzIjogImZhLXJvdGF0ZS0wIiwgImljb24iOiAiZ3JvdXAiLCAiaWNvbkNvbG9yIjogIndoaXRlIiwgIm1hcmtlckNvbG9yIjogImJsYWNrIiwgInByZWZpeCI6ICJmYSJ9CiAgICAgICAgICAgICk7CiAgICAgICAgICAgIG1hcmtlcl8yOGZjNGEyYzUwOTM0ODFlYjRlYzkxNjIyZWRiMWY5MC5zZXRJY29uKGljb25fMTM5ODMwYjA1ZjBhNDlkZWE5NTRhMDFmOWIzMDcyZjEpOwogICAgICAgIAogICAgCiAgICAgICAgICAgIHZhciBtYXJrZXJfYTZiZTFmMTk5YTJkNDIxZGJjMGJlN2ZlMTUzYWI3NDUgPSBMLm1hcmtlcigKICAgICAgICAgICAgICAgIFszNy43ODM4ODQyNTMzLCAtMTIyLjQ1MjcwNjY5NDZdLAogICAgICAgICAgICAgICAge30KICAgICAgICAgICAgKS5hZGRUbyhtYXBfZTY0MDY0ZDUzOTUwNGY5ODlmMDIzNTlkNGU3YWVkYTcpOwogICAgICAgIAogICAgCiAgICAgICAgICAgIHZhciBpY29uX2U2MTY4ZTg1YTc0ZTQxNzZhM2Q5MGFjNDQ5MmJiNmUzID0gTC5Bd2Vzb21lTWFya2Vycy5pY29uKAogICAgICAgICAgICAgICAgeyJleHRyYUNsYXNzZXMiOiAiZmEtcm90YXRlLTAiLCAiaWNvbiI6ICJncm91cCIsICJpY29uQ29sb3IiOiAid2hpdGUiLCAibWFya2VyQ29sb3IiOiAiYmxhY2siLCAicHJlZml4IjogImZhIn0KICAgICAgICAgICAgKTsKICAgICAgICAgICAgbWFya2VyX2E2YmUxZjE5OWEyZDQyMWRiYzBiZTdmZTE1M2FiNzQ1LnNldEljb24oaWNvbl9lNjE2OGU4NWE3NGU0MTc2YTNkOTBhYzQ0OTJiYjZlMyk7CiAgICAgICAgCiAgICAKICAgICAgICAgICAgdmFyIG1hcmtlcl9mNTZlYjBmNzVhYTM0MDBkYTgyOGE5ZTEzYmIzNzVlMyA9IEwubWFya2VyKAogICAgICAgICAgICAgICAgWzM3LjgwMDgzNTI2MDYsIC0xMjIuNDU1ODY5MzQ0MV0sCiAgICAgICAgICAgICAgICB7fQogICAgICAgICAgICApLmFkZFRvKG1hcF9lNjQwNjRkNTM5NTA0Zjk4OWYwMjM1OWQ0ZTdhZWRhNyk7CiAgICAgICAgCiAgICAKICAgICAgICAgICAgdmFyIGljb25fOTVhNmU0NjdiODY2NGJiNDhhYTAxYzRmYjFhODA3MmIgPSBMLkF3ZXNvbWVNYXJrZXJzLmljb24oCiAgICAgICAgICAgICAgICB7ImV4dHJhQ2xhc3NlcyI6ICJmYS1yb3RhdGUtMCIsICJpY29uIjogImdyb3VwIiwgImljb25Db2xvciI6ICJ3aGl0ZSIsICJtYXJrZXJDb2xvciI6ICJibGFjayIsICJwcmVmaXgiOiAiZmEifQogICAgICAgICAgICApOwogICAgICAgICAgICBtYXJrZXJfZjU2ZWIwZjc1YWEzNDAwZGE4MjhhOWUxM2JiMzc1ZTMuc2V0SWNvbihpY29uXzk1YTZlNDY3Yjg2NjRiYjQ4YWEwMWM0ZmIxYTgwNzJiKTsKICAgICAgICAKICAgIAogICAgICAgICAgICB2YXIgbWFya2VyX2JlMDE1MGI1YzY0YzQ4MjM4OWE0MTIxYzY5NTZjMjE1ID0gTC5tYXJrZXIoCiAgICAgICAgICAgICAgICBbMzcuNzc4NjYwNzc4MiwgLTEyMi40NDg2OTM2MTg4XSwKICAgICAgICAgICAgICAgIHt9CiAgICAgICAgICAgICkuYWRkVG8obWFwX2U2NDA2NGQ1Mzk1MDRmOTg5ZjAyMzU5ZDRlN2FlZGE3KTsKICAgICAgICAKICAgIAogICAgICAgICAgICB2YXIgaWNvbl83Yjk5ODJhYjE5MjI0MzM4OTdmOWEzZGU3OGI0OTRlOSA9IEwuQXdlc29tZU1hcmtlcnMuaWNvbigKICAgICAgICAgICAgICAgIHsiZXh0cmFDbGFzc2VzIjogImZhLXJvdGF0ZS0wIiwgImljb24iOiAiZ3JvdXAiLCAiaWNvbkNvbG9yIjogIndoaXRlIiwgIm1hcmtlckNvbG9yIjogImJsYWNrIiwgInByZWZpeCI6ICJmYSJ9CiAgICAgICAgICAgICk7CiAgICAgICAgICAgIG1hcmtlcl9iZTAxNTBiNWM2NGM0ODIzODlhNDEyMWM2OTU2YzIxNS5zZXRJY29uKGljb25fN2I5OTgyYWIxOTIyNDMzODk3ZjlhM2RlNzhiNDk0ZTkpOwogICAgICAgIAogICAgCiAgICAgICAgICAgIHZhciBtYXJrZXJfZjUxZWFhZGE4MTYyNDM1Njg3NzJjNjhlMDVhMDNmOGUgPSBMLm1hcmtlcigKICAgICAgICAgICAgICAgIFszNy44MDA3MjEsIC0xMjIuNDU2MzkzXSwKICAgICAgICAgICAgICAgIHt9CiAgICAgICAgICAgICkuYWRkVG8obWFwX2U2NDA2NGQ1Mzk1MDRmOTg5ZjAyMzU5ZDRlN2FlZGE3KTsKICAgICAgICAKICAgIAogICAgICAgICAgICB2YXIgaWNvbl9kNzFkNGE2ZGE5NTk0NGMzOTYyYjlkNmUwNmIzNTVkYiA9IEwuQXdlc29tZU1hcmtlcnMuaWNvbigKICAgICAgICAgICAgICAgIHsiZXh0cmFDbGFzc2VzIjogImZhLXJvdGF0ZS0wIiwgImljb24iOiAiZ3JvdXAiLCAiaWNvbkNvbG9yIjogIndoaXRlIiwgIm1hcmtlckNvbG9yIjogImJsYWNrIiwgInByZWZpeCI6ICJmYSJ9CiAgICAgICAgICAgICk7CiAgICAgICAgICAgIG1hcmtlcl9mNTFlYWFkYTgxNjI0MzU2ODc3MmM2OGUwNWEwM2Y4ZS5zZXRJY29uKGljb25fZDcxZDRhNmRhOTU5NDRjMzk2MmI5ZDZlMDZiMzU1ZGIpOwogICAgICAgIAogICAgCiAgICAgICAgICAgIHZhciBtYXJrZXJfNTE4OWFlZDI3ZDlkNDBiY2I2MDkxNTk4YTQyZWI4ZmQgPSBMLm1hcmtlcigKICAgICAgICAgICAgICAgIFszNy43ODg2NTIsIC0xMjIuNDU2MDEyXSwKICAgICAgICAgICAgICAgIHt9CiAgICAgICAgICAgICkuYWRkVG8obWFwX2U2NDA2NGQ1Mzk1MDRmOTg5ZjAyMzU5ZDRlN2FlZGE3KTsKICAgICAgICAKICAgIAogICAgICAgICAgICB2YXIgaWNvbl80MjZhMjdlOTQzODA0YTVhOTcyZmM4YzhiMjFjOGQ5OCA9IEwuQXdlc29tZU1hcmtlcnMuaWNvbigKICAgICAgICAgICAgICAgIHsiZXh0cmFDbGFzc2VzIjogImZhLXJvdGF0ZS0wIiwgImljb24iOiAiZ3JvdXAiLCAiaWNvbkNvbG9yIjogIndoaXRlIiwgIm1hcmtlckNvbG9yIjogImJsYWNrIiwgInByZWZpeCI6ICJmYSJ9CiAgICAgICAgICAgICk7CiAgICAgICAgICAgIG1hcmtlcl81MTg5YWVkMjdkOWQ0MGJjYjYwOTE1OThhNDJlYjhmZC5zZXRJY29uKGljb25fNDI2YTI3ZTk0MzgwNGE1YTk3MmZjOGM4YjIxYzhkOTgpOwogICAgICAgIAogICAgCiAgICAgICAgICAgIHZhciBtYXJrZXJfYTQ4MDkwZTVhZDdjNGE4NzhiYTVhYjg0NWJkYTQwYWMgPSBMLm1hcmtlcigKICAgICAgICAgICAgICAgIFszNy43ODE1MTg5LCAtMTIyLjQ1Mjg4MDg1XSwKICAgICAgICAgICAgICAgIHt9CiAgICAgICAgICAgICkuYWRkVG8obWFwX2U2NDA2NGQ1Mzk1MDRmOTg5ZjAyMzU5ZDRlN2FlZGE3KTsKICAgICAgICAKICAgIAogICAgICAgICAgICB2YXIgaWNvbl8wMTJhZTE4OTcyYjE0NDMyOTAxNTEyMzViMGZiOTYzYyA9IEwuQXdlc29tZU1hcmtlcnMuaWNvbigKICAgICAgICAgICAgICAgIHsiZXh0cmFDbGFzc2VzIjogImZhLXJvdGF0ZS0wIiwgImljb24iOiAiZ3JvdXAiLCAiaWNvbkNvbG9yIjogIndoaXRlIiwgIm1hcmtlckNvbG9yIjogImJsYWNrIiwgInByZWZpeCI6ICJmYSJ9CiAgICAgICAgICAgICk7CiAgICAgICAgICAgIG1hcmtlcl9hNDgwOTBlNWFkN2M0YTg3OGJhNWFiODQ1YmRhNDBhYy5zZXRJY29uKGljb25fMDEyYWUxODk3MmIxNDQzMjkwMTUxMjM1YjBmYjk2M2MpOwogICAgICAgIAogICAgCiAgICAgICAgICAgIHZhciBtYXJrZXJfMWY4ZmU0ODA5MjE1NDJiM2I1YTc0YWIyOGFmZDRkYjEgPSBMLm1hcmtlcigKICAgICAgICAgICAgICAgIFszNy43ODI3ODkwNTA1LCAtMTIyLjQ1NDMwNzUzOTldLAogICAgICAgICAgICAgICAge30KICAgICAgICAgICAgKS5hZGRUbyhtYXBfZTY0MDY0ZDUzOTUwNGY5ODlmMDIzNTlkNGU3YWVkYTcpOwogICAgICAgIAogICAgCiAgICAgICAgICAgIHZhciBpY29uX2Y3ZDA3ZGMyN2FhMDRhYmFhMmYwM2M0YjgzZjQ0NTllID0gTC5Bd2Vzb21lTWFya2Vycy5pY29uKAogICAgICAgICAgICAgICAgeyJleHRyYUNsYXNzZXMiOiAiZmEtcm90YXRlLTAiLCAiaWNvbiI6ICJncm91cCIsICJpY29uQ29sb3IiOiAid2hpdGUiLCAibWFya2VyQ29sb3IiOiAiYmxhY2siLCAicHJlZml4IjogImZhIn0KICAgICAgICAgICAgKTsKICAgICAgICAgICAgbWFya2VyXzFmOGZlNDgwOTIxNTQyYjNiNWE3NGFiMjhhZmQ0ZGIxLnNldEljb24oaWNvbl9mN2QwN2RjMjdhYTA0YWJhYTJmMDNjNGI4M2Y0NDU5ZSk7CiAgICAgICAgCiAgICAKICAgICAgICAgICAgdmFyIG1hcmtlcl9mNmJiZmQxOGQ5MmY0NDE4YmU1NTdkN2I5Y2NmM2NlNyA9IEwubWFya2VyKAogICAgICAgICAgICAgICAgWzM3Ljc4NzI0NTU4NTQsIC0xMjIuNDU4MTEwNDc2OF0sCiAgICAgICAgICAgICAgICB7fQogICAgICAgICAgICApLmFkZFRvKG1hcF9lNjQwNjRkNTM5NTA0Zjk4OWYwMjM1OWQ0ZTdhZWRhNyk7CiAgICAgICAgCiAgICAKICAgICAgICAgICAgdmFyIGljb25fZGVmZTIyZDcwY2Q4NDQyMjhhMzJmZmQwMWFjOWZiNDIgPSBMLkF3ZXNvbWVNYXJrZXJzLmljb24oCiAgICAgICAgICAgICAgICB7ImV4dHJhQ2xhc3NlcyI6ICJmYS1yb3RhdGUtMCIsICJpY29uIjogImdyb3VwIiwgImljb25Db2xvciI6ICJ3aGl0ZSIsICJtYXJrZXJDb2xvciI6ICJibGFjayIsICJwcmVmaXgiOiAiZmEifQogICAgICAgICAgICApOwogICAgICAgICAgICBtYXJrZXJfZjZiYmZkMThkOTJmNDQxOGJlNTU3ZDdiOWNjZjNjZTcuc2V0SWNvbihpY29uX2RlZmUyMmQ3MGNkODQ0MjI4YTMyZmZkMDFhYzlmYjQyKTsKICAgICAgICAKICAgIAogICAgICAgICAgICB2YXIgbWFya2VyXzRjNGViZjg0Y2Q1MDQwMzM4ZTQ5OTUwNTlkMzliYTA5ID0gTC5tYXJrZXIoCiAgICAgICAgICAgICAgICBbMzcuNzc1ODM3LCAtMTIyLjQ1MDI4NF0sCiAgICAgICAgICAgICAgICB7fQogICAgICAgICAgICApLmFkZFRvKG1hcF9lNjQwNjRkNTM5NTA0Zjk4OWYwMjM1OWQ0ZTdhZWRhNyk7CiAgICAgICAgCiAgICAKICAgICAgICAgICAgdmFyIGljb25fYmVlYTUzMWViODUwNDAzYThiZWFmMWY3MDEwMmNiYjEgPSBMLkF3ZXNvbWVNYXJrZXJzLmljb24oCiAgICAgICAgICAgICAgICB7ImV4dHJhQ2xhc3NlcyI6ICJmYS1yb3RhdGUtMCIsICJpY29uIjogImdyb3VwIiwgImljb25Db2xvciI6ICJ3aGl0ZSIsICJtYXJrZXJDb2xvciI6ICJibGFjayIsICJwcmVmaXgiOiAiZmEifQogICAgICAgICAgICApOwogICAgICAgICAgICBtYXJrZXJfNGM0ZWJmODRjZDUwNDAzMzhlNDk5NTA1OWQzOWJhMDkuc2V0SWNvbihpY29uX2JlZWE1MzFlYjg1MDQwM2E4YmVhZjFmNzAxMDJjYmIxKTsKICAgICAgICAKICAgIAogICAgICAgICAgICB2YXIgbWFya2VyX2NmMTRkOTRlZTRmNDRjZDg5MDVhOTNiYzJhNDE2MzIwID0gTC5tYXJrZXIoCiAgICAgICAgICAgICAgICBbMzcuNzc2MTA2NjUwNiwgLTEyMi40NTA2MzAwODcxXSwKICAgICAgICAgICAgICAgIHt9CiAgICAgICAgICAgICkuYWRkVG8obWFwX2U2NDA2NGQ1Mzk1MDRmOTg5ZjAyMzU5ZDRlN2FlZGE3KTsKICAgICAgICAKICAgIAogICAgICAgICAgICB2YXIgaWNvbl81YjQ1ODI1OTc1OWE0OGU3ODdlNmZhNjc0ODA0NmM2MiA9IEwuQXdlc29tZU1hcmtlcnMuaWNvbigKICAgICAgICAgICAgICAgIHsiZXh0cmFDbGFzc2VzIjogImZhLXJvdGF0ZS0wIiwgImljb24iOiAiZ3JvdXAiLCAiaWNvbkNvbG9yIjogIndoaXRlIiwgIm1hcmtlckNvbG9yIjogImJsYWNrIiwgInByZWZpeCI6ICJmYSJ9CiAgICAgICAgICAgICk7CiAgICAgICAgICAgIG1hcmtlcl9jZjE0ZDk0ZWU0ZjQ0Y2Q4OTA1YTkzYmMyYTQxNjMyMC5zZXRJY29uKGljb25fNWI0NTgyNTk3NTlhNDhlNzg3ZTZmYTY3NDgwNDZjNjIpOwogICAgICAgIAogICAgCiAgICAgICAgICAgIHZhciBtYXJrZXJfZjJhMGVhYTJiZDAwNDMzNWJlYzUyYTA4NjIwYjhlMjggPSBMLm1hcmtlcigKICAgICAgICAgICAgICAgIFszNy43NjcxODU5NTk4LCAtMTIyLjQzNjExNjQ0NjRdLAogICAgICAgICAgICAgICAge30KICAgICAgICAgICAgKS5hZGRUbyhtYXBfZTY0MDY0ZDUzOTUwNGY5ODlmMDIzNTlkNGU3YWVkYTcpOwogICAgICAgIAogICAgCiAgICAgICAgICAgIHZhciBpY29uXzUxNTAwNjM4M2Y4NTRkZDNhZTRlZmVmYmY3NTFiYjljID0gTC5Bd2Vzb21lTWFya2Vycy5pY29uKAogICAgICAgICAgICAgICAgeyJleHRyYUNsYXNzZXMiOiAiZmEtcm90YXRlLTAiLCAiaWNvbiI6ICJncm91cCIsICJpY29uQ29sb3IiOiAid2hpdGUiLCAibWFya2VyQ29sb3IiOiAiYmxhY2siLCAicHJlZml4IjogImZhIn0KICAgICAgICAgICAgKTsKICAgICAgICAgICAgbWFya2VyX2YyYTBlYWEyYmQwMDQzMzViZWM1MmEwODYyMGI4ZTI4LnNldEljb24oaWNvbl81MTUwMDYzODNmODU0ZGQzYWU0ZWZlZmJmNzUxYmI5Yyk7CiAgICAgICAgCiAgICAKICAgICAgICAgICAgdmFyIG1hcmtlcl80ZDQ1YmVlMjU2MGI0MTVmYTM0YWZlNjQ1ZjYyZWU5MSA9IEwubWFya2VyKAogICAgICAgICAgICAgICAgWzM3Ljc5Nzk1ODU0OSwgLTEyMi40NjA3NTMzMDY0XSwKICAgICAgICAgICAgICAgIHt9CiAgICAgICAgICAgICkuYWRkVG8obWFwX2U2NDA2NGQ1Mzk1MDRmOTg5ZjAyMzU5ZDRlN2FlZGE3KTsKICAgICAgICAKICAgIAogICAgICAgICAgICB2YXIgaWNvbl9hM2UzNDgzYTk1YTg0NmVjOGVhNTM0M2ExNDk0YmMwYyA9IEwuQXdlc29tZU1hcmtlcnMuaWNvbigKICAgICAgICAgICAgICAgIHsiZXh0cmFDbGFzc2VzIjogImZhLXJvdGF0ZS0wIiwgImljb24iOiAiZ3JvdXAiLCAiaWNvbkNvbG9yIjogIndoaXRlIiwgIm1hcmtlckNvbG9yIjogImJsYWNrIiwgInByZWZpeCI6ICJmYSJ9CiAgICAgICAgICAgICk7CiAgICAgICAgICAgIG1hcmtlcl80ZDQ1YmVlMjU2MGI0MTVmYTM0YWZlNjQ1ZjYyZWU5MS5zZXRJY29uKGljb25fYTNlMzQ4M2E5NWE4NDZlYzhlYTUzNDNhMTQ5NGJjMGMpOwogICAgICAgIAogICAgCiAgICAgICAgICAgIHZhciBtYXJrZXJfMWFiNGJiMDM2MThjNDQ1NmFmNjE4NTY4YzA0MDhiMTEgPSBMLm1hcmtlcigKICAgICAgICAgICAgICAgIFszNy43NzQyMTEyNzEsIC0xMjIuNDUwMzUzNjM5N10sCiAgICAgICAgICAgICAgICB7fQogICAgICAgICAgICApLmFkZFRvKG1hcF9lNjQwNjRkNTM5NTA0Zjk4OWYwMjM1OWQ0ZTdhZWRhNyk7CiAgICAgICAgCiAgICAKICAgICAgICAgICAgdmFyIGljb25fNTVjMWZjMGZmNGExNGE1NTgyMDJiZTEwYTAyYmE3MTggPSBMLkF3ZXNvbWVNYXJrZXJzLmljb24oCiAgICAgICAgICAgICAgICB7ImV4dHJhQ2xhc3NlcyI6ICJmYS1yb3RhdGUtMCIsICJpY29uIjogImdyb3VwIiwgImljb25Db2xvciI6ICJ3aGl0ZSIsICJtYXJrZXJDb2xvciI6ICJibGFjayIsICJwcmVmaXgiOiAiZmEifQogICAgICAgICAgICApOwogICAgICAgICAgICBtYXJrZXJfMWFiNGJiMDM2MThjNDQ1NmFmNjE4NTY4YzA0MDhiMTEuc2V0SWNvbihpY29uXzU1YzFmYzBmZjRhMTRhNTU4MjAyYmUxMGEwMmJhNzE4KTsKICAgICAgICAKICAgIAogICAgICAgICAgICB2YXIgbWFya2VyXzJiMjY0NGY4YmJiYTRlZDM5NDhjOTkzMzZjMTYwMjIyID0gTC5tYXJrZXIoCiAgICAgICAgICAgICAgICBbMzcuNzcwOTM1MjMyLCAtMTIyLjQ0NjA2ODkyNDZdLAogICAgICAgICAgICAgICAge30KICAgICAgICAgICAgKS5hZGRUbyhtYXBfZTY0MDY0ZDUzOTUwNGY5ODlmMDIzNTlkNGU3YWVkYTcpOwogICAgICAgIAogICAgCiAgICAgICAgICAgIHZhciBpY29uXzBlNmQ1NmI4MGMwNTQyNmM5ZGZmYTM2OTA2ZWMxMzJhID0gTC5Bd2Vzb21lTWFya2Vycy5pY29uKAogICAgICAgICAgICAgICAgeyJleHRyYUNsYXNzZXMiOiAiZmEtcm90YXRlLTAiLCAiaWNvbiI6ICJncm91cCIsICJpY29uQ29sb3IiOiAid2hpdGUiLCAibWFya2VyQ29sb3IiOiAiYmxhY2siLCAicHJlZml4IjogImZhIn0KICAgICAgICAgICAgKTsKICAgICAgICAgICAgbWFya2VyXzJiMjY0NGY4YmJiYTRlZDM5NDhjOTkzMzZjMTYwMjIyLnNldEljb24oaWNvbl8wZTZkNTZiODBjMDU0MjZjOWRmZmEzNjkwNmVjMTMyYSk7CiAgICAgICAgCiAgICAKICAgICAgICAgICAgdmFyIG1hcmtlcl9kZmYyOWJhMzExMjI0ZmZmOTY2M2I5YzRmZTQ3ZjdhZiA9IEwubWFya2VyKAogICAgICAgICAgICAgICAgWzM3Ljc3MDkwMTcwOSwgLTEyMi40NDYzNzYxMzExXSwKICAgICAgICAgICAgICAgIHt9CiAgICAgICAgICAgICkuYWRkVG8obWFwX2U2NDA2NGQ1Mzk1MDRmOTg5ZjAyMzU5ZDRlN2FlZGE3KTsKICAgICAgICAKICAgIAogICAgICAgICAgICB2YXIgaWNvbl82Mzg2MDBjYzRmYmI0OTFmYmFmMzcwYzAyZDdmZDQwZiA9IEwuQXdlc29tZU1hcmtlcnMuaWNvbigKICAgICAgICAgICAgICAgIHsiZXh0cmFDbGFzc2VzIjogImZhLXJvdGF0ZS0wIiwgImljb24iOiAiZ3JvdXAiLCAiaWNvbkNvbG9yIjogIndoaXRlIiwgIm1hcmtlckNvbG9yIjogImJsYWNrIiwgInByZWZpeCI6ICJmYSJ9CiAgICAgICAgICAgICk7CiAgICAgICAgICAgIG1hcmtlcl9kZmYyOWJhMzExMjI0ZmZmOTY2M2I5YzRmZTQ3ZjdhZi5zZXRJY29uKGljb25fNjM4NjAwY2M0ZmJiNDkxZmJhZjM3MGMwMmQ3ZmQ0MGYpOwogICAgICAgIAogICAgCiAgICAgICAgICAgIHZhciBtYXJrZXJfYzE3YTUzMjQ1NmI3NDYzYTgxZTFjMjAwOTViOGUxZmEgPSBMLm1hcmtlcigKICAgICAgICAgICAgICAgIFszNy43ODI0MTE4ODAxLCAtMTIyLjQ1NzkyNzk4NzNdLAogICAgICAgICAgICAgICAge30KICAgICAgICAgICAgKS5hZGRUbyhtYXBfZTY0MDY0ZDUzOTUwNGY5ODlmMDIzNTlkNGU3YWVkYTcpOwogICAgICAgIAogICAgCiAgICAgICAgICAgIHZhciBpY29uXzFjMzM0NzFlMzBmYzQ0MzliNWFiOTAwYzNlODI0OTdhID0gTC5Bd2Vzb21lTWFya2Vycy5pY29uKAogICAgICAgICAgICAgICAgeyJleHRyYUNsYXNzZXMiOiAiZmEtcm90YXRlLTAiLCAiaWNvbiI6ICJncm91cCIsICJpY29uQ29sb3IiOiAid2hpdGUiLCAibWFya2VyQ29sb3IiOiAiYmxhY2siLCAicHJlZml4IjogImZhIn0KICAgICAgICAgICAgKTsKICAgICAgICAgICAgbWFya2VyX2MxN2E1MzI0NTZiNzQ2M2E4MWUxYzIwMDk1YjhlMWZhLnNldEljb24oaWNvbl8xYzMzNDcxZTMwZmM0NDM5YjVhYjkwMGMzZTgyNDk3YSk7CiAgICAgICAgCiAgICAKICAgICAgICAgICAgdmFyIG1hcmtlcl83Njk1ZDI1Zjg3ZjI0NjkyYTIxZmU1ZDcyMDUxYWRiMCA9IEwubWFya2VyKAogICAgICAgICAgICAgICAgWzM3Ljc3NTQxNzUzMTksIC0xMjIuNDUyNDU3NjI3Nl0sCiAgICAgICAgICAgICAgICB7fQogICAgICAgICAgICApLmFkZFRvKG1hcF9lNjQwNjRkNTM5NTA0Zjk4OWYwMjM1OWQ0ZTdhZWRhNyk7CiAgICAgICAgCiAgICAKICAgICAgICAgICAgdmFyIGljb25fZWE2OTA2ZTBjMmIzNDFmNDkyODg2YjhmYWM2OTYwMzYgPSBMLkF3ZXNvbWVNYXJrZXJzLmljb24oCiAgICAgICAgICAgICAgICB7ImV4dHJhQ2xhc3NlcyI6ICJmYS1yb3RhdGUtMCIsICJpY29uIjogImdyb3VwIiwgImljb25Db2xvciI6ICJ3aGl0ZSIsICJtYXJrZXJDb2xvciI6ICJibGFjayIsICJwcmVmaXgiOiAiZmEifQogICAgICAgICAgICApOwogICAgICAgICAgICBtYXJrZXJfNzY5NWQyNWY4N2YyNDY5MmEyMWZlNWQ3MjA1MWFkYjAuc2V0SWNvbihpY29uX2VhNjkwNmUwYzJiMzQxZjQ5Mjg4NmI4ZmFjNjk2MDM2KTsKICAgICAgICAKICAgIAogICAgICAgICAgICB2YXIgbWFya2VyX2VmMWUwYWRmODc2NTQxY2ZiZDg2NTUxZjNlMGQ3NDQwID0gTC5tYXJrZXIoCiAgICAgICAgICAgICAgICBbMzcuNzg0NTkyMjcwOSwgLTEyMi40NTk1MDM0MTIyXSwKICAgICAgICAgICAgICAgIHt9CiAgICAgICAgICAgICkuYWRkVG8obWFwX2U2NDA2NGQ1Mzk1MDRmOTg5ZjAyMzU5ZDRlN2FlZGE3KTsKICAgICAgICAKICAgIAogICAgICAgICAgICB2YXIgaWNvbl81ZjEzZDZlNjQzZmY0MjAxOWMzYWYzMzE0YjM4ZWNiYiA9IEwuQXdlc29tZU1hcmtlcnMuaWNvbigKICAgICAgICAgICAgICAgIHsiZXh0cmFDbGFzc2VzIjogImZhLXJvdGF0ZS0wIiwgImljb24iOiAiZ3JvdXAiLCAiaWNvbkNvbG9yIjogIndoaXRlIiwgIm1hcmtlckNvbG9yIjogImJsYWNrIiwgInByZWZpeCI6ICJmYSJ9CiAgICAgICAgICAgICk7CiAgICAgICAgICAgIG1hcmtlcl9lZjFlMGFkZjg3NjU0MWNmYmQ4NjU1MWYzZTBkNzQ0MC5zZXRJY29uKGljb25fNWYxM2Q2ZTY0M2ZmNDIwMTljM2FmMzMxNGIzOGVjYmIpOwogICAgICAgIAogICAgCiAgICAgICAgICAgIHZhciBtYXJrZXJfNDUyMDUyNzljMjQwNDYxMGI3MzU1ZGFmZTQ3MTcyMWMgPSBMLm1hcmtlcigKICAgICAgICAgICAgICAgIFszNy43NzU0MTczMjc5LCAtMTIyLjQ1MzkwMzE5ODJdLAogICAgICAgICAgICAgICAge30KICAgICAgICAgICAgKS5hZGRUbyhtYXBfZTY0MDY0ZDUzOTUwNGY5ODlmMDIzNTlkNGU3YWVkYTcpOwogICAgICAgIAogICAgCiAgICAgICAgICAgIHZhciBpY29uXzllZGQ2OWVkYzUyYjRhMzhiMzZiODdhODNhNWZlMmVmID0gTC5Bd2Vzb21lTWFya2Vycy5pY29uKAogICAgICAgICAgICAgICAgeyJleHRyYUNsYXNzZXMiOiAiZmEtcm90YXRlLTAiLCAiaWNvbiI6ICJncm91cCIsICJpY29uQ29sb3IiOiAid2hpdGUiLCAibWFya2VyQ29sb3IiOiAiYmxhY2siLCAicHJlZml4IjogImZhIn0KICAgICAgICAgICAgKTsKICAgICAgICAgICAgbWFya2VyXzQ1MjA1Mjc5YzI0MDQ2MTBiNzM1NWRhZmU0NzE3MjFjLnNldEljb24oaWNvbl85ZWRkNjllZGM1MmI0YTM4YjM2Yjg3YTgzYTVmZTJlZik7CiAgICAgICAgCiAgICAKICAgICAgICAgICAgdmFyIG1hcmtlcl8yMDFhM2FkZDVmNWE0ZGU4YTBhZjE1MmM0YzlhNWMzZCA9IEwubWFya2VyKAogICAgICAgICAgICAgICAgWzM3Ljc4MTQzOTQsIC0xMjIuNDU5NjYxN10sCiAgICAgICAgICAgICAgICB7fQogICAgICAgICAgICApLmFkZFRvKG1hcF9lNjQwNjRkNTM5NTA0Zjk4OWYwMjM1OWQ0ZTdhZWRhNyk7CiAgICAgICAgCiAgICAKICAgICAgICAgICAgdmFyIGljb25fYTY2ZTg2OTBiYzZlNDU5MmJhMzQ2NTgwMWQxOWRlZjAgPSBMLkF3ZXNvbWVNYXJrZXJzLmljb24oCiAgICAgICAgICAgICAgICB7ImV4dHJhQ2xhc3NlcyI6ICJmYS1yb3RhdGUtMCIsICJpY29uIjogImdyb3VwIiwgImljb25Db2xvciI6ICJ3aGl0ZSIsICJtYXJrZXJDb2xvciI6ICJibGFjayIsICJwcmVmaXgiOiAiZmEifQogICAgICAgICAgICApOwogICAgICAgICAgICBtYXJrZXJfMjAxYTNhZGQ1ZjVhNGRlOGEwYWYxNTJjNGM5YTVjM2Quc2V0SWNvbihpY29uX2E2NmU4NjkwYmM2ZTQ1OTJiYTM0NjU4MDFkMTlkZWYwKTsKICAgICAgICAKICAgIAogICAgICAgICAgICB2YXIgbWFya2VyX2NmZDBmNTUzMjQ4ZTRmMmI5OWQzYTA4NmNjNzgzOGE0ID0gTC5tYXJrZXIoCiAgICAgICAgICAgICAgICBbMzcuNzY4MDIyNzIyMywgLTEyMi40NDczMzQzMDU3XSwKICAgICAgICAgICAgICAgIHt9CiAgICAgICAgICAgICkuYWRkVG8obWFwX2U2NDA2NGQ1Mzk1MDRmOTg5ZjAyMzU5ZDRlN2FlZGE3KTsKICAgICAgICAKICAgIAogICAgICAgICAgICB2YXIgaWNvbl9mZTY2ZTljMjNmYjQ0OTAxYTY3YjhhNTFmNmVkZmIxNiA9IEwuQXdlc29tZU1hcmtlcnMuaWNvbigKICAgICAgICAgICAgICAgIHsiZXh0cmFDbGFzc2VzIjogImZhLXJvdGF0ZS0wIiwgImljb24iOiAiZ3JvdXAiLCAiaWNvbkNvbG9yIjogIndoaXRlIiwgIm1hcmtlckNvbG9yIjogImJsYWNrIiwgInByZWZpeCI6ICJmYSJ9CiAgICAgICAgICAgICk7CiAgICAgICAgICAgIG1hcmtlcl9jZmQwZjU1MzI0OGU0ZjJiOTlkM2EwODZjYzc4MzhhNC5zZXRJY29uKGljb25fZmU2NmU5YzIzZmI0NDkwMWE2N2I4YTUxZjZlZGZiMTYpOwogICAgICAgIAogICAgCiAgICAgICAgICAgIHZhciBtYXJrZXJfZjBhMDg5MGYzM2UxNGU3Zjk4NjRiMzU1MjQxOTEyZTkgPSBMLm1hcmtlcigKICAgICAgICAgICAgICAgIFszNy43NzAzMzk1NTc1LCAtMTIyLjQ1Mjk3NDk4NTNdLAogICAgICAgICAgICAgICAge30KICAgICAgICAgICAgKS5hZGRUbyhtYXBfZTY0MDY0ZDUzOTUwNGY5ODlmMDIzNTlkNGU3YWVkYTcpOwogICAgICAgIAogICAgCiAgICAgICAgICAgIHZhciBpY29uX2NkYWMwMDQ2OTU0NjQzYTY5ZGRjMzUzZTgxOTNmOTI0ID0gTC5Bd2Vzb21lTWFya2Vycy5pY29uKAogICAgICAgICAgICAgICAgeyJleHRyYUNsYXNzZXMiOiAiZmEtcm90YXRlLTAiLCAiaWNvbiI6ICJncm91cCIsICJpY29uQ29sb3IiOiAid2hpdGUiLCAibWFya2VyQ29sb3IiOiAiYmxhY2siLCAicHJlZml4IjogImZhIn0KICAgICAgICAgICAgKTsKICAgICAgICAgICAgbWFya2VyX2YwYTA4OTBmMzNlMTRlN2Y5ODY0YjM1NTI0MTkxMmU5LnNldEljb24oaWNvbl9jZGFjMDA0Njk1NDY0M2E2OWRkYzM1M2U4MTkzZjkyNCk7CiAgICAgICAgCiAgICAKICAgICAgICAgICAgdmFyIG1hcmtlcl9hZmU3ZjVmOTlhZTM0YTg0YjBkMzUwOTI5NTJmNjZiYiA9IEwubWFya2VyKAogICAgICAgICAgICAgICAgWzM3Ljc4Mzg2Njg4NzEsIC0xMjIuNDY1NDQ5NDk3OV0sCiAgICAgICAgICAgICAgICB7fQogICAgICAgICAgICApLmFkZFRvKG1hcF9lNjQwNjRkNTM5NTA0Zjk4OWYwMjM1OWQ0ZTdhZWRhNyk7CiAgICAgICAgCiAgICAKICAgICAgICAgICAgdmFyIGljb25fMjUyMDMyMmViYzI2NDc4ZGEwNGZjMDBhMTg1ZjlhODkgPSBMLkF3ZXNvbWVNYXJrZXJzLmljb24oCiAgICAgICAgICAgICAgICB7ImV4dHJhQ2xhc3NlcyI6ICJmYS1yb3RhdGUtMCIsICJpY29uIjogImdyb3VwIiwgImljb25Db2xvciI6ICJ3aGl0ZSIsICJtYXJrZXJDb2xvciI6ICJibGFjayIsICJwcmVmaXgiOiAiZmEifQogICAgICAgICAgICApOwogICAgICAgICAgICBtYXJrZXJfYWZlN2Y1Zjk5YWUzNGE4NGIwZDM1MDkyOTUyZjY2YmIuc2V0SWNvbihpY29uXzI1MjAzMjJlYmMyNjQ3OGRhMDRmYzAwYTE4NWY5YTg5KTsKICAgICAgICAKICAgIAogICAgICAgICAgICB2YXIgbWFya2VyX2U4MDgxMGFhOTQzYjQ5YTA5ZDAwNzM3NzMxM2NmZDNkID0gTC5tYXJrZXIoCiAgICAgICAgICAgICAgICBbMzcuNzgxNDc1MjU5MiwgLTEyMi40NjY2NTcyNTkyXSwKICAgICAgICAgICAgICAgIHt9CiAgICAgICAgICAgICkuYWRkVG8obWFwX2U2NDA2NGQ1Mzk1MDRmOTg5ZjAyMzU5ZDRlN2FlZGE3KTsKICAgICAgICAKICAgIAogICAgICAgICAgICB2YXIgaWNvbl9kYjY5YmI3YjhiNTg0NDRhODhlNWNiZDcyZTY5MzIyNiA9IEwuQXdlc29tZU1hcmtlcnMuaWNvbigKICAgICAgICAgICAgICAgIHsiZXh0cmFDbGFzc2VzIjogImZhLXJvdGF0ZS0wIiwgImljb24iOiAiZ3JvdXAiLCAiaWNvbkNvbG9yIjogIndoaXRlIiwgIm1hcmtlckNvbG9yIjogImJsYWNrIiwgInByZWZpeCI6ICJmYSJ9CiAgICAgICAgICAgICk7CiAgICAgICAgICAgIG1hcmtlcl9lODA4MTBhYTk0M2I0OWEwOWQwMDczNzczMTNjZmQzZC5zZXRJY29uKGljb25fZGI2OWJiN2I4YjU4NDQ0YTg4ZTVjYmQ3MmU2OTMyMjYpOwogICAgICAgIAogICAgCiAgICAgICAgICAgIHZhciBtYXJrZXJfNDg1ZTQxMjA2M2YyNGFhZDlkNGVhZjA1MDlkODY3ZmUgPSBMLm1hcmtlcigKICAgICAgICAgICAgICAgIFszNy43NzcyNjAxMzY4LCAtMTIyLjQ2NDQ3MzYzOTNdLAogICAgICAgICAgICAgICAge30KICAgICAgICAgICAgKS5hZGRUbyhtYXBfZTY0MDY0ZDUzOTUwNGY5ODlmMDIzNTlkNGU3YWVkYTcpOwogICAgICAgIAogICAgCiAgICAgICAgICAgIHZhciBpY29uXzQyNzcxOWNjNTc4ZDRmMzI4NDdhMTQxODFhNmQ2Njc2ID0gTC5Bd2Vzb21lTWFya2Vycy5pY29uKAogICAgICAgICAgICAgICAgeyJleHRyYUNsYXNzZXMiOiAiZmEtcm90YXRlLTAiLCAiaWNvbiI6ICJncm91cCIsICJpY29uQ29sb3IiOiAid2hpdGUiLCAibWFya2VyQ29sb3IiOiAiYmxhY2siLCAicHJlZml4IjogImZhIn0KICAgICAgICAgICAgKTsKICAgICAgICAgICAgbWFya2VyXzQ4NWU0MTIwNjNmMjRhYWQ5ZDRlYWYwNTA5ZDg2N2ZlLnNldEljb24oaWNvbl80Mjc3MTljYzU3OGQ0ZjMyODQ3YTE0MTgxYTZkNjY3Nik7CiAgICAgICAgCiAgICAKICAgICAgICAgICAgdmFyIG1hcmtlcl81NTVmYTc1MzY3MWI0NzhkYjIxMTA1MThkMDQ5NjU0OSA9IEwubWFya2VyKAogICAgICAgICAgICAgICAgWzM3Ljc3NjUwMjA0NjQsIC0xMjIuNDY0MDIwMzI1Ml0sCiAgICAgICAgICAgICAgICB7fQogICAgICAgICAgICApLmFkZFRvKG1hcF9lNjQwNjRkNTM5NTA0Zjk4OWYwMjM1OWQ0ZTdhZWRhNyk7CiAgICAgICAgCiAgICAKICAgICAgICAgICAgdmFyIGljb25fZWY0OTZhNjI3NmRhNDRlODk0MTRlYmUyMDQyNWQ4ZjggPSBMLkF3ZXNvbWVNYXJrZXJzLmljb24oCiAgICAgICAgICAgICAgICB7ImV4dHJhQ2xhc3NlcyI6ICJmYS1yb3RhdGUtMCIsICJpY29uIjogImdyb3VwIiwgImljb25Db2xvciI6ICJ3aGl0ZSIsICJtYXJrZXJDb2xvciI6ICJibGFjayIsICJwcmVmaXgiOiAiZmEifQogICAgICAgICAgICApOwogICAgICAgICAgICBtYXJrZXJfNTU1ZmE3NTM2NzFiNDc4ZGIyMTEwNTE4ZDA0OTY1NDkuc2V0SWNvbihpY29uX2VmNDk2YTYyNzZkYTQ0ZTg5NDE0ZWJlMjA0MjVkOGY4KTsKICAgICAgICAKICAgIAogICAgICAgICAgICB2YXIgbWFya2VyX2M3ZjJkN2JiYmNhZjQ1MDRhZDhiZWE4OTEzZThlMmIxID0gTC5tYXJrZXIoCiAgICAgICAgICAgICAgICBbMzcuNzgxNzkxNjg3LCAtMTIyLjQ2NzI3NzUyNjldLAogICAgICAgICAgICAgICAge30KICAgICAgICAgICAgKS5hZGRUbyhtYXBfZTY0MDY0ZDUzOTUwNGY5ODlmMDIzNTlkNGU3YWVkYTcpOwogICAgICAgIAogICAgCiAgICAgICAgICAgIHZhciBpY29uX2U1NDYxNmVmNzU1MzRlZDQ4M2JhMDI4YzQ5NDYwODJlID0gTC5Bd2Vzb21lTWFya2Vycy5pY29uKAogICAgICAgICAgICAgICAgeyJleHRyYUNsYXNzZXMiOiAiZmEtcm90YXRlLTAiLCAiaWNvbiI6ICJncm91cCIsICJpY29uQ29sb3IiOiAid2hpdGUiLCAibWFya2VyQ29sb3IiOiAiYmxhY2siLCAicHJlZml4IjogImZhIn0KICAgICAgICAgICAgKTsKICAgICAgICAgICAgbWFya2VyX2M3ZjJkN2JiYmNhZjQ1MDRhZDhiZWE4OTEzZThlMmIxLnNldEljb24oaWNvbl9lNTQ2MTZlZjc1NTM0ZWQ0ODNiYTAyOGM0OTQ2MDgyZSk7CiAgICAgICAgCiAgICAKICAgICAgICAgICAgdmFyIG1hcmtlcl85NTczNTY3N2JkN2I0OGIxYjkzMzNmNDkzZGQ4OWZkMSA9IEwubWFya2VyKAogICAgICAgICAgICAgICAgWzM3Ljc2Mzg1Mjg2MzgsIC0xMjIuNDUwNDM4NDg1OF0sCiAgICAgICAgICAgICAgICB7fQogICAgICAgICAgICApLmFkZFRvKG1hcF9lNjQwNjRkNTM5NTA0Zjk4OWYwMjM1OWQ0ZTdhZWRhNyk7CiAgICAgICAgCiAgICAKICAgICAgICAgICAgdmFyIGljb25fZGNlZDhkNTM3YmJkNGU4OWI5NjJiOWQ0OGM3NzNkZjYgPSBMLkF3ZXNvbWVNYXJrZXJzLmljb24oCiAgICAgICAgICAgICAgICB7ImV4dHJhQ2xhc3NlcyI6ICJmYS1yb3RhdGUtMCIsICJpY29uIjogImdyb3VwIiwgImljb25Db2xvciI6ICJ3aGl0ZSIsICJtYXJrZXJDb2xvciI6ICJibGFjayIsICJwcmVmaXgiOiAiZmEifQogICAgICAgICAgICApOwogICAgICAgICAgICBtYXJrZXJfOTU3MzU2NzdiZDdiNDhiMWI5MzMzZjQ5M2RkODlmZDEuc2V0SWNvbihpY29uX2RjZWQ4ZDUzN2JiZDRlODliOTYyYjlkNDhjNzczZGY2KTsKICAgICAgICAKICAgIAogICAgICAgICAgICB2YXIgbWFya2VyX2E2OTc0YzIxOWM2MDQ5MTQ5OTdlNDcxODk1NjFmZmQzID0gTC5tYXJrZXIoCiAgICAgICAgICAgICAgICBbMzcuNzc5NTY0ODM4LCAtMTIyLjQ2NzQ0Nzc3MzddLAogICAgICAgICAgICAgICAge30KICAgICAgICAgICAgKS5hZGRUbyhtYXBfZTY0MDY0ZDUzOTUwNGY5ODlmMDIzNTlkNGU3YWVkYTcpOwogICAgICAgIAogICAgCiAgICAgICAgICAgIHZhciBpY29uXzEwM2FlMzFjZmNlMDQ0NmQ5MDRiZWIxOWFmZjMxZTY2ID0gTC5Bd2Vzb21lTWFya2Vycy5pY29uKAogICAgICAgICAgICAgICAgeyJleHRyYUNsYXNzZXMiOiAiZmEtcm90YXRlLTAiLCAiaWNvbiI6ICJncm91cCIsICJpY29uQ29sb3IiOiAid2hpdGUiLCAibWFya2VyQ29sb3IiOiAiYmxhY2siLCAicHJlZml4IjogImZhIn0KICAgICAgICAgICAgKTsKICAgICAgICAgICAgbWFya2VyX2E2OTc0YzIxOWM2MDQ5MTQ5OTdlNDcxODk1NjFmZmQzLnNldEljb24oaWNvbl8xMDNhZTMxY2ZjZTA0NDZkOTA0YmViMTlhZmYzMWU2Nik7CiAgICAgICAgCiAgICAKICAgICAgICAgICAgdmFyIG1hcmtlcl9jMWZiMzg2Yzg1ZmI0YWM4YWIyYzE5Y2RmMTljY2MzMyA9IEwubWFya2VyKAogICAgICAgICAgICAgICAgWzM3Ljc4Mzc5OSwgLTEyMi40NzEzNTldLAogICAgICAgICAgICAgICAge30KICAgICAgICAgICAgKS5hZGRUbyhtYXBfZTY0MDY0ZDUzOTUwNGY5ODlmMDIzNTlkNGU3YWVkYTcpOwogICAgICAgIAogICAgCiAgICAgICAgICAgIHZhciBpY29uXzdlZjc5ZjVjOGU3YTRhNzI5YWEzOTA3NmFhYmRlMTIwID0gTC5Bd2Vzb21lTWFya2Vycy5pY29uKAogICAgICAgICAgICAgICAgeyJleHRyYUNsYXNzZXMiOiAiZmEtcm90YXRlLTAiLCAiaWNvbiI6ICJncm91cCIsICJpY29uQ29sb3IiOiAid2hpdGUiLCAibWFya2VyQ29sb3IiOiAiYmxhY2siLCAicHJlZml4IjogImZhIn0KICAgICAgICAgICAgKTsKICAgICAgICAgICAgbWFya2VyX2MxZmIzODZjODVmYjRhYzhhYjJjMTljZGYxOWNjYzMzLnNldEljb24oaWNvbl83ZWY3OWY1YzhlN2E0YTcyOWFhMzkwNzZhYWJkZTEyMCk7CiAgICAgICAgCiAgICAKICAgICAgICAgICAgdmFyIG1hcmtlcl9iMjFlZjI2NTcwNDc0ZTM1YTllZWJhOTgzZmViYTg1MiA9IEwubWFya2VyKAogICAgICAgICAgICAgICAgWzM3Ljc4ODc0OTU2LCAtMTIyLjQ3MzQ1MDIxNTRdLAogICAgICAgICAgICAgICAge30KICAgICAgICAgICAgKS5hZGRUbyhtYXBfZTY0MDY0ZDUzOTUwNGY5ODlmMDIzNTlkNGU3YWVkYTcpOwogICAgICAgIAogICAgCiAgICAgICAgICAgIHZhciBpY29uX2YwZmJkYTczNzVkYTRhMGM4NWE0NTQ2MmVhZTAzNzkyID0gTC5Bd2Vzb21lTWFya2Vycy5pY29uKAogICAgICAgICAgICAgICAgeyJleHRyYUNsYXNzZXMiOiAiZmEtcm90YXRlLTAiLCAiaWNvbiI6ICJncm91cCIsICJpY29uQ29sb3IiOiAid2hpdGUiLCAibWFya2VyQ29sb3IiOiAiYmxhY2siLCAicHJlZml4IjogImZhIn0KICAgICAgICAgICAgKTsKICAgICAgICAgICAgbWFya2VyX2IyMWVmMjY1NzA0NzRlMzVhOWVlYmE5ODNmZWJhODUyLnNldEljb24oaWNvbl9mMGZiZGE3Mzc1ZGE0YTBjODVhNDU0NjJlYWUwMzc5Mik7CiAgICAgICAgCiAgICAKICAgICAgICAgICAgdmFyIG1hcmtlcl81NTgyMTI2Njk3NGY0NWIwOWRkNjJjMGU4ZWRkYTRkZSA9IEwubWFya2VyKAogICAgICAgICAgICAgICAgWzM3Ljc3NzA2NjUyOSwgLTEyMi40NzAwNTE0NTM4XSwKICAgICAgICAgICAgICAgIHt9CiAgICAgICAgICAgICkuYWRkVG8obWFwX2U2NDA2NGQ1Mzk1MDRmOTg5ZjAyMzU5ZDRlN2FlZGE3KTsKICAgICAgICAKICAgIAogICAgICAgICAgICB2YXIgaWNvbl8yOTVlNmQyOWJmOGQ0NWY3ODlhOGJmOWZjZTZhOWVjZSA9IEwuQXdlc29tZU1hcmtlcnMuaWNvbigKICAgICAgICAgICAgICAgIHsiZXh0cmFDbGFzc2VzIjogImZhLXJvdGF0ZS0wIiwgImljb24iOiAiZ3JvdXAiLCAiaWNvbkNvbG9yIjogIndoaXRlIiwgIm1hcmtlckNvbG9yIjogImJsYWNrIiwgInByZWZpeCI6ICJmYSJ9CiAgICAgICAgICAgICk7CiAgICAgICAgICAgIG1hcmtlcl81NTgyMTI2Njk3NGY0NWIwOWRkNjJjMGU4ZWRkYTRkZS5zZXRJY29uKGljb25fMjk1ZTZkMjliZjhkNDVmNzg5YThiZjlmY2U2YTllY2UpOwogICAgICAgIAogICAgCiAgICAgICAgICAgIHZhciBtYXJrZXJfYmIzMDI5YzFjNTg2NDE3MTlkNjM1MjE4M2IwYjg5Y2QgPSBMLm1hcmtlcigKICAgICAgICAgICAgICAgIFszNy43ODA0MDY5NTE5LCAtMTIyLjQ3MzEzNjkwMTldLAogICAgICAgICAgICAgICAge30KICAgICAgICAgICAgKS5hZGRUbyhtYXBfZTY0MDY0ZDUzOTUwNGY5ODlmMDIzNTlkNGU3YWVkYTcpOwogICAgICAgIAogICAgCiAgICAgICAgICAgIHZhciBpY29uXzMxMmNjNTJhYzU5YzQ5YWY4YzM3Y2FkNWU1ZmUyNWQzID0gTC5Bd2Vzb21lTWFya2Vycy5pY29uKAogICAgICAgICAgICAgICAgeyJleHRyYUNsYXNzZXMiOiAiZmEtcm90YXRlLTAiLCAiaWNvbiI6ICJncm91cCIsICJpY29uQ29sb3IiOiAid2hpdGUiLCAibWFya2VyQ29sb3IiOiAiYmxhY2siLCAicHJlZml4IjogImZhIn0KICAgICAgICAgICAgKTsKICAgICAgICAgICAgbWFya2VyX2JiMzAyOWMxYzU4NjQxNzE5ZDYzNTIxODNiMGI4OWNkLnNldEljb24oaWNvbl8zMTJjYzUyYWM1OWM0OWFmOGMzN2NhZDVlNWZlMjVkMyk7CiAgICAgICAgCiAgICAKICAgICAgICAgICAgdmFyIG1hcmtlcl9iOTMzYjZiOTczMjg0M2FkYmE4ODU2NWMyYjhlMzYzOCA9IEwubWFya2VyKAogICAgICAgICAgICAgICAgWzM3Ljc4MDY3ODY4NjQsIC0xMjIuNDczNTE5OTk5NF0sCiAgICAgICAgICAgICAgICB7fQogICAgICAgICAgICApLmFkZFRvKG1hcF9lNjQwNjRkNTM5NTA0Zjk4OWYwMjM1OWQ0ZTdhZWRhNyk7CiAgICAgICAgCiAgICAKICAgICAgICAgICAgdmFyIGljb25fNDg3YjRmY2M3OWZkNDBkMGI2MWUxZDYxMzYwMjA2MmMgPSBMLkF3ZXNvbWVNYXJrZXJzLmljb24oCiAgICAgICAgICAgICAgICB7ImV4dHJhQ2xhc3NlcyI6ICJmYS1yb3RhdGUtMCIsICJpY29uIjogImdyb3VwIiwgImljb25Db2xvciI6ICJ3aGl0ZSIsICJtYXJrZXJDb2xvciI6ICJibGFjayIsICJwcmVmaXgiOiAiZmEifQogICAgICAgICAgICApOwogICAgICAgICAgICBtYXJrZXJfYjkzM2I2Yjk3MzI4NDNhZGJhODg1NjVjMmI4ZTM2Mzguc2V0SWNvbihpY29uXzQ4N2I0ZmNjNzlmZDQwZDBiNjFlMWQ2MTM2MDIwNjJjKTsKICAgICAgICAKICAgIAogICAgICAgICAgICB2YXIgbWFya2VyXzhjZmM4MDhhNWM1OTQ1YjJiNzIwNDI3ZWQ1YTI2MjZmID0gTC5tYXJrZXIoCiAgICAgICAgICAgICAgICBbMzcuNzk4NTY2LCAtMTIyLjQyMjE0OF0sCiAgICAgICAgICAgICAgICB7fQogICAgICAgICAgICApLmFkZFRvKG1hcF9lNjQwNjRkNTM5NTA0Zjk4OWYwMjM1OWQ0ZTdhZWRhNyk7CiAgICAgICAgCiAgICAKICAgICAgICAgICAgdmFyIGljb25fYjYyZTAyYzQ1YjE0NGFiOTgxMzlkYTQyZGYzOTA2MGQgPSBMLkF3ZXNvbWVNYXJrZXJzLmljb24oCiAgICAgICAgICAgICAgICB7ImV4dHJhQ2xhc3NlcyI6ICJmYS1yb3RhdGUtMCIsICJpY29uIjogImdsYXNzIiwgImljb25Db2xvciI6ICJ3aGl0ZSIsICJtYXJrZXJDb2xvciI6ICJkYXJrZ3JlZW4iLCAicHJlZml4IjogImZhIn0KICAgICAgICAgICAgKTsKICAgICAgICAgICAgbWFya2VyXzhjZmM4MDhhNWM1OTQ1YjJiNzIwNDI3ZWQ1YTI2MjZmLnNldEljb24oaWNvbl9iNjJlMDJjNDViMTQ0YWI5ODEzOWRhNDJkZjM5MDYwZCk7CiAgICAgICAgCiAgICAKICAgICAgICAgICAgdmFyIG1hcmtlcl9mMjY2NDU0NDdkYjI0OWE4YmUwZWEzYWVmNDQxM2NkYSA9IEwubWFya2VyKAogICAgICAgICAgICAgICAgWzM3Ljc5MzM2OTk4NTEsIC0xMjIuNDIyNzkwNTc3N10sCiAgICAgICAgICAgICAgICB7fQogICAgICAgICAgICApLmFkZFRvKG1hcF9lNjQwNjRkNTM5NTA0Zjk4OWYwMjM1OWQ0ZTdhZWRhNyk7CiAgICAgICAgCiAgICAKICAgICAgICAgICAgdmFyIGljb25fZGEyYzM3N2E5NWM3NDJlNTk5MGQxMGM5NzNhMDg2MmUgPSBMLkF3ZXNvbWVNYXJrZXJzLmljb24oCiAgICAgICAgICAgICAgICB7ImV4dHJhQ2xhc3NlcyI6ICJmYS1yb3RhdGUtMCIsICJpY29uIjogImdsYXNzIiwgImljb25Db2xvciI6ICJ3aGl0ZSIsICJtYXJrZXJDb2xvciI6ICJkYXJrZ3JlZW4iLCAicHJlZml4IjogImZhIn0KICAgICAgICAgICAgKTsKICAgICAgICAgICAgbWFya2VyX2YyNjY0NTQ0N2RiMjQ5YThiZTBlYTNhZWY0NDEzY2RhLnNldEljb24oaWNvbl9kYTJjMzc3YTk1Yzc0MmU1OTkwZDEwYzk3M2EwODYyZSk7CiAgICAgICAgCiAgICAKICAgICAgICAgICAgdmFyIG1hcmtlcl9lNTE5MGI0M2ZmNzE0MWFmOGNhOTNiNGU0MWQ3MzEzNiA9IEwubWFya2VyKAogICAgICAgICAgICAgICAgWzM3Ljc5Mjc5MTg4OTIsIC0xMjIuNDIxMTYxMDYyNV0sCiAgICAgICAgICAgICAgICB7fQogICAgICAgICAgICApLmFkZFRvKG1hcF9lNjQwNjRkNTM5NTA0Zjk4OWYwMjM1OWQ0ZTdhZWRhNyk7CiAgICAgICAgCiAgICAKICAgICAgICAgICAgdmFyIGljb25fNDgxZDhjMzA4N2Y5NDk3Y2EwNTA1ZjE3N2M1MDBlNzMgPSBMLkF3ZXNvbWVNYXJrZXJzLmljb24oCiAgICAgICAgICAgICAgICB7ImV4dHJhQ2xhc3NlcyI6ICJmYS1yb3RhdGUtMCIsICJpY29uIjogImdsYXNzIiwgImljb25Db2xvciI6ICJ3aGl0ZSIsICJtYXJrZXJDb2xvciI6ICJkYXJrZ3JlZW4iLCAicHJlZml4IjogImZhIn0KICAgICAgICAgICAgKTsKICAgICAgICAgICAgbWFya2VyX2U1MTkwYjQzZmY3MTQxYWY4Y2E5M2I0ZTQxZDczMTM2LnNldEljb24oaWNvbl80ODFkOGMzMDg3Zjk0OTdjYTA1MDVmMTc3YzUwMGU3Myk7CiAgICAgICAgCjwvc2NyaXB0Pg== onload=\"this.contentDocument.open();this.contentDocument.write(atob(this.getAttribute('data-html')));this.contentDocument.close();\" allowfullscreen webkitallowfullscreen mozallowfullscreen></iframe></div></div>"
      ],
      "text/plain": [
       "<folium.folium.Map at 0x116970a50>"
      ]
     },
     "execution_count": 78,
     "metadata": {},
     "output_type": "execute_result"
    }
   ],
   "source": [
    "m = Map(location=[37.796164, -122.420903],zoom_start=16)\n",
    "\n",
    "for i, row in df_offi_veganSF.iterrows():\n",
    "        icon = Icon(\n",
    "                color=\"red\",\n",
    "                prefix=\"fa\",\n",
    "                icon=\"trophy\"\n",
    "            )\n",
    "    \n",
    "        Marker(\n",
    "            location=row[[\"latitude\",\"longitude\"]],\n",
    "            icon=icon\n",
    "        ).add_to(m)\n",
    "        \n",
    "        \n",
    "for i, row in df_nearby_starbucks.iterrows():\n",
    "        icon = Icon(\n",
    "                color=\"green\",\n",
    "                prefix=\"fa\",\n",
    "                icon=\"coffee\"\n",
    "            )\n",
    "    \n",
    "        Marker(\n",
    "            location=row[[\"latitude\",\"longitude\"]],\n",
    "            icon=icon\n",
    "        ).add_to(m)\n",
    "        \n",
    "        \n",
    "for i, row in df_nearby_airports.iterrows():\n",
    "        icon = Icon(\n",
    "                color=\"blue\",\n",
    "                prefix=\"fa\",\n",
    "                icon=\"plane\"\n",
    "            )\n",
    "    \n",
    "        Marker(\n",
    "            location=row[[\"latitude\",\"longitude\"]],\n",
    "            icon=icon\n",
    "        ).add_to(m)\n",
    "        \n",
    "        \n",
    "for i, row in df_nearby_schools.iterrows():\n",
    "        icon = Icon(\n",
    "                color=\"black\",\n",
    "                prefix=\"fa\",\n",
    "                icon=\"group\"\n",
    "            )\n",
    "    \n",
    "        Marker(\n",
    "            location=row[[\"latitude\",\"longitude\"]],\n",
    "            icon=icon\n",
    "        ).add_to(m)\n",
    "        \n",
    "        \n",
    "for i, row in df_nearby_vegan.iterrows():\n",
    "        icon = Icon(\n",
    "                color=\"darkgreen\",\n",
    "                prefix=\"fa\",\n",
    "                icon=\"glass\"\n",
    "            )\n",
    "    \n",
    "        Marker(\n",
    "            location=row[[\"latitude\",\"longitude\"]],\n",
    "            icon=icon\n",
    "        ).add_to(m)\n",
    "        \n",
    "        \n",
    "        \n",
    "m"
   ]
  },
  {
   "cell_type": "markdown",
   "metadata": {},
   "source": [
    "**The Trophy symbolizes the perfect spot for the new offices. There's a Starbucks, 3 vegan restaurants and 2 schools minutes away and an airport not further away than 20km**"
   ]
  },
  {
   "cell_type": "code",
   "execution_count": null,
   "metadata": {},
   "outputs": [],
   "source": []
  }
 ],
 "metadata": {
  "kernelspec": {
   "display_name": "Python 3",
   "language": "python",
   "name": "python3"
  },
  "language_info": {
   "codemirror_mode": {
    "name": "ipython",
    "version": 3
   },
   "file_extension": ".py",
   "mimetype": "text/x-python",
   "name": "python",
   "nbconvert_exporter": "python",
   "pygments_lexer": "ipython3",
   "version": "3.7.7"
  }
 },
 "nbformat": 4,
 "nbformat_minor": 4
}
